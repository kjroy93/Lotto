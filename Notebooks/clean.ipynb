{
 "cells": [
  {
   "cell_type": "code",
   "execution_count": null,
   "metadata": {},
   "outputs": [],
   "source": [
    "import sys\n",
    "sys.path.append('C:\\Proyectos\\Loteria\\Database')\n",
    "import time\n",
    "import pandas as pd\n",
    "from datetime import datetime\n",
    "from scrapping import euro_scraping\n",
    "\n",
    "def days_sum(day, change):\n",
    "    date = day + change\n",
    "    return date\n",
    "\n",
    "def clean_df(df):\n",
    "    df_clean = {\n",
    "    'Sorteo': \"int64\",\n",
    "    'Nro1': \"int64\",\n",
    "    'Nro2': \"int64\",\n",
    "    'Nro3': \"int64\",\n",
    "    'Nro4': \"int64\",\n",
    "    'Nro5': \"int64\",\n",
    "    'Star_1': \"int64\",\n",
    "    'Star_2': \"int64\"\n",
    "    }\n",
    "    df = df.astype(df_clean)\n",
    "    return df"
   ]
  },
  {
   "cell_type": "code",
   "execution_count": null,
   "metadata": {},
   "outputs": [],
   "source": [
    "data = euro_scraping()\n",
    "data.drop('Dates', axis=1, inplace=True)\n",
    "data = data.reindex(columns=['Sorteo', 'Nro1', 'Nro2', 'Nro3', 'Nro4', 'Nro5', 'Star_1', 'Star_2'])\n",
    "data['Sorteo'] = range(1,len(data)+1)\n",
    "update_dict = {'Nro1': 3, 'Nro2': 31, 'Nro3': 41, 'Nro4': 48, 'Nro5': 50, 'Star_1': 8, 'Star_2': 11}\n",
    "data.loc[1088, update_dict.keys()] = update_dict.values()\n",
    "data = clean_df(data)\n",
    "data.iloc[:, 1:6] = data.iloc[:, 1:6].apply(lambda x: pd.Series(sorted(x)), axis=1)\n",
    "data.iloc[:, 6:8] = data.iloc[:, 6:8].apply(lambda x: pd.Series(sorted(x)), axis=1)\n"
   ]
  },
  {
   "cell_type": "code",
   "execution_count": null,
   "metadata": {},
   "outputs": [],
   "source": [
    "entry_point = time.mktime((2004, 2, 6, 0, 0, 0, 0, 0, 0)) # reference for math - first Friday of February 2004\n",
    "Tuesday = time.mktime((2004, 2, 10, 0, 0, 0, 0, 0, 0)) # reference for math with four days of difference\n",
    "first_draw = time.mktime((2004, 2, 13, 0, 0, 0, 0, 0, 0)) # this is the first draws of Euro Millions\n",
    "change_draw = time.mktime((2011, 5, 6, 0, 0, 0, 0, 0, 0)) # this is the Last draw of the old rule: one draw per week\n",
    "next_week = first_draw - entry_point\n",
    "next_Tuesday = Tuesday - entry_point\n",
    "Tuesday_Friday = first_draw - Tuesday\n",
    "\n",
    "dates = []\n",
    "dates1 = []\n",
    "\n",
    "for i in range(378):\n",
    "    entry_point = days_sum(entry_point, next_week)\n",
    "    dates.append(entry_point)\n",
    "\n",
    "for i in range(379,len(data)+1):\n",
    "    if i % 2:\n",
    "        change_draw = days_sum(change_draw, next_Tuesday)\n",
    "    else:\n",
    "        change_draw = days_sum(change_draw, Tuesday_Friday)\n",
    "    dates1.append(change_draw)\n",
    "\n",
    "df = pd.DataFrame(list(map(datetime.fromtimestamp, dates)))\n",
    "df1 = pd.DataFrame(list(map(datetime.fromtimestamp, dates1)))\n",
    "frames = [df, df1]\n",
    "result = pd.concat(frames, ignore_index = True)\n",
    "result = result.rename(columns = {0: 'Dates'})\n",
    "database = pd.concat([result, data], axis = 1, join = 'inner')\n",
    "database['Dates'] = database['Dates'].dt.floor('d')"
   ]
  }
 ],
 "metadata": {
  "kernelspec": {
   "display_name": "EntornoPruebas",
   "language": "python",
   "name": "python3"
  },
  "language_info": {
   "codemirror_mode": {
    "name": "ipython",
    "version": 3
   },
   "file_extension": ".py",
   "mimetype": "text/x-python",
   "name": "python",
   "nbconvert_exporter": "python",
   "pygments_lexer": "ipython3",
   "version": "3.11.0"
  },
  "orig_nbformat": 4
 },
 "nbformat": 4,
 "nbformat_minor": 2
}
