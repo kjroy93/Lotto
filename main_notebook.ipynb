{
 "cells": [
  {
   "cell_type": "code",
   "execution_count": 1,
   "id": "f3bda654",
   "metadata": {},
   "outputs": [],
   "source": [
    "# Libraries\n",
    "import sys\n",
    "import time\n",
    "\n",
    "# Dependencies\n",
    "import pandas as pd\n",
    "import numpy as np\n",
    "\n",
    "# Libraries proper of this proyect\n",
    "from database.clean_database import database\n",
    "from data_analisys.data_functions import draw_generator, numbers_boolean, first_df_bool\n",
    "from data_analisys.numbers_analisys import analisys\n",
    "from collections import Counter"
   ]
  },
  {
   "cell_type": "code",
   "execution_count": 2,
   "id": "5d4f7b74",
   "metadata": {},
   "outputs": [],
   "source": [
    "\"\"\"Constants of the main code for numbers analisys\"\"\"\n",
    "# Main Database to calculate the first DataFrame main_df_counts\n",
    "db = database()\n",
    "db_slice = db\n",
    "lenght = len(db)\n",
    "\n",
    "# Array of numbers\n",
    "total_numbers = np.arange(1,51)\n",
    "\n",
    "# Create a template DataFrame with all values set to False\n",
    "skip_winners_bool = pd.DataFrame(False, columns=[str(i) for i in range(1, 51)], index=range(len(db)))\n",
    "    \n",
    "# Fill in the True values\n",
    "main_boolean_df = numbers_boolean(db, skip_winners_bool, total_numbers)\n",
    "\n",
    "# Main DataFrame to be updated with new draws in function analisys\n",
    "main_df_counts = first_df_bool(db, total_numbers)"
   ]
  },
  {
   "cell_type": "code",
   "execution_count": 4,
   "id": "70aa8fce",
   "metadata": {},
   "outputs": [
    {
     "name": "stdout",
     "output_type": "stream",
     "text": [
      "i = 1626Tiempo de ejecución: 947.26 segundos\n"
     ]
    }
   ],
   "source": [
    "start_time = time.time()\n",
    "\n",
    "succes = []\n",
    "failure = []\n",
    "for draw in draw_generator(lenght):\n",
    "    db_resultados = db_slice.head(draw)\n",
    "    recommended_numbers, not_recommended_numbers, main_counts = analisys(db_resultados, main_boolean_df, main_df_counts)\n",
    "    main_df_counts = main_counts\n",
    "    row = db.loc[draw,['Nro1','Nro2','Nro3','Nro4','Nro5']]\n",
    "    column = recommended_numbers.loc[:, 'Numbers']\n",
    "    result = column.isin(row).sum()\n",
    "    succes.append(result)\n",
    "    failure.append(5-result)\n",
    "    sys.stdout.write(f\"\\ri = {draw}\")\n",
    "    sys.stdout.flush()\n",
    "    \n",
    "end_time = time.time()\n",
    "print(f\"Tiempo de ejecución: {end_time - start_time:.2f} segundos\")"
   ]
  },
  {
   "cell_type": "code",
   "execution_count": 10,
   "id": "273bd529",
   "metadata": {},
   "outputs": [
    {
     "name": "stdout",
     "output_type": "stream",
     "text": [
      "i = 1626Tiempo de ejecución: 1.37 segundos\n"
     ]
    }
   ],
   "source": [
    "start_time = time.time()\n",
    "\n",
    "random_succes = []\n",
    "random_failure = []\n",
    "for draw in draw_generator(lenght):\n",
    "    db_resultados = db_slice.head(draw)\n",
    "    row = db.loc[draw,['Nro1','Nro2','Nro3','Nro4','Nro5']]\n",
    "    random_numbers = np.random.choice(range(1, 51), size=25, replace=False)\n",
    "    result = np.isin(row, random_numbers).sum()\n",
    "    random_succes.append(result)\n",
    "    random_failure.append(5-result)\n",
    "    sys.stdout.write(f\"\\ri = {draw}\")\n",
    "    sys.stdout.flush()\n",
    "\n",
    "end_time = time.time()\n",
    "print(f\"Tiempo de ejecución: {end_time - start_time:.2f} segundos\")"
   ]
  },
  {
   "cell_type": "code",
   "execution_count": 11,
   "id": "36b14038",
   "metadata": {},
   "outputs": [
    {
     "name": "stdout",
     "output_type": "stream",
     "text": [
      "0 aciertos: 41\n",
      "2.54%\n",
      "1 aciertos: 212\n",
      "13.13%\n",
      "2 aciertos: 499\n",
      "30.9%\n",
      "3 aciertos: 566\n",
      "35.05%\n",
      "4 aciertos: 254\n",
      "15.73%\n",
      "5 aciertos: 43\n",
      "2.66%\n",
      "0 aciertos: 37\n",
      "2.29%\n",
      "1 aciertos: 231\n",
      "14.3%\n",
      "2 aciertos: 532\n",
      "32.94%\n",
      "3 aciertos: 538\n",
      "33.31%\n",
      "4 aciertos: 241\n",
      "14.92%\n",
      "5 aciertos: 36\n",
      "2.23%\n"
     ]
    }
   ],
   "source": [
    "c = Counter(succes)\n",
    "x = Counter(failure)\n",
    "y = Counter(random_succes)\n",
    "z = Counter(random_failure)\n",
    "\n",
    "# Imprimir la cantidad de aciertos para cada número de aciertos posibles\n",
    "for i in range(6):\n",
    "    hits = (succes.count(i)/len(succes))*100\n",
    "    print(f\"{i} aciertos: {c[i]}\\n{round(hits,2)}%\")\n",
    "\n",
    "for e in range(6):\n",
    "    nohits = (random_succes.count(e)/len(random_succes))*100\n",
    "    print(f\"{e} aciertos: {y[e]}\\n{round(nohits,2)}%\")"
   ]
  }
 ],
 "metadata": {
  "kernelspec": {
   "display_name": "Python 3 (ipykernel)",
   "language": "python",
   "name": "python3"
  },
  "language_info": {
   "codemirror_mode": {
    "name": "ipython",
    "version": 3
   },
   "file_extension": ".py",
   "mimetype": "text/x-python",
   "name": "python",
   "nbconvert_exporter": "python",
   "pygments_lexer": "ipython3",
   "version": "3.11.0"
  }
 },
 "nbformat": 4,
 "nbformat_minor": 5
}
