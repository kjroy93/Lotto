{
 "cells": [
  {
   "cell_type": "code",
   "execution_count": null,
   "id": "d4e5821f",
   "metadata": {},
   "outputs": [],
   "source": [
    "from datetime import datetime, timedelta\n",
    "import time\n",
    "import pandas as pd\n",
    "import calendar"
   ]
  },
  {
   "cell_type": "code",
   "execution_count": null,
   "id": "5017c23e",
   "metadata": {},
   "outputs": [],
   "source": [
    "draws = pd.read_csv('base_de_datos.csv', dtype={'Sorteos': \"string\"}, parse_dates=['Dates'])"
   ]
  },
  {
   "cell_type": "code",
   "execution_count": null,
   "id": "e13a7b9e",
   "metadata": {},
   "outputs": [],
   "source": [
    "df = pd.DataFrame(columns=['Dates', 'Sorteos', 'Nro1', 'Nro2', 'Nro3', 'Nro4', 'Nro5', 'Star_1', 'Star_2'])\n",
    "\n",
    "print(\"\"\"Bienvenido a tu base de datos. Dime, ¿quieres actualizar los datos que tienes?\n",
    "1. Sí\n",
    "2. No\"\"\")\n",
    "\n",
    "answer = int(input(\"\"))\n",
    "\n",
    "while answer != 1:\n",
    "    print(\"Esperando instrucciones\")\n",
    "    answer = int(input())\n",
    "    \n",
    "for date in draws['Dates']:\n",
    "    audit_date_3_days = timedelta(days = 3)\n",
    "    audit_date_4_days = timedelta(days = 4)\n"
   ]
  }
 ],
 "metadata": {
  "kernelspec": {
   "display_name": "Python 3 (ipykernel)",
   "language": "python",
   "name": "python3"
  },
  "language_info": {
   "codemirror_mode": {
    "name": "ipython",
    "version": 3
   },
   "file_extension": ".py",
   "mimetype": "text/x-python",
   "name": "python",
   "nbconvert_exporter": "python",
   "pygments_lexer": "ipython3",
   "version": "3.10.7"
  }
 },
 "nbformat": 4,
 "nbformat_minor": 5
}
