{
 "cells": [
  {
   "cell_type": "code",
   "execution_count": null,
   "id": "22d24a42",
   "metadata": {},
   "outputs": [],
   "source": [
    "import time\n",
    "from datetime import datetime, timedelta\n",
    "import pandas as pd\n",
    "import numpy as np"
   ]
  },
  {
   "cell_type": "code",
   "execution_count": null,
   "id": "a0c53878",
   "metadata": {},
   "outputs": [],
   "source": [
    "db = pd.read_csv('base_de_datos.csv', dtype={'Sorteos': \"string\"}, parse_dates=['Dates'])"
   ]
  },
  {
   "cell_type": "code",
   "execution_count": null,
   "id": "c1582449",
   "metadata": {},
   "outputs": [],
   "source": [
    "numbers = pd.DataFrame(columns=[number for number in range(51)]).astype(\"int64\")\n",
    "numbers = numbers.rename(columns={0: 'Sorteos'})\n",
    "df_clean = {'Sorteos': \"string\"}\n",
    "numbers = numbers.astype(df_clean)"
   ]
  },
  {
   "cell_type": "code",
   "execution_count": null,
   "id": "67622cfb",
   "metadata": {},
   "outputs": [],
   "source": [
    "numbers"
   ]
  },
  {
   "cell_type": "code",
   "execution_count": null,
   "id": "a17d320c",
   "metadata": {},
   "outputs": [],
   "source": [
    "list_of_numbers = [] # index of numbers\n",
    "list_of_stars = [] # index of stars\n",
    "for i in range(1, 51):\n",
    "    list_of_numbers.append(i)\n",
    "print(list_of_numbers)\n",
    "for i in range(1, 13):\n",
    "    list_of_stars.append(i)\n",
    "print(list_of_stars)"
   ]
  },
  {
   "cell_type": "code",
   "execution_count": null,
   "id": "d7d6b251",
   "metadata": {},
   "outputs": [],
   "source": [
    "winners = db.iloc[:, 2:7]"
   ]
  },
  {
   "cell_type": "code",
   "execution_count": null,
   "id": "a547dd59",
   "metadata": {},
   "outputs": [],
   "source": [
    "rows = db[db['Nro1'] == 1]\n",
    "print(rows)"
   ]
  },
  {
   "cell_type": "code",
   "execution_count": null,
   "id": "cb14339a",
   "metadata": {},
   "outputs": [],
   "source": [
    "for number in winners:\n",
    "    if number == i"
   ]
  },
  {
   "cell_type": "code",
   "execution_count": null,
   "id": "d504b78a",
   "metadata": {},
   "outputs": [],
   "source": [
    "winners = winners[0:1]"
   ]
  },
  {
   "cell_type": "code",
   "execution_count": null,
   "id": "b45d040b",
   "metadata": {},
   "outputs": [],
   "source": [
    "draws = draws.iloc[:, 0]"
   ]
  },
  {
   "cell_type": "code",
   "execution_count": null,
   "id": "e40a8b6b",
   "metadata": {},
   "outputs": [],
   "source": []
  },
  {
   "cell_type": "code",
   "execution_count": null,
   "id": "f4a1af61",
   "metadata": {},
   "outputs": [],
   "source": []
  }
 ],
 "metadata": {
  "kernelspec": {
   "display_name": "Python 3 (ipykernel)",
   "language": "python",
   "name": "python3"
  },
  "language_info": {
   "codemirror_mode": {
    "name": "ipython",
    "version": 3
   },
   "file_extension": ".py",
   "mimetype": "text/x-python",
   "name": "python",
   "nbconvert_exporter": "python",
   "pygments_lexer": "ipython3",
   "version": "3.10.7"
  }
 },
 "nbformat": 4,
 "nbformat_minor": 5
}
