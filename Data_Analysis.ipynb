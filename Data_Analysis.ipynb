{
 "cells": [
  {
   "cell_type": "code",
   "execution_count": 1,
   "id": "22d24a42",
   "metadata": {},
   "outputs": [],
   "source": [
    "from scrapping import get_data\n",
    "import time\n",
    "from datetime import datetime, timedelta\n",
    "import pandas as pd\n",
    "import numpy as np\n",
    "from time import sleep"
   ]
  },
  {
   "cell_type": "code",
   "execution_count": 2,
   "id": "a0c53878",
   "metadata": {},
   "outputs": [],
   "source": [
    "db = pd.read_csv('base_de_datos.csv', dtype = {'Sorteos': \"string\"}, parse_dates = ['Dates'])\n",
    "winners = db.iloc[:, 1:7].set_index(['Sorteos'])\n",
    "df_0 = pd.DataFrame(columns = [str(i) for i in range(1, 51)], index = [0]).fillna(True)\n",
    "winners = pd.concat([df_0, winners], ignore_index = True).reset_index(drop = True)\n",
    "\n",
    "for e in range(1, 6):\n",
    "    for i in range(1, 51):\n",
    "        winners.loc[winners[f\"Nro{e}\"] == i, f\"{i}\"] = True\n",
    "\n",
    "winners.drop(columns = [\"Nro1\",\"Nro2\",\"Nro3\",\"Nro4\",\"Nro5\"], inplace = True)\n",
    "winners.drop(columns = winners.iloc[:, 50:100], inplace = True)"
   ]
  },
  {
   "cell_type": "code",
   "execution_count": 3,
   "id": "a850f235",
   "metadata": {},
   "outputs": [],
   "source": [
    "draws = list(np.arange(1, len(winners)))\n",
    "c = [str(i) for i in range(1, 51)]\n",
    "dicts = {draw: {key:[] for key in c} for draw in draws}"
   ]
  },
  {
   "cell_type": "code",
   "execution_count": 4,
   "id": "471da0e4",
   "metadata": {},
   "outputs": [],
   "source": [
    "contador = 0\n",
    "e = 0\n",
    "\n",
    "while e != len(winners) - 1:\n",
    "    for columns in winners:\n",
    "        df = winners.loc[:draws[e]]\n",
    "        for i in reversed(df[columns]):\n",
    "            if i is not True:\n",
    "                contador += 1\n",
    "            else:\n",
    "                dicts[draws[e]].update({columns:contador})\n",
    "                contador = 0\n",
    "                break\n",
    "    e += 1\n",
    "\n",
    "skip_numbers = pd.DataFrame.from_dict(dicts, orient = 'index')"
   ]
  },
  {
   "cell_type": "code",
   "execution_count": 5,
   "id": "a610ad4e",
   "metadata": {},
   "outputs": [],
   "source": [
    "last_draw = sorted(dicts[len(skip_numbers)].items(), key = lambda x: x[1])\n",
    "last_draw = [t[::-1] for t in last_draw]\n",
    "last_draw = [(a, int(b)) for a,b in last_draw]\n",
    "ld_skips = pd.DataFrame(last_draw).groupby(0)[1].apply(list).reset_index().rename({0: 'Skip', 1: 'Numbers'}, axis = 1)"
   ]
  },
  {
   "cell_type": "code",
   "execution_count": 6,
   "id": "bb28dd78",
   "metadata": {},
   "outputs": [],
   "source": [
    "x_12 = np.arange(len(skip_numbers) - 12, len(skip_numbers) + 1)\n",
    "sk_12 = skip_numbers.loc[x_12]"
   ]
  },
  {
   "cell_type": "code",
   "execution_count": 7,
   "id": "a3b5badb",
   "metadata": {},
   "outputs": [],
   "source": [
    "l = []\n",
    "\n",
    "for i in range(len(sk_12) - 12, len(sk_12)):\n",
    "    columns = range(1, 50)\n",
    "    for column in columns:\n",
    "        if sk_12.iloc[i, column] == 0:\n",
    "            l.append(sk_12.loc[x_12[i - 1], str(column + 1)])"
   ]
  },
  {
   "cell_type": "code",
   "execution_count": 12,
   "id": "dff08b52",
   "metadata": {},
   "outputs": [
    {
     "name": "stdout",
     "output_type": "stream",
     "text": [
      "[5, 14, 2, 25, 2, 30, 0, 10, 4, 13, 29, 3, 9, 3, 10, 10, 40, 1, 2, 2, 3, 9, 18, 7, 6, 13, 12, 11, 8, 5, 27, 13, 0, 4, 1, 13, 27, 9, 24, 7, 0, 2, 7, 8, 3, 5, 5, 7, 41, 0, 21, 14, 21, 3, 7, 2, 15, 6, 7, 3]\n"
     ]
    }
   ],
   "source": [
    "print(l)"
   ]
  },
  {
   "cell_type": "code",
   "execution_count": 16,
   "id": "15cf4738",
   "metadata": {},
   "outputs": [
    {
     "data": {
      "text/plain": [
       "[13,\n",
       " 12,\n",
       " 11,\n",
       " 8,\n",
       " 5,\n",
       " 27,\n",
       " 13,\n",
       " 0,\n",
       " 4,\n",
       " 1,\n",
       " 13,\n",
       " 27,\n",
       " 9,\n",
       " 24,\n",
       " 7,\n",
       " 0,\n",
       " 2,\n",
       " 7,\n",
       " 8,\n",
       " 3,\n",
       " 5,\n",
       " 5,\n",
       " 7,\n",
       " 41,\n",
       " 0,\n",
       " 21,\n",
       " 14,\n",
       " 21,\n",
       " 3,\n",
       " 7,\n",
       " 2,\n",
       " 15,\n",
       " 6,\n",
       " 7,\n",
       " 3]"
      ]
     },
     "execution_count": 16,
     "metadata": {},
     "output_type": "execute_result"
    }
   ],
   "source": [
    "l[25:60]"
   ]
  },
  {
   "cell_type": "code",
   "execution_count": null,
   "id": "7d043ce0",
   "metadata": {},
   "outputs": [],
   "source": []
  },
  {
   "cell_type": "code",
   "execution_count": null,
   "id": "618ae346",
   "metadata": {},
   "outputs": [],
   "source": []
  },
  {
   "cell_type": "code",
   "execution_count": null,
   "id": "2023ad92",
   "metadata": {},
   "outputs": [],
   "source": [
    "ld_skips.loc[2, 'Numbers'][0]"
   ]
  },
  {
   "cell_type": "code",
   "execution_count": null,
   "id": "f255cc8e",
   "metadata": {},
   "outputs": [],
   "source": [
    "# values = list(set(val for dic in [ultimo_sorteo] for val in dic.values()))"
   ]
  }
 ],
 "metadata": {
  "kernelspec": {
   "display_name": "Python 3 (ipykernel)",
   "language": "python",
   "name": "python3"
  },
  "language_info": {
   "codemirror_mode": {
    "name": "ipython",
    "version": 3
   },
   "file_extension": ".py",
   "mimetype": "text/x-python",
   "name": "python",
   "nbconvert_exporter": "python",
   "pygments_lexer": "ipython3",
   "version": "3.10.7"
  }
 },
 "nbformat": 4,
 "nbformat_minor": 5
}
