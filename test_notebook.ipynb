{
 "cells": [
  {
   "cell_type": "code",
   "execution_count": 1,
   "metadata": {},
   "outputs": [],
   "source": [
    "# Imports\n",
    "# Standard Libraries of Python\n",
    "import itertools\n",
    "from collections import Counter\n",
    "from typing import Tuple, Union\n",
    "from decimal import Decimal, ROUND_HALF_UP, getcontext\n",
    "from datetime import datetime\n",
    "getcontext().prec = 5\n",
    "from sklearn.ensemble import RandomForestClassifier\n",
    "from sklearn.model_selection import train_test_split, cross_val_score\n",
    "from sklearn.metrics import accuracy_score\n",
    "\n",
    "# Dependencies\n",
    "import pandas as pd\n",
    "import numpy as np\n",
    "from pandas import DataFrame, Index\n",
    "\n",
    "# Libraries made for this Proyect\n",
    "from backend.src.parse import Criteria\n",
    "from backend.src import pick_numbers\n",
    "file_route = 'database/files/'"
   ]
  },
  {
   "cell_type": "code",
   "execution_count": null,
   "metadata": {},
   "outputs": [],
   "source": [
    "def clean_df_skips(df: DataFrame,columns_id,name) -> DataFrame:\n",
    "    df.columns = columns_id\n",
    "    df.columns.name = name\n",
    "    df.index.name = 'Draws'\n",
    "    return df\n",
    "\n",
    "def combination_df(database,low_high_counts,odd_even_counts):\n",
    "    COMBINATIONS = [(3,2), (2,3), (1,4), (4,1), (0,5), (5,0)]\n",
    "    draws = set(range(0,len(database)))\n",
    "    columns_id = ['3/2', '2/3', '1/4', '4/1', '0/5', '5/0']\n",
    "    \n",
    "    low_high = {}\n",
    "    odd_even = {}\n",
    "    for i in draws:\n",
    "        counts_l_h = {}\n",
    "        counts_o_e = {}\n",
    "        for combination in COMBINATIONS:\n",
    "            count_l_h = sum([1 for j in range(i-9,i+1) if combination[0] == low_high_counts[j][0] and combination[1] == low_high_counts[j][1]])\n",
    "            counts_l_h[combination] = count_l_h\n",
    "            count_o_e = sum([1 for j in range(i-9,i+1) if combination[0] == odd_even_counts[j][0] and combination[1] == odd_even_counts[j][1]])\n",
    "            counts_o_e[combination] = count_o_e\n",
    "        low_high[i] = counts_l_h\n",
    "        odd_even[i] = counts_o_e\n",
    "    \n",
    "    low_high = clean_df_skips(pd.DataFrame.from_dict(low_high, orient='index'), columns_id, 'L/H')\n",
    "    odd_even = clean_df_skips(pd.DataFrame.from_dict(odd_even, orient='index'), columns_id, 'O/E')\n",
    "    return low_high, odd_even\n",
    "\n",
    "def count_100_combinations(df, columns, combinations, name):\n",
    "    count_dic = {i: {key: 0 for key in combinations} for i in range(1, len(df) - 99)}\n",
    "    columns_id = ['3/2', '2/3', '1/4', '4/1', '0/5', '5/0']\n",
    "    for i, _ in enumerate(range(1, len(df) - 99)):\n",
    "        df_slice = df.iloc[i:i+100]\n",
    "        counts = [df_slice[(df_slice[columns[0]] == combination[0]) & (df_slice[columns[1]] == combination[1])][columns[0]].count() for combination in combinations]\n",
    "        count_dic[i+1] = dict(zip(combinations, counts))\n",
    "    df = clean_df_skips(pd.DataFrame.from_dict(count_dic, orient='index'), columns_id, name)\n",
    "    return df"
   ]
  },
  {
   "cell_type": "code",
   "execution_count": null,
   "metadata": {},
   "outputs": [],
   "source": [
    "# Test of Tomorrow Numbers\n",
    "euromillions = Criteria()\n",
    "\n",
    "euromillions.define_odd_even()\n",
    "euromillions.define_low_high()\n",
    "euromillions.define_combinations_skips()\n",
    "euromillions.groups_info()\n",
    "euromillions.apply_transformation()\n",
    "euromillions.count_skips()\n",
    "euromillions.skips_for_last_12_draws()\n",
    "euromillions.get_natural_rotations()\n",
    "euromillions.get_numbers_clasification()\n",
    "euromillions.draw_skips()\n",
    "euromillions.skips_evaluation()\n",
    "\n",
    "euromillions.year_criterion()\n",
    "euromillions.rotation_criterion()\n",
    "euromillions.position_criterion()\n",
    "euromillions.group_criterion()\n",
    "euromillions.numbers_of_tomorrow()\n",
    "\n",
    "# lotto = pick_numbers.Selection(euromillions)\n",
    "# lotto.first_number()\n",
    "# lotto.suggested_numbers()\n",
    "\n",
    "# tickets = itertools.combinations(lotto._selected_numbers,5)\n",
    "\n",
    "# ticket = []\n",
    "# for combination in tickets:\n",
    "#     ticket.append(combination)\n",
    "#     print(combination)"
   ]
  },
  {
   "cell_type": "code",
   "execution_count": null,
   "metadata": {},
   "outputs": [],
   "source": [
    "euromillions.combinations_skips"
   ]
  },
  {
   "cell_type": "code",
   "execution_count": 7,
   "metadata": {},
   "outputs": [],
   "source": [
    "odd_even_count = pd.DataFrame(columns=['odd/even','low/high'])\n",
    "odd_even_count.loc['3/2','odd/even'] = (euromillions.df.iloc[-10:, 9] == 3).sum()\n",
    "odd_even_count.loc['3/2','low/high'] = 5 - odd_even_count.loc['3/2','odd/even']"
   ]
  },
  {
   "cell_type": "code",
   "execution_count": 10,
   "metadata": {},
   "outputs": [],
   "source": [
    "def determine_distribution():\n",
    "    odd_even_count = pd.DataFrame(columns=['odd/even/','low/high'])\n",
    "    cases = [3,2,1,4,0]\n",
    "\n",
    "    for n in cases:\n",
    "        odd_count = (euromillions.df.iloc[-10:, 9] == n).sum()\n",
    "        low_count = (euromillions.df.iloc[-10:, 11] == n).sum()\n",
    "        row_name = f'{n}/{5-n}'\n",
    "        \n",
    "        odd_even_count.loc[row_name] = [odd_count, low_count]\n",
    "    \n",
    "    return odd_even_count"
   ]
  },
  {
   "cell_type": "code",
   "execution_count": null,
   "metadata": {},
   "outputs": [],
   "source": [
    "combinations = [(1, 4), (2, 3), (3, 2), (4, 1), (5, 0), (0, 5)]\n",
    "# Crear variables predictoras (X) y la variable objetivo (y)\n",
    "X = euromillions.combinations_skips[['low', 'high'] + [f'days_since_{comb[0]}_{comb[1]}' for comb in combinations]]  # Incluimos las columnas de días\n",
    "y = euromillions.combinations_skips['odd']  # Variable objetivo (puedes cambiar a otra variable si lo prefieres)\n",
    "\n",
    "# Dividir en conjunto de entrenamiento y prueba\n",
    "X_train, X_test, y_train, y_test = train_test_split(X, y, test_size=0.2, random_state=42)\n",
    "\n",
    "# Crear y entrenar el modelo\n",
    "model = RandomForestClassifier(\n",
    "    n_estimators=100,\n",
    "    max_depth=10,\n",
    "    min_samples_split=5,\n",
    "    min_samples_leaf=2,\n",
    "    random_state=42\n",
    ")\n",
    "model.fit(X_train, y_train)\n",
    "\n",
    "# Evaluar el modelo con validación cruzada\n",
    "cross_val_scores = cross_val_score(model, X, y, cv=5)\n",
    "print(f'Cross-validated accuracy: {cross_val_scores.mean()}')\n",
    "\n",
    "# Hacer predicciones\n",
    "y_pred = model.predict(X_test)\n",
    "\n",
    "# Evaluación\n",
    "accuracy = accuracy_score(y_test, y_pred)\n",
    "print(f'Accuracy: {accuracy}')"
   ]
  },
  {
   "cell_type": "code",
   "execution_count": null,
   "metadata": {},
   "outputs": [],
   "source": [
    "count = 0\n",
    "for draw in range(1000,len(euromillions.df)-1):\n",
    "    # Obtener el último sorteo\n",
    "    last_draw = euromillions.combinations_skips.iloc[draw]\n",
    "\n",
    "    # Crear las características de entrada para la predicción\n",
    "    last_features = [\n",
    "        last_draw['low'],              # Característica low\n",
    "        last_draw['high'],             # Característica high\n",
    "        last_draw['days_since_1_4'],   # Días desde que salió la combinación (1, 4)\n",
    "        last_draw['days_since_2_3'],   # Días desde que salió la combinación (2, 3)\n",
    "        last_draw['days_since_3_2'],   # Días desde que salió la combinación (3, 2)\n",
    "        last_draw['days_since_4_1'],   # Días desde que salió la combinación (4, 1)\n",
    "        last_draw['days_since_5_0'],   # Días desde que salió la combinación (5, 0)\n",
    "        last_draw['days_since_0_5']    # Días desde que salió la combinación (0, 5)\n",
    "    ]\n",
    "\n",
    "    # Convertir las características en un DataFrame o un numpy array\n",
    "    last_features = np.array(last_features).reshape(1, -1)  # Reshape para tener un solo conjunto de datos\n",
    "\n",
    "    # Realizar la predicción\n",
    "    y_pred_next = model.predict(last_features)\n",
    "\n",
    "    # Imprimir el resultado\n",
    "    next = draw + 1\n",
    "    v = euromillions.combinations_skips.iloc[next,3]\n",
    "    if y_pred_next == v:\n",
    "        print(y_pred_next, v, next)\n",
    "        count += 1\n",
    "\n",
    "print(count)"
   ]
  },
  {
   "cell_type": "code",
   "execution_count": null,
   "metadata": {},
   "outputs": [],
   "source": [
    "y_pred"
   ]
  },
  {
   "cell_type": "code",
   "execution_count": null,
   "metadata": {},
   "outputs": [],
   "source": [
    "n_predictions = len(y_test)\n",
    "random_predictions = np.random.choice([0, 1, 2, 3, 4, 5], size=n_predictions, replace=True)\n",
    "random_accuracy = accuracy_score(y_test, random_predictions)\n",
    "random_accuracy"
   ]
  },
  {
   "cell_type": "code",
   "execution_count": null,
   "metadata": {},
   "outputs": [],
   "source": [
    "# Test of Tomorrow Stars\n",
    "\n",
    "euromillions = Criteria(is_star=True)\n",
    "\n",
    "euromillions.apply_transformation(is_star=True)\n",
    "euromillions.count_skips(is_star=True)\n",
    "euromillions.get_natural_rotations(is_star=True)\n",
    "print(euromillions.year_history)\n",
    "\n",
    "print(euromillions.aprox_rotation)\n",
    "print(euromillions.exact_rotation)"
   ]
  },
  {
   "cell_type": "code",
   "execution_count": null,
   "metadata": {},
   "outputs": [],
   "source": [
    "euromillions.counts.max()"
   ]
  },
  {
   "cell_type": "code",
   "execution_count": null,
   "metadata": {},
   "outputs": [],
   "source": [
    "euromillions.df.loc[euromillions.df['dates'] == datetime(2016,9,27)]"
   ]
  },
  {
   "cell_type": "code",
   "execution_count": 70,
   "metadata": {},
   "outputs": [],
   "source": [
    "def find_group(value: int) -> str | None:\n",
    "    stars_group = {\n",
    "    'A': [1,3,5],\n",
    "    'B': [2,4,6],\n",
    "    'C': [7,9,11],\n",
    "    'D': [8,10,12]\n",
    "}\n",
    "    \n",
    "    for k, v in stars_group.items():\n",
    "        if value in v:\n",
    "            return k\n",
    "    \n",
    "    return None\n",
    "\n",
    "euromillions.df_stars['group_0'] = euromillions.df_stars['star_1'].apply(find_group) \n",
    "euromillions.df_stars['group_1'] = euromillions.df_stars['star_2'].apply(find_group)"
   ]
  },
  {
   "cell_type": "code",
   "execution_count": null,
   "metadata": {},
   "outputs": [],
   "source": [
    "euromillions.df_stars"
   ]
  },
  {
   "cell_type": "code",
   "execution_count": 107,
   "metadata": {},
   "outputs": [],
   "source": [
    "euromillions.df_stars['combined_groups'] = euromillions.df_stars[['group_0','group_1']].apply(lambda row: [value for value in row if isinstance(value, str)], axis = 1)"
   ]
  },
  {
   "cell_type": "code",
   "execution_count": 94,
   "metadata": {},
   "outputs": [],
   "source": [
    "test = itertools.combinations_with_replacement(['A','B','C','D'],2)"
   ]
  },
  {
   "cell_type": "code",
   "execution_count": null,
   "metadata": {},
   "outputs": [],
   "source": [
    "euromillions.df_stars['combined_groups'].value_counts()"
   ]
  },
  {
   "cell_type": "code",
   "execution_count": 154,
   "metadata": {},
   "outputs": [],
   "source": [
    "star = euromillions.df_stars.iloc[:,[1,2,3,4,5,6]]\n",
    "# Definir las combinaciones posibles (low, high)\n",
    "combinations = [('B','D'), ('B','C'), ('A','C'), ('A','D'), ('A','B'), ('C','D'), ('B','A'), ('A','A'), ('B','B'), ('D','C'), ('C','C'), ('D','D')]\n",
    "\n",
    "# Inicializamos las nuevas columnas para almacenar los días desde la última aparición\n",
    "for comb in combinations:\n",
    "    col_name = f'days_since_{comb[0]}_{comb[1]}'\n",
    "    star[col_name] = None\n",
    "\n",
    "# Inicializamos el contador de días\n",
    "days_since = {comb: 0 for comb in combinations}\n",
    "\n",
    "# Iteramos sobre las filas para calcular los días desde la última aparición de cada combinación\n",
    "for i in range(863,len(euromillions.df)):\n",
    "    for comb in combinations:\n",
    "        col_name = f'days_since_{comb[0]}_{comb[1]}'\n",
    "        \n",
    "        if star.loc[i, 'combined_groups'] == list(comb):\n",
    "            # Si la combinación actual coincide, reiniciamos el contador a 0\n",
    "            days_since[comb] = 0\n",
    "        else:\n",
    "            # Si no coincide, incrementamos el contador de días\n",
    "            days_since[comb] += 1\n",
    "        \n",
    "        # Asignamos el valor del contador de días en la nueva columna\n",
    "        star.loc[i, col_name] = days_since[comb]"
   ]
  },
  {
   "cell_type": "code",
   "execution_count": null,
   "metadata": {},
   "outputs": [],
   "source": [
    "star"
   ]
  }
 ],
 "metadata": {
  "kernelspec": {
   "display_name": "python_main",
   "language": "python",
   "name": "python3"
  },
  "language_info": {
   "codemirror_mode": {
    "name": "ipython",
    "version": 3
   },
   "file_extension": ".py",
   "mimetype": "text/x-python",
   "name": "python",
   "nbconvert_exporter": "python",
   "pygments_lexer": "ipython3",
   "version": "3.11.11"
  }
 },
 "nbformat": 4,
 "nbformat_minor": 2
}
