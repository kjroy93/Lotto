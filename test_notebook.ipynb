{
 "cells": [
  {
   "cell_type": "code",
   "execution_count": null,
   "metadata": {},
   "outputs": [],
   "source": [
    "# Imports\n",
    "# Standard Libraries of Python\n",
    "import itertools\n",
    "from collections import Counter\n",
    "from typing import Tuple, Union\n",
    "from decimal import Decimal, ROUND_HALF_UP, getcontext\n",
    "from datetime import datetime\n",
    "getcontext().prec = 5\n",
    "\n",
    "# Dependencies\n",
    "import pandas as pd\n",
    "import numpy as np\n",
    "from pandas import DataFrame, Index\n",
    "\n",
    "# Libraries made for this Proyect\n",
    "from backend.src.parse import Criteria\n",
    "from backend.src import pick_numbers\n",
    "file_route = 'database/files/'"
   ]
  },
  {
   "cell_type": "code",
   "execution_count": null,
   "metadata": {},
   "outputs": [],
   "source": [
    "def clean_df_skips(df: DataFrame,columns_id,name) -> DataFrame:\n",
    "    df.columns = columns_id\n",
    "    df.columns.name = name\n",
    "    df.index.name = 'Draws'\n",
    "    return df\n",
    "\n",
    "def combination_df(database,low_high_counts,odd_even_counts):\n",
    "    COMBINATIONS = [(3,2), (2,3), (1,4), (4,1), (0,5), (5,0)]\n",
    "    draws = set(range(0,len(database)))\n",
    "    columns_id = ['3/2', '2/3', '1/4', '4/1', '0/5', '5/0']\n",
    "    \n",
    "    low_high = {}\n",
    "    odd_even = {}\n",
    "    for i in draws:\n",
    "        counts_l_h = {}\n",
    "        counts_o_e = {}\n",
    "        for combination in COMBINATIONS:\n",
    "            count_l_h = sum([1 for j in range(i-9,i+1) if combination[0] == low_high_counts[j][0] and combination[1] == low_high_counts[j][1]])\n",
    "            counts_l_h[combination] = count_l_h\n",
    "            count_o_e = sum([1 for j in range(i-9,i+1) if combination[0] == odd_even_counts[j][0] and combination[1] == odd_even_counts[j][1]])\n",
    "            counts_o_e[combination] = count_o_e\n",
    "        low_high[i] = counts_l_h\n",
    "        odd_even[i] = counts_o_e\n",
    "    \n",
    "    low_high = clean_df_skips(pd.DataFrame.from_dict(low_high, orient='index'), columns_id, 'L/H')\n",
    "    odd_even = clean_df_skips(pd.DataFrame.from_dict(odd_even, orient='index'), columns_id, 'O/E')\n",
    "    return low_high, odd_even\n",
    "\n",
    "def count_100_combinations(df, columns, combinations, name):\n",
    "    count_dic = {i: {key: 0 for key in combinations} for i in range(1, len(df) - 99)}\n",
    "    columns_id = ['3/2', '2/3', '1/4', '4/1', '0/5', '5/0']\n",
    "    for i, _ in enumerate(range(1, len(df) - 99)):\n",
    "        df_slice = df.iloc[i:i+100]\n",
    "        counts = [df_slice[(df_slice[columns[0]] == combination[0]) & (df_slice[columns[1]] == combination[1])][columns[0]].count() for combination in combinations]\n",
    "        count_dic[i+1] = dict(zip(combinations, counts))\n",
    "    df = clean_df_skips(pd.DataFrame.from_dict(count_dic, orient='index'), columns_id, name)\n",
    "    return df"
   ]
  },
  {
   "cell_type": "code",
   "execution_count": null,
   "metadata": {},
   "outputs": [],
   "source": [
    "# Test of Tomorrow Numbers\n",
    "euromillions = Criteria()\n",
    "\n",
    "euromillions.groups_info()\n",
    "euromillions.apply_transformation()\n",
    "euromillions.count_skips()\n",
    "euromillions.skips_for_last_12_draws()\n",
    "euromillions.get_natural_rotations()\n",
    "euromillions.get_numbers_clasification()\n",
    "\n",
    "euromillions.year_criterion()\n",
    "euromillions.rotation_criterion()\n",
    "euromillions.position_criterion()\n",
    "euromillions.group_criterion()\n",
    "euromillions.numbers_of_tomorrow()\n",
    "\n",
    "lotto = pick_numbers.Selection(euromillions)\n",
    "lotto.first_number()\n",
    "lotto.suggested_numbers()\n",
    "\n",
    "tickets = itertools.combinations(lotto._selected_numbers,5)\n",
    "\n",
    "ticket = []\n",
    "for combination in tickets:\n",
    "    ticket.append(combination)\n",
    "    print(combination)"
   ]
  },
  {
   "cell_type": "code",
   "execution_count": null,
   "metadata": {},
   "outputs": [],
   "source": [
    "euromillions.last_draw"
   ]
  },
  {
   "cell_type": "code",
   "execution_count": null,
   "metadata": {},
   "outputs": [],
   "source": [
    "euromillions.year_history.to_csv('database/files/data.csv')"
   ]
  },
  {
   "cell_type": "code",
   "execution_count": null,
   "metadata": {},
   "outputs": [],
   "source": [
    "# Test of Tomorrow Stars\n",
    "\n",
    "euromillions = Criteria(is_star=True)\n",
    "\n",
    "euromillions.apply_transformation(is_star=True)\n",
    "euromillions.count_skips(is_star=True)\n",
    "euromillions.get_natural_rotations(is_star=True)\n",
    "print(euromillions.year_history)\n",
    "\n",
    "print(euromillions.aprox_rotation)\n",
    "print(euromillions.exact_rotation)"
   ]
  },
  {
   "cell_type": "code",
   "execution_count": null,
   "metadata": {},
   "outputs": [],
   "source": [
    "euromillions.counts.max()"
   ]
  },
  {
   "cell_type": "code",
   "execution_count": null,
   "metadata": {},
   "outputs": [],
   "source": [
    "euromillions.df.loc[euromillions.df['dates'] == datetime(2016,9,27)]"
   ]
  },
  {
   "cell_type": "code",
   "execution_count": null,
   "metadata": {},
   "outputs": [],
   "source": [
    "stars_group = {\n",
    "    'A': [1,3,5],\n",
    "    'B': [2,4,6],\n",
    "    'C': [7,9,11],\n",
    "    'D': [8,10,12]\n",
    "}"
   ]
  },
  {
   "cell_type": "code",
   "execution_count": null,
   "metadata": {},
   "outputs": [],
   "source": [
    "euromillions.df"
   ]
  },
  {
   "cell_type": "code",
   "execution_count": null,
   "metadata": {},
   "outputs": [],
   "source": [
    "letter_init = euromillions.df['star_1'].apply(lambda x: next((key for key,values in stars_group.items() if x in values),None))"
   ]
  },
  {
   "cell_type": "code",
   "execution_count": null,
   "metadata": {},
   "outputs": [],
   "source": [
    "letter_init"
   ]
  }
 ],
 "metadata": {
  "kernelspec": {
   "display_name": "Python 3 (ipykernel)",
   "language": "python",
   "name": "python3"
  },
  "language_info": {
   "codemirror_mode": {
    "name": "ipython",
    "version": 3
   },
   "file_extension": ".py",
   "mimetype": "text/x-python",
   "name": "python",
   "nbconvert_exporter": "python",
   "pygments_lexer": "ipython3",
   "version": "3.11.0"
  }
 },
 "nbformat": 4,
 "nbformat_minor": 2
}
