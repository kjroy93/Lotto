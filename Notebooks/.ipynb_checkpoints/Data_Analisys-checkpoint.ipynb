{
 "cells": [
  {
   "cell_type": "code",
   "execution_count": null,
   "id": "262565d5",
   "metadata": {},
   "outputs": [],
   "source": [
    "# Libraries\n",
    "import sys\n",
    "sys.path.append('C:\\Proyectos\\Loteria\\DataBase\\Scrapping')\n",
    "from scrapping import get_data\n",
    "import pandas as pd\n",
    "import numpy as np\n",
    "from collections import Counter\n",
    "from decimal import Decimal, getcontext"
   ]
  },
  {
   "cell_type": "code",
   "execution_count": null,
   "id": "458f01b4",
   "metadata": {},
   "outputs": [],
   "source": [
    "# Functions\n",
    "def count_skips(df, list_numbers):\n",
    "    counts = {key: 0 for key in list_numbers}\n",
    "    for columns in df:\n",
    "        counter = 0\n",
    "        for i in reversed(df[columns]):\n",
    "            if not i:\n",
    "                counter += 1\n",
    "            else:\n",
    "                counts[columns] = counter\n",
    "                break\n",
    "    return counts\n",
    "\n",
    "def max_output(df):\n",
    "    df = df.T\n",
    "    max_numbers = df.sort_values(by = df.columns[0], ascending = False)\n",
    "    return max_numbers\n",
    "\n",
    "def get_hits(database, df_with_numbers, numbers_quantity):\n",
    "    hits = year_hits(database, df_with_numbers, numbers_quantity).pivot_table(index = 'Year', columns = 'Number', values = 'Count', fill_value = 0).sum().reset_index()\n",
    "    hits = hits.rename(columns = {'Number': 'Numbers', 'Count': 'Hits'}).set_index('Numbers').T\n",
    "    hits = hits.iloc[0].rename('Hits').to_frame()\n",
    "    hits.index.name = None\n",
    "    return hits.T\n",
    "\n",
    "def year_hits(database, df_with_numbers, numbers_quantity):\n",
    "    db_year = database['Dates'].dt.year\n",
    "    year_history = pd.DataFrame(columns = ['Year', 'Number', 'Count'])\n",
    "    for year in range(db_year.min(), db_year.max() + 1):\n",
    "        for number in numbers_quantity:\n",
    "            filtered = df_with_numbers.loc[(db_year == year) & (df_with_numbers == number).any(axis = 1), :]\n",
    "            count = filtered.eq(number).sum().sum()\n",
    "            year_history = pd.concat([year_history, pd.DataFrame({'Year': year, 'Number': number, 'Count': count}, index = [0])], ignore_index = True)\n",
    "    return year_history\n",
    "\n",
    "def calculate_average_hits(hits, database_length, numbers_quantity, is_star = False, aprox = False):\n",
    "    divide = 2 if is_star else 5\n",
    "    average_hits = hits.apply(lambda hits: hits / database_length / divide)\n",
    "    average_hits = average_hits.iloc[0].rename('Average').to_frame()\n",
    "    average_hits.index.name = None\n",
    "    getcontext().prec = 28\n",
    "    if aprox:\n",
    "        return Decimal(average_hits['Average'].sum() / numbers_quantity.max() + 0.001).quantize(Decimal('0.000001'))\n",
    "    else:\n",
    "        return Decimal(average_hits['Average'].sum() / numbers_quantity.max()).quantize(Decimal('0.000001'))\n",
    "\n",
    "def average_hits(database, hits_data, total_nums, is_star = False):\n",
    "    divide = 2 if is_star else 5\n",
    "    hits_by_num = hits_data.apply(lambda hits: hits / len(database) / divide)\n",
    "    hits_by_num = hits_by_num.iloc[0].rename('Average').to_frame()\n",
    "    hits_by_num.index.name = None\n",
    "    averages = []\n",
    "    for num in total_nums:\n",
    "        avg = hits_by_num.loc[num]['Average'].sum()\n",
    "        averages.append(round(avg, 8))\n",
    "    result = pd.DataFrame({'Numbers/Stars': total_nums, 'Average_Hits': averages})\n",
    "    result = result.T\n",
    "    result.columns = result.iloc[0].astype(int)\n",
    "    result = result[1:]\n",
    "    return result"
   ]
  },
  {
   "cell_type": "code",
   "execution_count": null,
   "id": "1890f9a1",
   "metadata": {},
   "outputs": [],
   "source": [
    "# Load the data base and obtain the first DataFrame\n",
    "db = pd.read_parquet('C:\\Proyectos\\Loteria\\DataBase\\db.parquet')\n",
    "winning_numbers = db.iloc[:, 2:7]\n",
    "winning_stars = db.iloc[:, 7:9]\n",
    "total_numbers = np.arange(1, 51)\n",
    "total_stars = np.arange(1, 13)\n",
    "\n",
    "# Create a template DataFrame with all values set to False\n",
    "skip_winners_bool = pd.DataFrame(False, columns = [str(i) for i in range(1, 51)], index = range(len(winning_numbers)))\n",
    "\n",
    "# Fill in the True values\n",
    "for e in range(1, 6):\n",
    "    for i in range(1, 51):\n",
    "        skip_winners_bool[f\"{i}\"] |= (winning_numbers[f\"Nro{e}\"] == i)\n",
    "\n",
    "# Add an extra row, in order to compare the number that did not appear for the first time in the game history\n",
    "d_0 = pd.DataFrame(columns = [str(i) for i in range(1, 51)], index = [0]).fillna(True)\n",
    "\n",
    "# Create the final DataFrame\n",
    "skip_winners = pd.concat([d_0, skip_winners_bool]).reset_index(drop = True)\n",
    "del d_0\n",
    "del skip_winners_bool\n",
    "\n",
    "# Hits of numbers\n",
    "numbers_hits = get_hits(db, winning_numbers, total_numbers)\n",
    "\n",
    "# Hits of stars since draw 940, this is because of the change of rules. The star 12 was added in September 24th 2016\n",
    "stars_filtered = db[(db['Sorteos'] > 940)].iloc[:, [0, 7, 8]]\n",
    "stars_filtered_hits = get_hits(stars_filtered, stars_filtered, total_stars)\n",
    "\n",
    "# Year History for numbers and stars\n",
    "numbers_year_history = year_hits(db, winning_numbers, total_numbers)\n",
    "stars_year_history = year_hits(db, stars_filtered, total_stars)\n",
    "numbers_year_history = numbers_year_history.pivot_table(index = 'Year', columns = 'Number', values = 'Count', fill_value = 0)\n",
    "stars_year_history = stars_year_history.pivot_table(index = 'Year', columns = 'Number', values = 'Count', fill_value = 0)\n",
    "\n",
    "# Average of number\n",
    "average_numbers_aprox = calculate_average_hits(numbers_hits, len(db), total_numbers, aprox = True)\n",
    "average_numbers_exact = calculate_average_hits(numbers_hits, len(db), total_numbers)\n",
    "\n",
    "# Average of stars since draw 940, this is because of the change of rules. The star 12 was added in September 24th 2016\n",
    "average_stars_aprox = calculate_average_hits(stars_filtered_hits, len(stars_filtered), total_stars, is_star = True, aprox = True)\n",
    "average_stars_exact = calculate_average_hits(stars_filtered_hits, len(stars_filtered), total_stars, is_star = True)\n",
    "\n",
    "# Promedio de hits para números\n",
    "numbers_average = average_hits(db, numbers_hits, total_numbers)\n",
    "\n",
    "# Promedio de hits para estrellas\n",
    "stars_average = average_hits(stars_filtered, stars_filtered_hits, total_stars, is_star = True)"
   ]
  },
  {
   "cell_type": "code",
   "execution_count": null,
   "id": "b9773872",
   "metadata": {},
   "outputs": [],
   "source": [
    "# It creates the list of draws, numbers and the dictionary to obtain the amount of skips per number if wins and looses.\n",
    "draws = list(np.arange(1, len(skip_winners)))\n",
    "numbers = [str(i) for i in range(1, 51)]\n",
    "dicts = {draw: {key:[] for key in numbers} for draw in draws}\n",
    "\n",
    "for e in draws:\n",
    "    df = skip_winners.loc[:e]\n",
    "    counts = count_skips(df, numbers)\n",
    "    dicts[e].update(counts)\n",
    "\n",
    "skip_numbers = pd.DataFrame(dicts).T\n",
    "\n",
    "del draws\n",
    "del numbers"
   ]
  },
  {
   "cell_type": "code",
   "execution_count": null,
   "id": "0016739f",
   "metadata": {},
   "outputs": [],
   "source": [
    "skip_numbers"
   ]
  },
  {
   "cell_type": "code",
   "execution_count": null,
   "id": "7a4fef1f",
   "metadata": {},
   "outputs": [],
   "source": [
    "# Order the last draw for skips:\n",
    "last_draw = sorted(dicts[len(skip_numbers)].items(), key = lambda x: x[1])\n",
    "last_draw = pd.DataFrame({'Numero': [x[0] for x in last_draw], 'Skips': [int(x[1]) for x in last_draw]})\n",
    "del dicts\n",
    "\n",
    "# Select the last 12 draws\n",
    "last_12_draws = np.arange(len(skip_numbers) - 12, len(skip_numbers) + 1)\n",
    "sk_12 = skip_numbers.loc[last_12_draws]\n",
    "\n",
    "# This establish the skips of the last 12 draws\n",
    "skips = np.arange(0, 19)\n",
    "aus_12 = [sk_12.loc[i - 1, str(column)] for i in last_12_draws[1:13] for column in sk_12 if sk_12.loc[i, str(column)] == 0]\n",
    "counter_7 = Counter(aus_12[25:60])\n",
    "counter_12 = Counter(aus_12)\n",
    "last_7 = [counter_7.get(i, 0) for i in skips]\n",
    "last_12 = [counter_12.get(i, 0) for i in skips]\n",
    "skips_7_12 = pd.DataFrame({'7': last_7, '12': last_12})\n",
    "\n",
    "del skips\n",
    "del aus_12"
   ]
  },
  {
   "cell_type": "code",
   "execution_count": null,
   "id": "30385301",
   "metadata": {},
   "outputs": [],
   "source": [
    "groups = [list(range(i, i + 10)) for i in range(1, 51, 10)]\n",
    "group_names = [tuple(range(i, i + 10)) for i in range(1, 51, 10)]\n",
    "results = {i: {group_name: sum([1 for num in row if num in group]) for group_name, group in zip(group_names, groups)} for i, row in winning_numbers.iterrows()}\n",
    "results_df = pd.DataFrame.from_dict(results, orient = 'index')\n",
    "results_df.columns = ['{}_to_{}'.format(i, i + 9) for i in range(1, 51, 10)]\n",
    "sg_10 = results_df.iloc[-10:]\n",
    "sg_5 = results_df.iloc[-5:]\n",
    "groups_df = pd.DataFrame({'10_games': (sg_10 > 0).sum(), '5_games': (sg_5 > 0).sum()}).T"
   ]
  },
  {
   "cell_type": "code",
   "execution_count": null,
   "id": "a72de5c9",
   "metadata": {},
   "outputs": [],
   "source": [
    "minimal_hits_aprox = float(average_numbers_aprox) * numbers_hits.iloc[0,0] / numbers_average.iloc[0,0]\n",
    "minimal_hits = float(average_numbers_exact) * numbers_hits.iloc[0,0] / numbers_average.iloc[0,0]"
   ]
  },
  {
   "cell_type": "code",
   "execution_count": null,
   "id": "4d7d29d8",
   "metadata": {},
   "outputs": [],
   "source": []
  },
  {
   "cell_type": "code",
   "execution_count": null,
   "id": "2e459bec",
   "metadata": {},
   "outputs": [],
   "source": []
  },
  {
   "cell_type": "code",
   "execution_count": null,
   "id": "c2ee721c",
   "metadata": {},
   "outputs": [],
   "source": []
  },
  {
   "cell_type": "code",
   "execution_count": null,
   "id": "abc337bd",
   "metadata": {},
   "outputs": [],
   "source": []
  },
  {
   "cell_type": "code",
   "execution_count": null,
   "id": "c842a06f",
   "metadata": {},
   "outputs": [],
   "source": []
  },
  {
   "cell_type": "code",
   "execution_count": null,
   "id": "1016be00",
   "metadata": {},
   "outputs": [],
   "source": [
    "db"
   ]
  },
  {
   "cell_type": "code",
   "execution_count": null,
   "id": "da30468b",
   "metadata": {},
   "outputs": [],
   "source": [
    "last_draw"
   ]
  },
  {
   "cell_type": "code",
   "execution_count": null,
   "id": "2dcb7d65",
   "metadata": {},
   "outputs": [],
   "source": [
    "skips_7_12"
   ]
  },
  {
   "cell_type": "code",
   "execution_count": null,
   "id": "6ddca4a6",
   "metadata": {},
   "outputs": [],
   "source": [
    "results_df"
   ]
  },
  {
   "cell_type": "code",
   "execution_count": null,
   "id": "0b833e32",
   "metadata": {},
   "outputs": [],
   "source": [
    "groups_df"
   ]
  },
  {
   "cell_type": "code",
   "execution_count": null,
   "id": "ed788c4c",
   "metadata": {},
   "outputs": [],
   "source": [
    "numbers_year_history"
   ]
  },
  {
   "cell_type": "code",
   "execution_count": null,
   "id": "da9fd80e",
   "metadata": {},
   "outputs": [],
   "source": [
    "numbers_hits"
   ]
  },
  {
   "cell_type": "code",
   "execution_count": null,
   "id": "dc1aae92",
   "metadata": {},
   "outputs": [],
   "source": [
    "numbers_average"
   ]
  },
  {
   "cell_type": "code",
   "execution_count": null,
   "id": "e09a1d42",
   "metadata": {},
   "outputs": [],
   "source": [
    "minimal_hits_aprox"
   ]
  },
  {
   "cell_type": "code",
   "execution_count": null,
   "id": "1e5e5bee",
   "metadata": {},
   "outputs": [],
   "source": [
    "minimal_hits"
   ]
  },
  {
   "cell_type": "code",
   "execution_count": null,
   "id": "652cd879",
   "metadata": {},
   "outputs": [],
   "source": [
    "average_numbers_exact"
   ]
  },
  {
   "cell_type": "code",
   "execution_count": null,
   "id": "27056b3c",
   "metadata": {},
   "outputs": [],
   "source": [
    "average_numbers_aprox"
   ]
  },
  {
   "cell_type": "code",
   "execution_count": null,
   "id": "0850c940",
   "metadata": {},
   "outputs": [],
   "source": [
    "stars_filtered_hits"
   ]
  },
  {
   "cell_type": "code",
   "execution_count": null,
   "id": "d5cbadc9",
   "metadata": {},
   "outputs": [],
   "source": [
    "stars_year_history"
   ]
  },
  {
   "cell_type": "code",
   "execution_count": null,
   "id": "aa80aa54",
   "metadata": {},
   "outputs": [],
   "source": [
    "stars_average"
   ]
  },
  {
   "cell_type": "code",
   "execution_count": null,
   "id": "3992c1ce",
   "metadata": {},
   "outputs": [],
   "source": [
    "average_stars_exact"
   ]
  },
  {
   "cell_type": "code",
   "execution_count": null,
   "id": "d2ea906f",
   "metadata": {},
   "outputs": [],
   "source": [
    "average_stars_aprox"
   ]
  }
 ],
 "metadata": {
  "kernelspec": {
   "display_name": "Python 3 (ipykernel)",
   "language": "python",
   "name": "python3"
  },
  "language_info": {
   "codemirror_mode": {
    "name": "ipython",
    "version": 3
   },
   "file_extension": ".py",
   "mimetype": "text/x-python",
   "name": "python",
   "nbconvert_exporter": "python",
   "pygments_lexer": "ipython3",
   "version": "3.10.7"
  }
 },
 "nbformat": 4,
 "nbformat_minor": 5
}
