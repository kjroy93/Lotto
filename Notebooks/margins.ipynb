{
 "cells": [
  {
   "cell_type": "code",
   "execution_count": 13,
   "id": "f3bda654",
   "metadata": {},
   "outputs": [],
   "source": [
    "# Libraries\n",
    "import sys\n",
    "sys.path.append('C:\\Proyectos\\Loteria\\DataBase')\n",
    "sys.path.append('C:\\Proyectos\\Loteria\\DataAnalysis')\n",
    "import pandas as pd\n",
    "import numpy as np\n",
    "import time\n",
    "from data_functions import draw_generator\n",
    "from scrapping import euro_scraping\n",
    "from numbers_analisys import analisys\n",
    "from clean_database import structure\n",
    "from collections import Counter"
   ]
  },
  {
   "cell_type": "code",
   "execution_count": 2,
   "id": "506a0079",
   "metadata": {},
   "outputs": [],
   "source": [
    "db = euro_scraping()\n",
    "db = structure(db)\n",
    "db_slice = db\n",
    "lenght = len(db)"
   ]
  },
  {
   "cell_type": "code",
   "execution_count": 7,
   "id": "70aa8fce",
   "metadata": {},
   "outputs": [
    {
     "name": "stdout",
     "output_type": "stream",
     "text": [
      "i = 1625Tiempo de ejecución: 4181.51 segundos\n"
     ]
    }
   ],
   "source": [
    "start_time = time.time()\n",
    "\n",
    "succes = []\n",
    "failure = []\n",
    "for draw in draw_generator(lenght):\n",
    "    db_resultados = db_slice.head(draw)\n",
    "    recommended_numbers, not_recommended_numbers = analisys(db_resultados)\n",
    "    row = db.loc[draw,['Nro1','Nro2','Nro3','Nro4','Nro5']]\n",
    "    column = recommended_numbers.loc[:, 'Numbers']\n",
    "    result = column.isin(row).sum()\n",
    "    succes.append(result)\n",
    "    failure.append(5-result)\n",
    "    sys.stdout.write(f\"\\ri = {draw}\")\n",
    "    sys.stdout.flush()\n",
    "    \n",
    "end_time = time.time()\n",
    "print(f\"Tiempo de ejecución: {end_time - start_time:.2f} segundos\")"
   ]
  },
  {
   "cell_type": "code",
   "execution_count": 17,
   "id": "3c4ea65f",
   "metadata": {},
   "outputs": [
    {
     "data": {
      "text/plain": [
       "1614"
      ]
     },
     "execution_count": 17,
     "metadata": {},
     "output_type": "execute_result"
    }
   ],
   "source": [
    "len(succes)"
   ]
  },
  {
   "cell_type": "code",
   "execution_count": 27,
   "id": "36b14038",
   "metadata": {},
   "outputs": [
    {
     "name": "stdout",
     "output_type": "stream",
     "text": [
      "0 aciertos: 35\n",
      "2.17%\n",
      "1 aciertos: 227\n",
      "14.06%\n",
      "2 aciertos: 507\n",
      "31.41%\n",
      "3 aciertos: 536\n",
      "33.21%\n",
      "4 aciertos: 264\n",
      "16.36%\n",
      "5 aciertos: 45\n",
      "2.79%\n"
     ]
    }
   ],
   "source": [
    "c = Counter(succes)\n",
    "x = Counter(failure)\n",
    "\n",
    "# Imprimir la cantidad de aciertos para cada número de aciertos posibles\n",
    "for i in range(6):\n",
    "    hits = (succes.count(i)/len(succes))*100\n",
    "    print(f\"{i} aciertos: {c[i]}\\n{round(hits,2)}%\")\n",
    "    \n",
    "# for i in range(6):\n",
    "#     print(f\"{i} faltantes: {x[i]}\\n\")"
   ]
  },
  {
   "cell_type": "code",
   "execution_count": null,
   "id": "50afe4f9",
   "metadata": {},
   "outputs": [],
   "source": []
  }
 ],
 "metadata": {
  "kernelspec": {
   "display_name": "Python 3 (ipykernel)",
   "language": "python",
   "name": "python3"
  },
  "language_info": {
   "codemirror_mode": {
    "name": "ipython",
    "version": 3
   },
   "file_extension": ".py",
   "mimetype": "text/x-python",
   "name": "python",
   "nbconvert_exporter": "python",
   "pygments_lexer": "ipython3",
   "version": "3.11.0"
  }
 },
 "nbformat": 4,
 "nbformat_minor": 5
}
