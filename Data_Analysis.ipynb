{
 "cells": [
  {
   "cell_type": "code",
   "execution_count": null,
   "id": "22d24a42",
   "metadata": {},
   "outputs": [],
   "source": [
    "import time\n",
    "from datetime import datetime, timedelta\n",
    "import pandas as pd\n",
    "import numpy as np\n",
    "from time import sleep"
   ]
  },
  {
   "cell_type": "code",
   "execution_count": null,
   "id": "a0c53878",
   "metadata": {},
   "outputs": [],
   "source": [
    "db = pd.read_csv('base_de_datos.csv', dtype = {'Sorteos': \"string\"}, parse_dates = ['Dates'])\n",
    "winners = db.iloc[:, 1:7].set_index(['Sorteos'])\n",
    "df_0 = pd.DataFrame(columns = [str(i) for i in range(1, 51)], index = [0]).fillna(True)\n",
    "winners = pd.concat([df_0, winners], ignore_index = True).reset_index(drop = True)\n",
    "\n",
    "for e in range(1,6):\n",
    "    for i in range(1,51):\n",
    "        winners.loc[winners[f\"Nro{e}\"] == i, f\"{i}\"] = True\n",
    "\n",
    "winners.drop(columns = [\"Nro1\",\"Nro2\",\"Nro3\",\"Nro4\",\"Nro5\"], inplace = True)\n",
    "winners.drop(columns = winners.iloc[:, 50:100], inplace = True)"
   ]
  },
  {
   "cell_type": "code",
   "execution_count": null,
   "id": "a850f235",
   "metadata": {},
   "outputs": [],
   "source": [
    "draws = []\n",
    "\n",
    "for i in range(1, len(winners)):\n",
    "    if i != len(winners):\n",
    "        rows = len(winners) - i\n",
    "        draws.append(rows)\n",
    "        \n",
    "draws = draws[::-1]\n",
    "c = [str(i) for i in range(1, 51)]\n",
    "dicts = {draw: {key:[] for key in c} for draw in draws}"
   ]
  },
  {
   "cell_type": "code",
   "execution_count": null,
   "id": "8afc0275",
   "metadata": {},
   "outputs": [],
   "source": [
    "# for columns in winners:\n",
    "#     if winners.loc[winners['1']:-1] == True:\n",
    "#         winners.isna().sum()"
   ]
  },
  {
   "cell_type": "code",
   "execution_count": null,
   "id": "d195cb28",
   "metadata": {},
   "outputs": [],
   "source": [
    "# values = list(set(val for dic in [ultimo_sorteo] for val in dic.values()))"
   ]
  },
  {
   "cell_type": "code",
   "execution_count": null,
   "id": "471da0e4",
   "metadata": {},
   "outputs": [],
   "source": [
    "contador = 0\n",
    "e = 0\n",
    "\n",
    "while e != len(winners) - 1:\n",
    "    for columns in winners:\n",
    "        df = winners.loc[:draws[e]]\n",
    "        for i in reversed(df[columns]):\n",
    "            if i is not True:\n",
    "                contador += 1\n",
    "            else:\n",
    "                dicts[draws[e]].update({columns:contador})\n",
    "                contador = 0\n",
    "                break\n",
    "    e += 1"
   ]
  },
  {
   "cell_type": "code",
   "execution_count": null,
   "id": "a610ad4e",
   "metadata": {},
   "outputs": [],
   "source": []
  },
  {
   "cell_type": "code",
   "execution_count": null,
   "id": "bb28dd78",
   "metadata": {},
   "outputs": [],
   "source": []
  }
 ],
 "metadata": {
  "kernelspec": {
   "display_name": "Python 3 (ipykernel)",
   "language": "python",
   "name": "python3"
  },
  "language_info": {
   "codemirror_mode": {
    "name": "ipython",
    "version": 3
   },
   "file_extension": ".py",
   "mimetype": "text/x-python",
   "name": "python",
   "nbconvert_exporter": "python",
   "pygments_lexer": "ipython3",
   "version": "3.10.7"
  }
 },
 "nbformat": 4,
 "nbformat_minor": 5
}
