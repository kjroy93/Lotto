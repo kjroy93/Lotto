{
 "cells": [
  {
   "cell_type": "code",
   "execution_count": null,
   "id": "262565d5",
   "metadata": {},
   "outputs": [],
   "source": [
    "# Libraries\n",
    "\n",
    "from scrapping import get_data\n",
    "from datetime import datetime, timedelta\n",
    "import pandas as pd\n",
    "import numpy as np\n",
    "from collections import Counter"
   ]
  },
  {
   "cell_type": "code",
   "execution_count": null,
   "id": "458f01b4",
   "metadata": {},
   "outputs": [],
   "source": [
    "# Functions\n",
    "\n",
    "def count_skips(df):\n",
    "    counts = {key: 0 for key in numbers}\n",
    "    for columns in df:\n",
    "        contador = 0\n",
    "        for i in reversed(df[columns]):\n",
    "            if i is not True:\n",
    "                contador += 1\n",
    "            else:\n",
    "                counts[columns] = contador\n",
    "                break\n",
    "    return counts\n",
    "\n",
    "def max_output(df):\n",
    "    max_numbers = df.sort_values(by = 'Count', ascending = False)\n",
    "    return max_numbers"
   ]
  },
  {
   "cell_type": "code",
   "execution_count": null,
   "id": "1890f9a1",
   "metadata": {},
   "outputs": [],
   "source": [
    "# Load the data base and obtain the first DataFrame\n",
    "db = pd.read_parquet('db.parquet')\n",
    "winners = db.iloc[:, 2:7]\n",
    "\n",
    "# Search in every row and convert it to another DataFrame with boolean results, where True means that the number won, and False means that it loose\n",
    "for e in range(1, 6):\n",
    "    for i in range(1, 51):\n",
    "        winners.loc[winners[f\"Nro{e}\"] == i, f\"{i}\"] = True\n",
    "\n",
    "winners.drop(columns = [\"Nro1\",\"Nro2\",\"Nro3\",\"Nro4\",\"Nro5\"], inplace = True)\n",
    "\n",
    "    # Add an extra row, in order to compare the number that did not appear for the first time in the game history\n",
    "    \n",
    "d_0 = pd.DataFrame(columns = [str(i) for i in range (1, 51)], index = [0]).fillna(True)\n",
    "\n",
    "# Create the final DataFrame\n",
    "winners = pd.concat([d_0, winners]).reset_index(drop = True)"
   ]
  },
  {
   "cell_type": "code",
   "execution_count": null,
   "id": "b9773872",
   "metadata": {},
   "outputs": [],
   "source": [
    "draws = list(np.arange(1, len(winners)))\n",
    "numbers = [str(i) for i in range(1, 51)]\n",
    "dicts = {draw: {key:[] for key in numbers} for draw in draws}\n",
    "\n",
    "for e in draws:\n",
    "    df = winners.loc[:e]\n",
    "    counts = count_skips(df)\n",
    "    dicts[e].update(counts)\n",
    "\n",
    "skip_numbers = pd.DataFrame(dicts).T\n",
    "draw_numbers = pd.DataFrame({'Count': (skip_numbers == 0).sum()})"
   ]
  },
  {
   "cell_type": "code",
   "execution_count": null,
   "id": "7a4fef1f",
   "metadata": {},
   "outputs": [],
   "source": [
    "# Order the last draw for skips:\n",
    "last_draw = sorted(dicts[len(skip_numbers)].items(), key = lambda x: x[1])\n",
    "last_draw = pd.DataFrame({'Numero': [x[0] for x in last_draw], 'Skips': [int(x[1]) for x in last_draw]})\n",
    "\n",
    "# Select  the last 12 draws\n",
    "last_12_draws = np.arange(len(skip_numbers) - 12, len(skip_numbers) + 1)\n",
    "sk_12 = skip_numbers.loc[last_12_draws]\n",
    "\n",
    "skips = np.arange(0, 19)\n",
    "\n",
    "aus_12 = [sk_12.loc[i - 1, str(column)] for i in last_12_draws[1:13] for column in sk_12 if sk_12.loc[i, str(column)] == 0]\n",
    "\n",
    "counter_7 = Counter(aus_12[25:60])\n",
    "counter_12 = Counter(aus_12)\n",
    "\n",
    "last_7 = [counter_7.get(i, 0) for i in skips]\n",
    "last_12 = [counter_12.get(i, 0) for i in skips]\n",
    "\n",
    "skips_7_12 = pd.DataFrame({'7': last_7, '12': last_12})"
   ]
  },
  {
   "cell_type": "code",
   "execution_count": null,
   "id": "30385301",
   "metadata": {},
   "outputs": [],
   "source": [
    "groups = [list(range(i, i + 10)) for i in range(1, 51, 10)]\n",
    "group_names = [tuple(range(i, i + 10)) for i in range(1, 51, 10)]\n",
    "groups_of_winners = db.iloc[:, 2:7]\n",
    "results = {i: {group_name: sum([1 for num in row if num in group]) for group_name, group in zip(group_names, groups)} for i, row in groups_of_winners.iterrows()}\n",
    "results_df = pd.DataFrame.from_dict(results, orient = 'index')\n",
    "results_df.columns = ['{}_to_{}'.format(i, i + 9) for i in range(1, 51, 10)]\n",
    "sg_10 = results_df.iloc[-10:]\n",
    "sg_5 = results_df.iloc[-5:]\n",
    "groups_df = pd.DataFrame({'10_games': (sg_10 > 0).sum(), '5_games': (sg_5 > 0).sum()}).T"
   ]
  },
  {
   "cell_type": "code",
   "execution_count": null,
   "id": "91e28aca",
   "metadata": {},
   "outputs": [],
   "source": []
  },
  {
   "cell_type": "code",
   "execution_count": null,
   "id": "0f4e64e8",
   "metadata": {},
   "outputs": [],
   "source": []
  },
  {
   "cell_type": "code",
   "execution_count": null,
   "id": "a72de5c9",
   "metadata": {},
   "outputs": [],
   "source": []
  },
  {
   "cell_type": "code",
   "execution_count": null,
   "id": "b009900c",
   "metadata": {},
   "outputs": [],
   "source": [
    "db"
   ]
  },
  {
   "cell_type": "code",
   "execution_count": null,
   "id": "1016be00",
   "metadata": {},
   "outputs": [],
   "source": [
    "skip_numbers"
   ]
  },
  {
   "cell_type": "code",
   "execution_count": null,
   "id": "da30468b",
   "metadata": {},
   "outputs": [],
   "source": [
    "last_draw"
   ]
  },
  {
   "cell_type": "code",
   "execution_count": null,
   "id": "2dcb7d65",
   "metadata": {},
   "outputs": [],
   "source": [
    "skips_7_12"
   ]
  },
  {
   "cell_type": "code",
   "execution_count": null,
   "id": "6ddca4a6",
   "metadata": {},
   "outputs": [],
   "source": [
    "results_df"
   ]
  },
  {
   "cell_type": "code",
   "execution_count": null,
   "id": "0b833e32",
   "metadata": {},
   "outputs": [],
   "source": [
    "groups_df"
   ]
  },
  {
   "cell_type": "code",
   "execution_count": null,
   "id": "b724418c",
   "metadata": {},
   "outputs": [],
   "source": [
    "# values = list(set(val for dic in [ultimo_sorteo] for val in dic.values()))"
   ]
  }
 ],
 "metadata": {
  "kernelspec": {
   "display_name": "Python 3 (ipykernel)",
   "language": "python",
   "name": "python3"
  },
  "language_info": {
   "codemirror_mode": {
    "name": "ipython",
    "version": 3
   },
   "file_extension": ".py",
   "mimetype": "text/x-python",
   "name": "python",
   "nbconvert_exporter": "python",
   "pygments_lexer": "ipython3",
   "version": "3.10.7"
  }
 },
 "nbformat": 4,
 "nbformat_minor": 5
}
