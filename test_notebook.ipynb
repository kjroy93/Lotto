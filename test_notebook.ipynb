{
 "cells": [
  {
   "cell_type": "code",
   "execution_count": null,
   "metadata": {},
   "outputs": [],
   "source": [
    "# Imports\n",
    "# Standard Libraries of Python\n",
    "import sys\n",
    "import time\n",
    "import random\n",
    "import itertools\n",
    "from collections import Counter\n",
    "from decimal import Decimal, ROUND_HALF_UP, getcontext\n",
    "getcontext().prec = 5\n",
    "\n",
    "# Dependencies\n",
    "import pandas as pd\n",
    "import numpy as np\n",
    "\n",
    "# Libraries made for this Proyect\n",
    "from src.parse import draw_generator, Criteria, Tickets\n",
    "ruta_carpeta = 'data/simulation_result/'"
   ]
  },
  {
   "cell_type": "code",
   "execution_count": null,
   "metadata": {},
   "outputs": [],
   "source": [
    "# Test of Tomorrow Numbers\n",
    "euromillions = Criteria()\n",
    "\n",
    "euromillions.groups_info()\n",
    "euromillions.apply_transformation()\n",
    "euromillions.count_skips()\n",
    "euromillions.skips_for_last_12_draws()\n",
    "euromillions.get_natural_rotations()\n",
    "euromillions.numbers_clasification()\n",
    "\n",
    "euromillions.year_criterion()\n",
    "euromillions.rotation_criterion()\n",
    "euromillions.position_criterion()\n",
    "euromillions.group_criterion()\n",
    "euromillions.numbers_of_tomorrow()"
   ]
  },
  {
   "cell_type": "code",
   "execution_count": null,
   "metadata": {},
   "outputs": [],
   "source": [
    "# Classes to be defined"
   ]
  },
  {
   "cell_type": "code",
   "execution_count": null,
   "metadata": {},
   "outputs": [],
   "source": [
    "lotto = Tickets(euromillions)\n",
    "lotto.draw_skips()\n",
    "lotto.skips_evaluation()\n",
    "lotto.first_number()\n",
    "lotto.suggested_numbers()"
   ]
  },
  {
   "cell_type": "code",
   "execution_count": null,
   "metadata": {},
   "outputs": [],
   "source": [
    "lotto.numbers"
   ]
  },
  {
   "cell_type": "code",
   "execution_count": null,
   "metadata": {},
   "outputs": [],
   "source": [
    "euromillions.skips_7_12"
   ]
  },
  {
   "cell_type": "code",
   "execution_count": null,
   "metadata": {},
   "outputs": [],
   "source": [
    "lotto._not_recommended_numbers_selected\n",
    "lotto._recommended_numbers_selected"
   ]
  },
  {
   "cell_type": "code",
   "execution_count": null,
   "metadata": {},
   "outputs": [],
   "source": [
    "lotto._selected_numbers"
   ]
  },
  {
   "cell_type": "code",
   "execution_count": null,
   "metadata": {},
   "outputs": [],
   "source": [
    "# Test of Euromillions Analysis\n",
    "start_time = time.time()\n",
    "\n",
    "success = []\n",
    "failure = []\n",
    "results = []\n",
    "euromillions = Criteria()\n",
    "size = len(euromillions.scrap)\n",
    "\n",
    "for draw in draw_generator(size):\n",
    "    db_slice = euromillions.scrap.head(draw)\n",
    "    euromillions.db = db_slice\n",
    "    euromillions.groups_info()\n",
    "    euromillions.apply_transformation()\n",
    "    euromillions.count_skips()\n",
    "    euromillions.skips_for_last_12_draws()\n",
    "    euromillions.get_natural_rotations()\n",
    "    euromillions.numbers_clasification()\n",
    "\n",
    "    euromillions.year_criterion()\n",
    "    euromillions.rotation_criterion()\n",
    "    euromillions.position_criterion()\n",
    "    euromillions.group_criterion()\n",
    "    euromillions.numbers_of_tomorrow()\n",
    "\n",
    "    row = euromillions.scrap.loc[draw,['nro1','nro2','nro3','nro4','nro5']]\n",
    "    column = euromillions.recommended_numbers.loc[:,'numbers']\n",
    "    \n",
    "    if len(column) < 25:\n",
    "        missing_rows = 25 - len(column)\n",
    "        first_not_recommended_numbers = euromillions.not_recommended_numbers.head(missing_rows)\n",
    "        column = pd.concat([euromillions.recommended_numbers['numbers'], first_not_recommended_numbers.iloc[:, 0]]).reset_index(drop=True)\n",
    "    else:\n",
    "        result = np.isin(column,row).sum()\n",
    "        success.append(result)\n",
    "        failure.append(5 - result)\n",
    "\n",
    "    sys.stdout.write(f\"\\ri = {draw}\")\n",
    "    sys.stdout.flush()\n",
    "    \n",
    "c = Counter(success)\n",
    "x = Counter(failure)\n",
    "\n",
    "# Print quantity of hits per draw, with recommended numbers, and random numbers aside\n",
    "for i in range(0,6):\n",
    "    hits = (success.count(i)/len(success))*100\n",
    "    print(f\"{i} hits: {c[i]}\\n{round(hits,2)}%\")"
   ]
  },
  {
   "cell_type": "code",
   "execution_count": null,
   "metadata": {},
   "outputs": [],
   "source": [
    "random_succes = []\n",
    "random_failure = []\n",
    "for draw in draw_generator(size):\n",
    "    db_resultados = db_slice.head(draw)\n",
    "    row = euromillions.scrap.loc[draw,['nro1','nro2','nro3','nro4','nro5']]\n",
    "    random_numbers = np.random.choice(range(1,51),size=25,replace=False)\n",
    "    result = np.isin(row, random_numbers).sum()\n",
    "    random_succes.append(result)\n",
    "    random_failure.append(5-result)\n",
    "    sys.stdout.write(f\"\\ri = {draw}\")\n",
    "    sys.stdout.flush()\n",
    "\n",
    "y = Counter(random_succes)\n",
    "z = Counter(random_failure)\n",
    "\n",
    "# Print quantity of hits per draw, with recommended numbers, and random numbers aside\n",
    "for e in range(0,6):\n",
    "    nohits = (random_succes.count(e)/len(random_succes))*100\n",
    "    print(f\"{e} random hits: {y[e]}\\n{round(nohits,2)}%\")"
   ]
  }
 ],
 "metadata": {
  "kernelspec": {
   "display_name": "Python 3 (ipykernel)",
   "language": "python",
   "name": "python3"
  },
  "language_info": {
   "codemirror_mode": {
    "name": "ipython",
    "version": 3
   },
   "file_extension": ".py",
   "mimetype": "text/x-python",
   "name": "python",
   "nbconvert_exporter": "python",
   "pygments_lexer": "ipython3",
   "version": "3.11.0"
  }
 },
 "nbformat": 4,
 "nbformat_minor": 2
}
