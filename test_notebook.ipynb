{
 "cells": [
  {
   "cell_type": "code",
   "execution_count": null,
   "metadata": {},
   "outputs": [],
   "source": [
    "# Imports\n",
    "# Standard Libraries of Python\n",
    "import itertools\n",
    "from collections import Counter\n",
    "from typing import Tuple, Union\n",
    "from decimal import Decimal, ROUND_HALF_UP, getcontext\n",
    "from datetime import datetime\n",
    "getcontext().prec = 5\n",
    "from sklearn.ensemble import RandomForestClassifier\n",
    "from sklearn.model_selection import train_test_split, cross_val_score\n",
    "from sklearn.metrics import accuracy_score\n",
    "\n",
    "# Dependencies\n",
    "import pandas as pd\n",
    "import numpy as np\n",
    "from pandas import DataFrame, Index\n",
    "\n",
    "# Libraries made for this Proyect\n",
    "from backend.src.parse import Criteria\n",
    "from backend.src import pick_numbers\n",
    "file_route = 'database/files/'"
   ]
  },
  {
   "cell_type": "code",
   "execution_count": null,
   "metadata": {},
   "outputs": [],
   "source": [
    "# Test of Tomorrow Numbers\n",
    "euromillions = Criteria()\n",
    "\n",
    "euromillions.define_odd_even()\n",
    "euromillions.define_low_high()\n",
    "euromillions.define_combinations_skips()\n",
    "euromillions.groups_info()\n",
    "euromillions.apply_transformation()\n",
    "euromillions.count_skips()\n",
    "euromillions.skips_for_last_12_draws()\n",
    "euromillions.get_natural_rotations()\n",
    "euromillions.get_numbers_clasification()\n",
    "euromillions.draw_skips()\n",
    "euromillions.skips_evaluation()\n",
    "\n",
    "euromillions.year_criterion()\n",
    "euromillions.rotation_criterion()\n",
    "euromillions.position_criterion()\n",
    "euromillions.group_criterion()\n",
    "euromillions.numbers_of_tomorrow()\n",
    "\n",
    "lotto = pick_numbers.Selection(euromillions)\n",
    "lotto.first_number()\n",
    "lotto.suggested_numbers()\n",
    "\n",
    "content = itertools.combinations(lotto._selected_numbers,5)\n",
    "\n",
    "tickets = []\n",
    "for combination in content:\n",
    "    tickets.append(combination)\n",
    "    print(combination)\n",
    "\n",
    "combinations = [(1, 4), (2, 3), (3, 2), (4, 1), (5, 0), (0, 5)]\n",
    "# Crear variables predictoras (X) y la variable objetivo (y)\n",
    "X = euromillions.combinations_skips[['low', 'high'] + [f'days_since_{comb[0]}_{comb[1]}' for comb in combinations]]  # Incluimos las columnas de días\n",
    "y = euromillions.combinations_skips['odd']  # Variable objetivo (puedes cambiar a otra variable si lo prefieres)\n",
    "\n",
    "# Dividir en conjunto de entrenamiento y prueba\n",
    "X_train, X_test, y_train, y_test = train_test_split(X, y, test_size=0.2, random_state=42)\n",
    "\n",
    "# Crear y entrenar el modelo\n",
    "model = RandomForestClassifier(\n",
    "    n_estimators=100,\n",
    "    max_depth=10,\n",
    "    min_samples_split=5,\n",
    "    min_samples_leaf=2,\n",
    "    random_state=42\n",
    ")\n",
    "model.fit(X_train, y_train)\n",
    "\n",
    "# Hacer predicciones\n",
    "y_pred = model.predict(X_test)\n",
    "\n",
    "# Evaluación\n",
    "accuracy = accuracy_score(y_test, y_pred)\n",
    "print(f'Accuracy: {accuracy}')\n",
    "\n",
    "last_draw = euromillions.combinations_skips.iloc[-1]\n",
    "\n",
    "# Crear las características de entrada para la predicción\n",
    "last_features = [\n",
    "    last_draw['low'],              # Característica low\n",
    "    last_draw['high'],             # Característica high\n",
    "    last_draw['days_since_1_4'],   # Días desde que salió la combinación (1, 4)\n",
    "    last_draw['days_since_2_3'],   # Días desde que salió la combinación (2, 3)\n",
    "    last_draw['days_since_3_2'],   # Días desde que salió la combinación (3, 2)\n",
    "    last_draw['days_since_4_1'],   # Días desde que salió la combinación (4, 1)\n",
    "    last_draw['days_since_5_0'],   # Días desde que salió la combinación (5, 0)\n",
    "    last_draw['days_since_0_5']    # Días desde que salió la combinación (0, 5)\n",
    "]\n",
    "\n",
    "# Convertir las características en un DataFrame o un numpy array\n",
    "last_features = np.array(last_features).reshape(1, -1)  # Reshape para tener un solo conjunto de datos\n",
    "\n",
    "# Realizar la predicción\n",
    "y_pred_next = model.predict(last_features)\n",
    "print(f'For the next draw, there is a chance that the amount of odd numbers will be {y_pred_next}')"
   ]
  },
  {
   "cell_type": "code",
   "execution_count": null,
   "metadata": {},
   "outputs": [],
   "source": [
    "euromillions.evaluation.iloc[-20:].mean()"
   ]
  },
  {
   "cell_type": "code",
   "execution_count": null,
   "metadata": {},
   "outputs": [],
   "source": [
    "euromillions.df.iloc[-10:]"
   ]
  },
  {
   "cell_type": "code",
   "execution_count": null,
   "metadata": {},
   "outputs": [],
   "source": [
    "picking_low = []\n",
    "for n, ticket in enumerate(tickets):\n",
    "    value = filter(lambda x: x <= 25, ticket)\n",
    "    amount = sum(1 for x in list(value) if x > 0)\n",
    "    if amount == 2:\n",
    "        picking_low.append(n)\n",
    "\n",
    "picking_odd = []\n",
    "for n, ticket in enumerate(tickets):\n",
    "    value = filter(lambda x: x % 2 != 0, ticket)\n",
    "    amount = sum(1 for x in list(value) if x > 0)\n",
    "    if amount == 3:\n",
    "        picking_odd.append(n)"
   ]
  },
  {
   "cell_type": "code",
   "execution_count": null,
   "metadata": {},
   "outputs": [],
   "source": [
    "euromillions.df.drop(1803)"
   ]
  },
  {
   "cell_type": "code",
   "execution_count": null,
   "metadata": {},
   "outputs": [],
   "source": [
    "euromillions.future_groups"
   ]
  },
  {
   "cell_type": "code",
   "execution_count": null,
   "metadata": {},
   "outputs": [],
   "source": [
    "buy = []\n",
    "for ticket in picking_low:\n",
    "    if ticket in picking_odd:\n",
    "        buy.append(tickets[ticket])"
   ]
  },
  {
   "cell_type": "code",
   "execution_count": null,
   "metadata": {},
   "outputs": [],
   "source": [
    "buy"
   ]
  },
  {
   "cell_type": "code",
   "execution_count": null,
   "metadata": {},
   "outputs": [],
   "source": [
    "euromillions.recommended_numbers"
   ]
  },
  {
   "cell_type": "code",
   "execution_count": null,
   "metadata": {},
   "outputs": [],
   "source": [
    "df = pd.DataFrame(buy,columns=['1','2','3','4','5'])\n",
    "df = df.iloc[:,0:6].apply(lambda x: pd.Series(sorted(x)),axis=1)\n",
    "df.to_csv(f'{file_route}combinations.csv',index=False)"
   ]
  },
  {
   "cell_type": "code",
   "execution_count": null,
   "metadata": {},
   "outputs": [],
   "source": [
    "combinations = [(1, 4), (2, 3), (3, 2), (4, 1), (5, 0), (0, 5)]\n",
    "# Crear variables predictoras (X) y la variable objetivo (y)\n",
    "X = euromillions.combinations_skips[['low', 'high'] + [f'days_since_{comb[0]}_{comb[1]}' for comb in combinations]]  # Incluimos las columnas de días\n",
    "y = euromillions.combinations_skips['odd']  # Variable objetivo (puedes cambiar a otra variable si lo prefieres)\n",
    "\n",
    "# Dividir en conjunto de entrenamiento y prueba\n",
    "X_train, X_test, y_train, y_test = train_test_split(X, y, test_size=0.2, random_state=42)\n",
    "\n",
    "# Crear y entrenar el modelo\n",
    "model = RandomForestClassifier(\n",
    "    n_estimators=100,\n",
    "    max_depth=10,\n",
    "    min_samples_split=5,\n",
    "    min_samples_leaf=2,\n",
    "    random_state=42\n",
    ")\n",
    "model.fit(X_train, y_train)\n",
    "\n",
    "# Hacer predicciones\n",
    "y_pred = model.predict(X_test)\n",
    "\n",
    "# Evaluación\n",
    "accuracy = accuracy_score(y_test, y_pred)\n",
    "print(f'Accuracy: {accuracy}. Value for odd number: {y_pred}')"
   ]
  },
  {
   "cell_type": "code",
   "execution_count": null,
   "metadata": {},
   "outputs": [],
   "source": [
    "count = 0\n",
    "fails = 0\n",
    "for draw in range(0,len(euromillions.df)-1):\n",
    "    # Obtener el último sorteo\n",
    "    last_draw = euromillions.combinations_skips.iloc[draw]\n",
    "\n",
    "    # Crear las características de entrada para la predicción\n",
    "    last_features = [\n",
    "        last_draw['low'],              # Característica low\n",
    "        last_draw['high'],             # Característica high\n",
    "        last_draw['days_since_1_4'],   # Días desde que salió la combinación (1, 4)\n",
    "        last_draw['days_since_2_3'],   # Días desde que salió la combinación (2, 3)\n",
    "        last_draw['days_since_3_2'],   # Días desde que salió la combinación (3, 2)\n",
    "        last_draw['days_since_4_1'],   # Días desde que salió la combinación (4, 1)\n",
    "        last_draw['days_since_5_0'],   # Días desde que salió la combinación (5, 0)\n",
    "        last_draw['days_since_0_5']    # Días desde que salió la combinación (0, 5)\n",
    "    ]\n",
    "\n",
    "    # Convertir las características en un DataFrame o un numpy array\n",
    "    last_features = np.array(last_features).reshape(1, -1)  # Reshape para tener un solo conjunto de datos\n",
    "\n",
    "    # Realizar la predicción\n",
    "    y_pred_next = model.predict(last_features)\n",
    "\n",
    "    # Imprimir el resultado\n",
    "    next = draw + 1\n",
    "    v = euromillions.combinations_skips.iloc[next,3]\n",
    "    if y_pred_next == v:\n",
    "        print(f'acerto el modelo con la prediccion {y_pred_next}, donde el valor {v}, se cumplio para el sorteo {next}')\n",
    "        count += 1\n",
    "    else:\n",
    "        fails += 1\n",
    "        print(f'fallo la prediccion {y_pred_next}, donde el valor {v}, no corresponde con {next}')\n",
    "\n",
    "print(f'correctos: {count}')\n",
    "print(f'Fallos: {fails}')"
   ]
  },
  {
   "cell_type": "code",
   "execution_count": null,
   "metadata": {},
   "outputs": [],
   "source": [
    "n_predictions = len(y_test)\n",
    "random_predictions = np.random.choice([0, 1, 2, 3, 4, 5], size=n_predictions, replace=True)\n",
    "random_accuracy = accuracy_score(y_test, random_predictions)\n",
    "random_accuracy"
   ]
  },
  {
   "cell_type": "code",
   "execution_count": null,
   "metadata": {},
   "outputs": [],
   "source": [
    "# Test of Tomorrow Stars\n",
    "\n",
    "euromillions = Criteria(is_star=True)\n",
    "\n",
    "euromillions.apply_transformation(is_star=True)\n",
    "euromillions.count_skips(is_star=True)\n",
    "euromillions.get_natural_rotations(is_star=True)\n",
    "print(euromillions.year_history)\n",
    "\n",
    "print(euromillions.aprox_rotation)\n",
    "print(euromillions.exact_rotation)"
   ]
  },
  {
   "cell_type": "code",
   "execution_count": null,
   "metadata": {},
   "outputs": [],
   "source": [
    "euromillions.counts.max()"
   ]
  },
  {
   "cell_type": "code",
   "execution_count": null,
   "metadata": {},
   "outputs": [],
   "source": [
    "euromillions.df.loc[euromillions.df['dates'] == datetime(2016,9,27)]"
   ]
  },
  {
   "cell_type": "code",
   "execution_count": null,
   "metadata": {},
   "outputs": [],
   "source": [
    "def find_group(value: int) -> str | None:\n",
    "    stars_group = {\n",
    "    'A': [1,3,5],\n",
    "    'B': [2,4,6],\n",
    "    'C': [7,9,11],\n",
    "    'D': [8,10,12]\n",
    "}\n",
    "    \n",
    "    for k, v in stars_group.items():\n",
    "        if value in v:\n",
    "            return k\n",
    "    \n",
    "    return None\n",
    "\n",
    "euromillions.df_stars['group_0'] = euromillions.df_stars['star_1'].apply(find_group) \n",
    "euromillions.df_stars['group_1'] = euromillions.df_stars['star_2'].apply(find_group)"
   ]
  },
  {
   "cell_type": "code",
   "execution_count": null,
   "metadata": {},
   "outputs": [],
   "source": [
    "euromillions.df"
   ]
  },
  {
   "cell_type": "code",
   "execution_count": null,
   "metadata": {},
   "outputs": [],
   "source": [
    "euromillions.df_stars.iloc[-20:]"
   ]
  },
  {
   "cell_type": "code",
   "execution_count": null,
   "metadata": {},
   "outputs": [],
   "source": [
    "euromillions.df_stars['combined_groups'] = euromillions.df_stars[['group_0','group_1']].apply(lambda row: [value for value in row if isinstance(value, str)], axis = 1)"
   ]
  },
  {
   "cell_type": "code",
   "execution_count": null,
   "metadata": {},
   "outputs": [],
   "source": [
    "euromillions.df.loc[:,'nro1']"
   ]
  },
  {
   "cell_type": "code",
   "execution_count": null,
   "metadata": {},
   "outputs": [],
   "source": [
    "star = euromillions.df_stars.iloc[:,[1,2,3,4,5,6]]\n",
    "# Definir las combinaciones posibles (low, high)\n",
    "combinations = [('B','D'), ('B','C'), ('A','C'), ('A','D'), ('A','B'), ('C','D'), ('B','A'), ('A','A'), ('B','B'), ('D','C'), ('C','C'), ('D','D')]\n",
    "\n",
    "# Inicializamos las nuevas columnas para almacenar los días desde la última aparición\n",
    "for comb in combinations:\n",
    "    col_name = f'days_since_{comb[0]}_{comb[1]}'\n",
    "    star[col_name] = None\n",
    "\n",
    "# Inicializamos el contador de días\n",
    "days_since = {comb: 0 for comb in combinations}\n",
    "\n",
    "# Iteramos sobre las filas para calcular los días desde la última aparición de cada combinación\n",
    "for i in range(863,len(euromillions.df)):\n",
    "    for comb in combinations:\n",
    "        col_name = f'days_since_{comb[0]}_{comb[1]}'\n",
    "        \n",
    "        if star.loc[i, 'combined_groups'] == list(comb):\n",
    "            # Si la combinación actual coincide, reiniciamos el contador a 0\n",
    "            days_since[comb] = 0\n",
    "        else:\n",
    "            # Si no coincide, incrementamos el contador de días\n",
    "            days_since[comb] += 1\n",
    "        \n",
    "        # Asignamos el valor del contador de días en la nueva columna\n",
    "        star.loc[i, col_name] = days_since[comb]"
   ]
  },
  {
   "cell_type": "code",
   "execution_count": null,
   "metadata": {},
   "outputs": [],
   "source": [
    "avg = star.iloc[:,6:].mean().to_frame().T\n",
    "last_draw = star.iloc[-1]\n",
    "\n",
    "last_features = [\n",
    "    last_draw['star_1'],\n",
    "    last_draw['star_2'],\n",
    "    last_draw['group_1'],              # Característica low\n",
    "    last_draw['days_since_B_D'],             # Característica high\n",
    "    last_draw['days_since_B_C'],   # Días desde que salió la combinación (1, 4)\n",
    "    last_draw['days_since_A_C'],   # Días desde que salió la combinación (2, 3)\n",
    "    last_draw['days_since_A_D'],   # Días desde que salió la combinación (3, 2)\n",
    "    last_draw['days_since_A_B'],   # Días desde que salió la combinación (4, 1)\n",
    "    last_draw['days_since_C_D'],   # Días desde que salió la combinación (5, 0)\n",
    "    last_draw['days_since_B_A'],\n",
    "    last_draw['days_since_A_A'],\n",
    "    last_draw['days_since_B_B'], # Días desde que salió la combinación (0, 5)\n",
    "    last_draw['days_since_D_C'],\n",
    "    last_draw['days_since_C_C'],\n",
    "    last_draw['days_since_D_D']\n",
    "]\n",
    "\n",
    "last_features = np.array(last_features).reshape(1, -1)\n",
    "last_draw = last_draw.to_frame().T"
   ]
  },
  {
   "cell_type": "code",
   "execution_count": null,
   "metadata": {},
   "outputs": [],
   "source": [
    "avg"
   ]
  },
  {
   "cell_type": "code",
   "execution_count": null,
   "metadata": {},
   "outputs": [],
   "source": [
    "for i in avg.columns.to_list():\n",
    "    if last_draw[i].values == 0:\n",
    "        print('descartado, acaba de salir')\n",
    "    elif avg[i].values < last_draw[i].values:\n",
    "        print(f'{i} por encima de la media, escoger esta serie')\n",
    "    elif avg[i].values > last_draw[i].values and abs(avg[i].values - last_draw[i].values):\n",
    "        print('preferencia')\n",
    "    # elif last_draw[i].values > avg[i].values"
   ]
  },
  {
   "cell_type": "code",
   "execution_count": null,
   "metadata": {},
   "outputs": [],
   "source": [
    "last_draw"
   ]
  },
  {
   "cell_type": "code",
   "execution_count": null,
   "metadata": {},
   "outputs": [],
   "source": [
    "last_draw = star.iloc[-1:]"
   ]
  },
  {
   "cell_type": "code",
   "execution_count": null,
   "metadata": {},
   "outputs": [],
   "source": [
    "star.iloc[-20:]"
   ]
  },
  {
   "cell_type": "code",
   "execution_count": null,
   "metadata": {},
   "outputs": [],
   "source": [
    "import pandas as pd\n",
    "from sklearn.model_selection import train_test_split\n",
    "from sklearn.preprocessing import LabelEncoder\n",
    "from sklearn.ensemble import RandomForestClassifier\n",
    "from sklearn.metrics import classification_report\n",
    "\n",
    "# Crear el DataFrame (sustituye esto por la carga de tus datos reales)\n",
    "data = star.copy()  # Aquí carga el DataFrame real.\n",
    "\n",
    "# Separar las características y la variable objetivo\n",
    "X = data.drop(columns=['draw','star_1','star_2','group_1','combined_groups'])\n",
    "y = data['group_0']\n",
    "\n",
    "# Convertir las variables categóricas a numéricas si es necesario\n",
    "categorical_columns = [\"group_0\"]\n",
    "for col in categorical_columns:\n",
    "    le = LabelEncoder()\n",
    "    X[col] = le.fit_transform(X[col])\n",
    "\n",
    "# Codificar el objetivo (combined_groups)\n",
    "le_target = LabelEncoder()\n",
    "y = le_target.fit_transform(y)\n",
    "\n",
    "# Dividir los datos en conjuntos de entrenamiento y prueba\n",
    "X_train, X_test, y_train, y_test = train_test_split(X, y, test_size=0.2, random_state=42)\n",
    "\n",
    "# Entrenar un modelo\n",
    "model = RandomForestClassifier(\n",
    "    n_estimators=100,\n",
    "    max_depth=10,\n",
    "    min_samples_split=5,\n",
    "    min_samples_leaf=2,\n",
    "    random_state=42\n",
    ")\n",
    "model.fit(X_train, y_train)\n",
    "\n",
    "# Evaluar el modelo\n",
    "y_pred = model.predict(X_test)\n",
    "print(classification_report(y_test, y_pred))"
   ]
  },
  {
   "cell_type": "code",
   "execution_count": null,
   "metadata": {},
   "outputs": [],
   "source": [
    "X_test"
   ]
  },
  {
   "cell_type": "code",
   "execution_count": null,
   "metadata": {},
   "outputs": [],
   "source": [
    "categorical_columns = ['group_0', 'group_1']\n",
    "for col in categorical_columns:\n",
    "    le = LabelEncoder()\n",
    "    star[col] = le.fit_transform(star[col])"
   ]
  },
  {
   "cell_type": "code",
   "execution_count": null,
   "metadata": {},
   "outputs": [],
   "source": [
    "last_draw = star.iloc[-1]\n",
    "\n",
    "last_features = [\n",
    "    last_draw['star_1'],\n",
    "    last_draw['star_2'],\n",
    "    last_draw['group_1'],              # Característica low\n",
    "    last_draw['days_since_B_D'],             # Característica high\n",
    "    last_draw['days_since_B_C'],   # Días desde que salió la combinación (1, 4)\n",
    "    last_draw['days_since_A_C'],   # Días desde que salió la combinación (2, 3)\n",
    "    last_draw['days_since_A_D'],   # Días desde que salió la combinación (3, 2)\n",
    "    last_draw['days_since_A_B'],   # Días desde que salió la combinación (4, 1)\n",
    "    last_draw['days_since_C_D'],   # Días desde que salió la combinación (5, 0)\n",
    "    last_draw['days_since_B_A'],\n",
    "    last_draw['days_since_A_A'],\n",
    "    last_draw['days_since_B_B'], # Días desde que salió la combinación (0, 5)\n",
    "    last_draw['days_since_D_C'],\n",
    "    last_draw['days_since_C_C'],\n",
    "    last_draw['days_since_D_D']\n",
    "]\n",
    "\n",
    "last_features = np.array(last_features).reshape(1, -1)"
   ]
  },
  {
   "cell_type": "code",
   "execution_count": null,
   "metadata": {},
   "outputs": [],
   "source": [
    "last_features"
   ]
  },
  {
   "cell_type": "code",
   "execution_count": null,
   "metadata": {},
   "outputs": [],
   "source": [
    "y_pred_next = model.predict(last_features)"
   ]
  },
  {
   "cell_type": "code",
   "execution_count": null,
   "metadata": {},
   "outputs": [],
   "source": [
    "star.iloc[906]"
   ]
  },
  {
   "cell_type": "code",
   "execution_count": null,
   "metadata": {},
   "outputs": [],
   "source": [
    "count = 0\n",
    "fails = 0\n",
    "for draw in range(863,len(euromillions.df)-1):\n",
    "    # Obtener el último sorteo\n",
    "    last_draw = star.loc[draw]\n",
    "\n",
    "    # Crear las características de entrada para la predicción\n",
    "    last_features = [\n",
    "        last_draw['group_1'],              # Característica low\n",
    "        last_draw['days_since_B_D'],             # Característica high\n",
    "        last_draw['days_since_B_C'],   # Días desde que salió la combinación (1, 4)\n",
    "        last_draw['days_since_A_C'],   # Días desde que salió la combinación (2, 3)\n",
    "        last_draw['days_since_A_D'],   # Días desde que salió la combinación (3, 2)\n",
    "        last_draw['days_since_A_B'],   # Días desde que salió la combinación (4, 1)\n",
    "        last_draw['days_since_C_D'],   # Días desde que salió la combinación (5, 0)\n",
    "        last_draw['days_since_B_A'],\n",
    "        last_draw['days_since_A_A'],\n",
    "        last_draw['days_since_B_B'], # Días desde que salió la combinación (0, 5)\n",
    "        last_draw['days_since_D_C'],\n",
    "        last_draw['days_since_C_C'],\n",
    "        last_draw['days_since_D_D']\n",
    "    ]\n",
    "\n",
    "    # Convertir las características en un DataFrame o un numpy array\n",
    "    last_features = np.array(last_features).reshape(1, -1)  # Reshape para tener un solo conjunto de datos\n",
    "\n",
    "    # Realizar la predicción\n",
    "    y_pred_next = model.predict(last_features)\n",
    "\n",
    "    # Imprimir el resultado\n",
    "    next = draw + 1\n",
    "    v = star.loc[next,'group_0']\n",
    "    if y_pred_next == v:\n",
    "        print(f'acerto el modelo con la prediccion {y_pred_next}, donde el valor {v}, se cumplio para el sorteo {next}')\n",
    "        count += 1\n",
    "    else:\n",
    "        fails += 1\n",
    "        print(f'fallo la prediccion {y_pred_next}, donde el valor {v}, no corresponde con {next}')\n",
    "\n",
    "print(f'correctos: {count}')\n",
    "print(f'Fallos: {fails}')"
   ]
  },
  {
   "cell_type": "code",
   "execution_count": null,
   "metadata": {},
   "outputs": [],
   "source": [
    "euromillions.df_stars"
   ]
  }
 ],
 "metadata": {
  "kernelspec": {
   "display_name": "python_main",
   "language": "python",
   "name": "python3"
  },
  "language_info": {
   "codemirror_mode": {
    "name": "ipython",
    "version": 3
   },
   "file_extension": ".py",
   "mimetype": "text/x-python",
   "name": "python",
   "nbconvert_exporter": "python",
   "pygments_lexer": "ipython3",
   "version": "3.11.11"
  }
 },
 "nbformat": 4,
 "nbformat_minor": 2
}
