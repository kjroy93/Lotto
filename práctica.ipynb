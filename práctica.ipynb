{
 "cells": [
  {
   "cell_type": "code",
   "execution_count": null,
   "id": "4be7947b",
   "metadata": {},
   "outputs": [],
   "source": [
    "def run(answer):\n",
    "    while answer != 1:\n",
    "        print(\"Esperando instrucciones\")\n",
    "        answer = int(input(\"Stand By: \"))\n",
    "    return answer\n",
    "\n",
    "def date(answer):\n",
    "    year = int(input(\"Introduce el año en curso del nuevo sorteo: \"))\n",
    "    month = int(input(\"Introduce el mes del año en curso: \"))\n",
    "    day = int(input(\"Introduce el dia del sorteo: \"))\n",
    "    date = time.mktime((year, month, day, 0, 0, 0, 0, 0, 0))\n",
    "    date = datetime.fromtimestamp(date)\n",
    "    return date\n",
    "\n",
    "def audit_db(date, db, future):\n",
    "    audit = []\n",
    "    past_dates = date in set(draws['Dates'])\n",
    "    audit.append(past_dates)\n",
    "    future_dates = date in set(future['Dates'])\n",
    "    audit.append(future_dates)\n",
    "    return audit\n",
    "\n",
    "def check(audit):\n",
    "    new_date = loop_True_True(audit)\n",
    "    new_date = loop_True_False(audit)\n",
    "    new_date = loop_False_False(audit)\n",
    "    new_date = loop_False_True(audit)\n",
    "    return new_date\n",
    "\n",
    "def loop_True_True(audit):\n",
    "    while audit == [True, True]:\n",
    "        print(\"¡La fecha que intentas ingresar ya existe! Por favor, introduce otra fecha distinta\")\n",
    "        correction_date(1)\n",
    "    return new_date\n",
    "\n",
    "def loop_True_False(audit):\n",
    "    while audit == [True, False]:\n",
    "        print(\"¡La fecha que intentas ingresar ya existe! Por favor, introduce otra fecha distinta\")\n",
    "        correction_date(1)\n",
    "    return new_date\n",
    "\n",
    "def loop_False_False(audit):\n",
    "    while audit == [False, False]:\n",
    "        print(\"La fecha que intentas ingresar, no corresponde con los proximos sorteos! Por favor, introduce otra fecha distinta\")\n",
    "        correction_date(1)\n",
    "    return new_date\n",
    "\n",
    "def loop_False_True(audit):\n",
    "    while audit == [False, True]:\n",
    "        print(\"¡Correcto! Se crea un nuevo registro\")\n",
    "        break\n",
    "    return new_date\n",
    "\n",
    "def correction_date(answer):\n",
    "    while answer == 1:\n",
    "        year = int(input(\"Introduce el año en curso del nuevo sorteo: \"))\n",
    "        month = int(input(\"Introduce el mes del año en curso: \"))\n",
    "        day = int(input(\"Introduce el dia del sorteo: \"))\n",
    "        date = time.mktime((year, month, day, 0, 0, 0, 0, 0, 0))\n",
    "        date = datetime.fromtimestamp(date)\n",
    "        break\n",
    "    return new_date"
   ]
  },
  {
   "cell_type": "code",
   "execution_count": null,
   "id": "a8f398b2",
   "metadata": {},
   "outputs": [],
   "source": [
    "from datetime import datetime, timedelta\n",
    "import time\n",
    "import pandas as pd\n",
    "import calendar"
   ]
  },
  {
   "cell_type": "code",
   "execution_count": null,
   "id": "425b8298",
   "metadata": {},
   "outputs": [],
   "source": [
    "draws = pd.read_csv('base_de_datos.csv', dtype={'Sorteos': \"string\"}, parse_dates=['Dates'])"
   ]
  },
  {
   "cell_type": "code",
   "execution_count": null,
   "id": "d0ee1123",
   "metadata": {},
   "outputs": [],
   "source": [
    "df = pd.DataFrame(columns=['Dates', 'Sorteos', 'Nro1', 'Nro2', 'Nro3', 'Nro4', 'Nro5', 'Star_1', 'Star_2'])\n",
    "\n",
    "print(\"\"\"Bienvenido a tu base de datos. Dime, ¿quieres actualizar los datos que tienes?\n",
    "1. Sí\n",
    "2. No\"\"\")\n",
    "\n",
    "answer = int(input(\"\"))\n",
    "\n",
    "while answer != 1:\n",
    "    print(\"Esperando instrucciones\")\n",
    "    answer = int(input())\n",
    "\n",
    "CONSTANT = draws.shape[0]\n",
    "entry_point = draws.loc[CONSTANT - 1].iat[0]\n",
    "new_date = entry_point.timestamp()\n",
    "limit = time.mktime((2043, 1, 2, 0, 0, 0, 0, 0, 0))\n",
    "future = []\n",
    "three_days = 3*24*60*60\n",
    "four_days = 4*24*60*60\n",
    "while new_date < limit:\n",
    "    date_convert = datetime.fromtimestamp(new_date)\n",
    "    date_calendar = date_convert.isocalendar()\n",
    "    if date_calendar[2] == 2:\n",
    "        new_date += three_days\n",
    "    else:\n",
    "        new_date += four_days\n",
    "    future.append(new_date)\n",
    "future = pd.DataFrame(list(map(datetime.fromtimestamp, future)))\n",
    "future = future.rename(columns={0:'Dates'})\n",
    "future['Dates'] = pd.to_datetime(future['Dates']).dt.normalize()\n",
    "\n",
    "date = date(answer)\n",
    "audit = audit_db(date, draws, future)\n",
    "entry = check(audit)"
   ]
  },
  {
   "cell_type": "code",
   "execution_count": null,
   "id": "c00ce3cd",
   "metadata": {},
   "outputs": [],
   "source": [
    "time_tuple = time.mktime((2023, 1, 10, 0, 0, 0, 0, 0, 0))\n",
    "prueba = datetime.fromtimestamp(time_tuple)\n",
    "comp = datetime.date(prueba)"
   ]
  },
  {
   "cell_type": "code",
   "execution_count": null,
   "id": "76f79696",
   "metadata": {},
   "outputs": [],
   "source": [
    "for weekday in prueba[:2]:\n",
    "    if weekday == 2:\n",
    "        print(\"Martes\")"
   ]
  },
  {
   "cell_type": "code",
   "execution_count": null,
   "id": "cee5115f",
   "metadata": {},
   "outputs": [],
   "source": [
    "draws[draws['Dates'] == datetime.fromtimestamp(time.mktime((year, month, day, 0, 0, 0, 0, 0, 0)))]"
   ]
  },
  {
   "cell_type": "code",
   "execution_count": null,
   "id": "d10a58e3",
   "metadata": {},
   "outputs": [],
   "source": [
    "validation = datetime.fromtimestamp(time.mktime((2023, 1, 10, 0, 0, 0, 0, 0, 0)))\n",
    "patata = pd.DataFrame(columns=['Dates'])\n",
    "patata.loc[0] = [validation]\n",
    "patata"
   ]
  },
  {
   "cell_type": "code",
   "execution_count": null,
   "id": "f8a938d2",
   "metadata": {},
   "outputs": [],
   "source": [
    "(draws == patata['Dates']).all().any() # this code return boolean value, using a dataframe to iter a column with another DataFrame"
   ]
  },
  {
   "cell_type": "code",
   "execution_count": null,
   "id": "0fbad8f5",
   "metadata": {},
   "outputs": [],
   "source": [
    "audit_date_3_days = timedelta(days = 3)\n",
    "audit_date_4_days = timedelta(days = 4)"
   ]
  },
  {
   "cell_type": "code",
   "execution_count": null,
   "id": "bdd005ac",
   "metadata": {},
   "outputs": [],
   "source": [
    "next_date = entry_point + audit_date_3_days\n",
    "print(next_date)"
   ]
  },
  {
   "cell_type": "code",
   "execution_count": null,
   "id": "b9b69634",
   "metadata": {},
   "outputs": [],
   "source": [
    "past = pd.DataFrame"
   ]
  },
  {
   "cell_type": "code",
   "execution_count": null,
   "id": "e4665d5f",
   "metadata": {},
   "outputs": [],
   "source": [
    "audit.info(memory_usage=\"deep\")"
   ]
  },
  {
   "cell_type": "code",
   "execution_count": null,
   "id": "0075a97f",
   "metadata": {},
   "outputs": [],
   "source": [
    "COUNTER = draws.shape[0]\n",
    "entry_point = draws.loc[COUNTER - 1].iat[0]\n",
    "new_date = entry_point.timestamp()\n",
    "limit = time.mktime((2033, 1, 4, 0, 0, 0, 0, 0, 0))\n",
    "audit = []\n",
    "days = 3*24*60*60\n",
    "days1 = 4*24*60*60\n",
    "while new_date < limit:\n",
    "    date = datetime.fromtimestamp(new_date)\n",
    "    date = date.isocalendar()\n",
    "    if date[2] == 2:\n",
    "        new_date += days\n",
    "    else:\n",
    "        new_date += days1\n",
    "    audit.append(new_date)"
   ]
  },
  {
   "cell_type": "code",
   "execution_count": null,
   "id": "ae8db2d3",
   "metadata": {},
   "outputs": [],
   "source": []
  },
  {
   "cell_type": "code",
   "execution_count": null,
   "id": "88736d4c",
   "metadata": {},
   "outputs": [],
   "source": [
    "past_dates = draws.loc[0:1596, 'Dates']"
   ]
  },
  {
   "cell_type": "code",
   "execution_count": null,
   "id": "29f81d96",
   "metadata": {},
   "outputs": [],
   "source": [
    "new_date = datetime.fromtimestamp(time.mktime((2023, 1, 10, 0, 0, 0, 0, 0, 0)))"
   ]
  },
  {
   "cell_type": "code",
   "execution_count": null,
   "id": "0550fa10",
   "metadata": {},
   "outputs": [],
   "source": [
    "x = patata1 in set(draws['Dates'])\n",
    "print(x)"
   ]
  },
  {
   "cell_type": "code",
   "execution_count": null,
   "id": "92430cb4",
   "metadata": {},
   "outputs": [],
   "source": [
    "draws_audit = draws.loc[draws['Dates'] == past_dates]"
   ]
  },
  {
   "cell_type": "code",
   "execution_count": null,
   "id": "4ff92471",
   "metadata": {},
   "outputs": [],
   "source": [
    "patata = pd.DataFrame(columns=['Dates'])"
   ]
  },
  {
   "cell_type": "code",
   "execution_count": null,
   "id": "ef885589",
   "metadata": {},
   "outputs": [],
   "source": [
    "patata.loc[0] = patata1"
   ]
  },
  {
   "cell_type": "code",
   "execution_count": null,
   "id": "5cbd851c",
   "metadata": {},
   "outputs": [],
   "source": [
    "patata1"
   ]
  },
  {
   "cell_type": "code",
   "execution_count": null,
   "id": "6213a025",
   "metadata": {},
   "outputs": [],
   "source": [
    "draws"
   ]
  },
  {
   "cell_type": "code",
   "execution_count": null,
   "id": "5382c783",
   "metadata": {},
   "outputs": [],
   "source": [
    "def date_verification(date):\n",
    "    comp = datetime.datetime.date()\n",
    "    for weekday in prueba[:2]:\n",
    "    if weekday == 2:\n",
    "        print(\"Martes\")"
   ]
  },
  {
   "cell_type": "code",
   "execution_count": null,
   "id": "de3bfde8",
   "metadata": {},
   "outputs": [],
   "source": [
    "audit = []\n",
    "date = time.mktime((2023, 1, 12, 0, 0, 0, 0, 0, 0))\n",
    "date = datetime.fromtimestamp(date)\n",
    "past_dates = date in set(draws['Dates'])\n",
    "audit.append(past_dates)\n",
    "future_dates = date in set(future['Dates'])\n",
    "audit.append(future_dates)\n",
    "match audit:\n",
    "    case True, True:\n",
    "        print(\"¡La fecha que intentas ingresar ya existe! Por favor, introduce una nueva fecha\")\n",
    "    case False, False:\n",
    "        print(\"¡La fecha que intentas ingresar no corresponde con ninguno de los sorteos futuros! Por favor, introduce una nueva fecha\")\n",
    "        \n",
    "    case False, True:\n",
    "        print(\"¡Correcto!\")\n",
    "        print(date)"
   ]
  },
  {
   "cell_type": "code",
   "execution_count": null,
   "id": "699537f4",
   "metadata": {},
   "outputs": [],
   "source": [
    "COUNTER = draws.shape[0]\n",
    "entry_point = draws.loc[COUNTER - 1].iat[0]\n",
    "new_date = entry_point.timestamp()\n",
    "limit = time.mktime((2043, 1, 2, 0, 0, 0, 0, 0, 0))\n",
    "future = []\n",
    "days = 3*24*60*60\n",
    "days1 = 4*24*60*60\n",
    "while new_date < limit:\n",
    "    date = datetime.fromtimestamp(new_date)\n",
    "    date = date.isocalendar()\n",
    "    if date[2] == 2:\n",
    "        new_date += days\n",
    "    else:\n",
    "        new_date += days1\n",
    "    future.append(new_date)\n",
    "future = pd.DataFrame(list(map(datetime.fromtimestamp, future)))"
   ]
  },
  {
   "cell_type": "code",
   "execution_count": null,
   "id": "e025b652",
   "metadata": {},
   "outputs": [],
   "source": [
    "future = future.rename(columns={0:'Dates'})"
   ]
  },
  {
   "cell_type": "code",
   "execution_count": null,
   "id": "7c33d18b",
   "metadata": {},
   "outputs": [],
   "source": [
    "future['Dates'] = pd.to_datetime(future['Dates']).dt.normalize()"
   ]
  },
  {
   "cell_type": "code",
   "execution_count": null,
   "id": "a88859de",
   "metadata": {},
   "outputs": [],
   "source": [
    "future"
   ]
  },
  {
   "cell_type": "code",
   "execution_count": null,
   "id": "6519e734",
   "metadata": {},
   "outputs": [],
   "source": [
    "draws"
   ]
  },
  {
   "cell_type": "code",
   "execution_count": null,
   "id": "c36047ff",
   "metadata": {},
   "outputs": [],
   "source": [
    "audit1 = []\n",
    "past_dates = date in set(draws['Dates'])\n",
    "audit1.append(past_dates)\n",
    "print(past_dates)\n",
    "future_dates = date in set(future['Dates'])\n",
    "audit1.append(future_dates)\n",
    "print(future_dates)\n",
    "print(audit1)"
   ]
  },
  {
   "cell_type": "code",
   "execution_count": null,
   "id": "9856369d",
   "metadata": {},
   "outputs": [],
   "source": []
  }
 ],
 "metadata": {
  "kernelspec": {
   "display_name": "Python 3 (ipykernel)",
   "language": "python",
   "name": "python3"
  },
  "language_info": {
   "codemirror_mode": {
    "name": "ipython",
    "version": 3
   },
   "file_extension": ".py",
   "mimetype": "text/x-python",
   "name": "python",
   "nbconvert_exporter": "python",
   "pygments_lexer": "ipython3",
   "version": "3.10.6"
  }
 },
 "nbformat": 4,
 "nbformat_minor": 5
}
