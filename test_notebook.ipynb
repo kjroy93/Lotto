{
 "cells": [
  {
   "cell_type": "code",
   "execution_count": null,
   "metadata": {},
   "outputs": [],
   "source": [
    "# Imports\n",
    "# Standard Libraries of Python\n",
    "import os\n",
    "import sys\n",
    "import time\n",
    "import itertools\n",
    "from collections import Counter\n",
    "from decimal import Decimal, ROUND_HALF_UP, getcontext\n",
    "getcontext().prec = 5\n",
    "\n",
    "# Dependencies\n",
    "import pandas as pd\n",
    "import numpy as np\n",
    "from pandas import DataFrame\n",
    "from pandas import Series\n",
    "\n",
    "# Libraries made for this Proyect\n",
    "from src.parse import draw_generator,Criteria\n",
    "ruta_carpeta = 'data/simulation_result/'"
   ]
  },
  {
   "cell_type": "code",
   "execution_count": null,
   "metadata": {},
   "outputs": [],
   "source": [
    "# Test of Tomorrow Numbers\n",
    "euromillions = Criteria()\n",
    "\n",
    "euromillions.groups_info()\n",
    "euromillions.apply_transformation()\n",
    "euromillions.count_skips()\n",
    "euromillions.skips_for_last_12_draws()\n",
    "euromillions.get_natural_rotations()\n",
    "euromillions.numbers_clasification()\n",
    "\n",
    "euromillions.year_criterion()\n",
    "euromillions.rotation_criterion()\n",
    "euromillions.position_criterion()\n",
    "euromillions.group_criterion()\n",
    "euromillions.numbers_of_tomorrow()"
   ]
  },
  {
   "cell_type": "code",
   "execution_count": null,
   "metadata": {},
   "outputs": [],
   "source": [
    "# Classes to be defined\n",
    "class Tickets():\n",
    "    def __init__(self,euromillions):\n",
    "        self.recommended_numbers = euromillions.recommended_numbers\n",
    "        self.not_recommended_numbers = euromillions.not_recommended_numbers\n",
    "        self.counts = euromillions.counts\n",
    "        self.skips_7_12 = euromillions.skips_7_12\n",
    "        self._selected_numbers = []\n",
    "\n",
    "    def draw_skips(self) -> DataFrame:\n",
    "        self.d_skips = pd.DataFrame(columns=['nro1','nro2','nro3','nro4','nro5'])\n",
    "        for index, row in self.counts.iterrows():\n",
    "            new_row = []\n",
    "\n",
    "            for column, value in row.items():\n",
    "                if value == 0:\n",
    "                    try:\n",
    "                        aus = self.counts.loc[index - 1, column]\n",
    "                    except KeyError:\n",
    "                        aus = 0\n",
    "                    if pd.isna(aus):\n",
    "                        aus = 0\n",
    "                    new_row.append(aus)\n",
    "        \n",
    "            while len(new_row) < 5:\n",
    "                new_row.append(0)\n",
    "        \n",
    "            self.d_skips.loc[index] = new_row\n",
    "        \n",
    "    def skips_evaluation(self) -> DataFrame:\n",
    "        self.evaluation = pd.DataFrame(columns=['0','5','7','10','13'])\n",
    "        counts = pd.DataFrame(0, index=self.d_skips.index, columns=self.evaluation.columns)\n",
    "\n",
    "        counts['0'] = self.d_skips.apply(lambda row: row.eq(0).sum(),axis=1)\n",
    "        counts['5'] = self.d_skips.apply(lambda row: row.between(0,5).sum(),axis=1)\n",
    "        counts['7'] = self.d_skips.apply(lambda row: row.between(0,7).sum(),axis=1)\n",
    "        counts['10'] = self.d_skips.apply(lambda row: row.between(0,10).sum(),axis=1)\n",
    "        counts['13'] = self.d_skips.apply(lambda row: row.between(0,13).sum(),axis=1)\n",
    "\n",
    "        self.evaluation = pd.concat([self.evaluation,counts],ignore_index=True)\n",
    "        self.evaluation = self.evaluation.set_index(pd.RangeIndex(1, len(self.evaluation) + 1))\n",
    "\n",
    "    def __df_numbers(self) -> Series:\n",
    "        self._df_values = euromillions.last_draw.groupby('skips')['number'].apply(lambda x: list(x)).reset_index().set_index('skips')\n",
    "        self._df_values = self._df_values.rename_axis('number').rename_axis(None)\n",
    "        self._df_values['number'] = self._df_values['number'].apply(lambda x: sorted(x))\n",
    "        return self._df_values['number']\n",
    "    \n",
    "    def __remove_number(self, df:DataFrame, number:int) -> DataFrame:\n",
    "        if df.equals(self.recommended_numbers):\n",
    "            self.recommended_numbers = df.drop(df[df['numbers'] == number].index).reset_index(drop=True)\n",
    "            probability = 1 / len(df)\n",
    "            self.recommended_numbers['criteria'] = self.recommended_numbers['criteria'] * (1 + probability)\n",
    "            return self.recommended_numbers\n",
    "        else:\n",
    "            self.not_recommended_numbers = df.drop(df[df['numbers'] == number].index).reset_index(drop=True)\n",
    "            probability = 1 / len(df)\n",
    "            self.not_recommended_numbers['criteria'] = self.not_recommended_numbers['criteria'] * (1 + probability)\n",
    "            return self.not_recommended_numbers\n",
    "    \n",
    "    def __select_number(self, idx:int, numbers:DataFrame) -> int:\n",
    "        l = sorted(euromillions.last_draw[euromillions.last_draw['skips'] == idx]['number'].to_list())\n",
    "        available_numbers = numbers[numbers['numbers'].isin(l)]['numbers'].tolist()\n",
    "        if available_numbers:\n",
    "            n = np.random.choice(available_numbers)\n",
    "            self._selected_numbers.append(n)\n",
    "            self.__remove_number(numbers,n)\n",
    "\n",
    "    def first_number(self) -> int:\n",
    "        self.numbers = self.__df_numbers()\n",
    "        available_numbers = self.numbers.loc[0]\n",
    "        if available_numbers:\n",
    "            self.__select_number(0,self.recommended_numbers)\n",
    "        else:\n",
    "            self.__select_number(0,self.not_recommended_numbers)\n",
    "    \n",
    "    def suggested_numbers(self):\n",
    "        recommended_numbers_selected = 0\n",
    "        while recommended_numbers_selected < 6:\n",
    "            skip_0 = self.skips_7_12[self.skips_7_12['7'] == 0].index.to_list()\n",
    "            idx = np.random.choice(skip_0)\n",
    "            if idx > 12 and len(euromillions.last_draw[euromillions.last_draw['skips'] < 12]) < 39:\n",
    "                self.__select_number(idx,self.recommended_numbers)\n",
    "            else:\n",
    "                idx = np.random.choice(range(13),size=1)\n",
    "                self.__select_number(idx,self.recommended_numbers)\n",
    "                "
   ]
  },
  {
   "cell_type": "code",
   "execution_count": null,
   "metadata": {},
   "outputs": [],
   "source": [
    "lotto = Tickets(euromillions)"
   ]
  },
  {
   "cell_type": "code",
   "execution_count": null,
   "metadata": {},
   "outputs": [],
   "source": [
    "lotto.draw_skips()\n",
    "lotto.d_skips"
   ]
  },
  {
   "cell_type": "code",
   "execution_count": null,
   "metadata": {},
   "outputs": [],
   "source": [
    "lotto.skips_evaluation()\n",
    "lotto.evaluation"
   ]
  },
  {
   "cell_type": "code",
   "execution_count": null,
   "metadata": {},
   "outputs": [],
   "source": [
    "lotto.first_number()"
   ]
  },
  {
   "cell_type": "code",
   "execution_count": null,
   "metadata": {},
   "outputs": [],
   "source": [
    "lotto._selected_numbers"
   ]
  },
  {
   "cell_type": "code",
   "execution_count": null,
   "metadata": {},
   "outputs": [],
   "source": [
    "lotto.recommended_numbers"
   ]
  },
  {
   "cell_type": "code",
   "execution_count": null,
   "metadata": {},
   "outputs": [],
   "source": [
    "df_values = euromillions.last_draw.groupby('skips')['number'].apply(lambda x: list(x)).reset_index().set_index('skips')\n",
    "df_values = df_values.rename_axis('number').rename_axis(None)\n",
    "df_values['number'] = df_values['number'].apply(lambda x: sorted(x))"
   ]
  },
  {
   "cell_type": "code",
   "execution_count": null,
   "metadata": {},
   "outputs": [],
   "source": [
    "df_values"
   ]
  },
  {
   "cell_type": "code",
   "execution_count": null,
   "metadata": {},
   "outputs": [],
   "source": [
    "selected_numbers = []\n",
    "zero_rows_selected = 0\n",
    "numbers = df_values['number']\n",
    "for idx, column_7 in euromillions.skips_7_12['7'].items():\n",
    "\n",
    "    match idx:\n",
    "        case 0:\n",
    "            select_last_draw = numbers.loc[idx]\n",
    "            available_numbers = [number for number in select_last_draw if number in euromillions.recommended_numbers['numbers'].values]\n",
    "            if available_numbers:\n",
    "                selected_number = np.random.choice(available_numbers)\n",
    "                selected_numbers.append(selected_number)\n",
    "            else:\n",
    "                available_numbers = [number for number in select_last_draw if number in euromillions.not_recommended_numbers['numbers'].values]\n",
    "                selected_number = np.random.choice(available_numbers)\n",
    "                selected_numbers.append(selected_number)\n"
   ]
  },
  {
   "cell_type": "code",
   "execution_count": null,
   "metadata": {},
   "outputs": [],
   "source": [
    "euromillions.recommended_numbers"
   ]
  },
  {
   "cell_type": "code",
   "execution_count": null,
   "metadata": {},
   "outputs": [],
   "source": [
    "patata = [number for number in select_last_draw if number in euromillions.recommended_numbers['numbers'].values]"
   ]
  },
  {
   "cell_type": "code",
   "execution_count": null,
   "metadata": {},
   "outputs": [],
   "source": [
    "type(patata)"
   ]
  },
  {
   "cell_type": "code",
   "execution_count": null,
   "metadata": {},
   "outputs": [],
   "source": [
    "euromillions.not_recommended_numbers.drop(euromillions.not_recommended_numbers.iloc[0,0])"
   ]
  },
  {
   "cell_type": "code",
   "execution_count": null,
   "metadata": {},
   "outputs": [],
   "source": [
    "df_values.loc[df_values.index <= 12,'number'].apply(len).sum() - df_values.loc[df_values.index == 12].apply(len)"
   ]
  },
  {
   "cell_type": "code",
   "execution_count": null,
   "metadata": {},
   "outputs": [],
   "source": [
    "# Test of lottery tickets (dev)\n",
    "lotto = Tickets(euromillions)\n",
    "lotto.draw_skips()"
   ]
  },
  {
   "cell_type": "code",
   "execution_count": null,
   "metadata": {},
   "outputs": [],
   "source": [
    "# Test of Euromillions Analysis\n",
    "start_time = time.time()\n",
    "\n",
    "success = []\n",
    "failure = []\n",
    "results = []\n",
    "euromillions = Criteria()\n",
    "size = len(euromillions.scrap)\n",
    "\n",
    "for draw in draw_generator(size):\n",
    "    db_slice = euromillions.scrap.head(draw)\n",
    "    euromillions.db = db_slice\n",
    "    euromillions.groups_info()\n",
    "    euromillions.apply_transformation()\n",
    "    euromillions.count_skips()\n",
    "    euromillions.skips_for_last_12_draws()\n",
    "    euromillions.get_natural_rotations()\n",
    "    euromillions.numbers_clasification()\n",
    "\n",
    "    euromillions.year_criterion()\n",
    "    euromillions.rotation_criterion()\n",
    "    euromillions.position_criterion()\n",
    "    euromillions.group_criterion()\n",
    "    euromillions.numbers_of_tomorrow()\n",
    "\n",
    "    row = euromillions.scrap.loc[draw,['nro1','nro2','nro3','nro4','nro5']]\n",
    "    column = euromillions.recommended_numbers.loc[:,'numbers']\n",
    "    if len(column) < 25:\n",
    "        missing_rows = 25 - len(column)\n",
    "        first_not_recommended_numbers = euromillions.not_recommended_numbers.head(missing_rows)\n",
    "        column = pd.concat([euromillions.recommended_numbers['numbers'], first_not_recommended_numbers.iloc[:, 0]]).reset_index(drop=True)\n",
    "    else:\n",
    "        result = np.isin(column,row).sum()\n",
    "        success.append(result)\n",
    "        failure.append(5 - result)\n",
    "\n",
    "    # recommended_numbers = euromillions.recommended_numbers['numbers'].sample(6).tolist()\n",
    "    # not_recommended_numbers = euromillions.not_recommended_numbers['numbers'].sample(4).tolist()\n",
    "    # total_numbers = recommended_numbers + not_recommended_numbers\n",
    "    # combinations = list(itertools.combinations(total_numbers, 5))\n",
    "\n",
    "    # draw_results = []\n",
    "\n",
    "    # for combination in combinations:\n",
    "    #     counts = np.isin(row, combination).sum()\n",
    "    #     draw_results.append(counts)\n",
    "\n",
    "    # results.append(draw_results)\n",
    "    # file_name = 'results.csv'\n",
    "    # df_resultado = pd.DataFrame({'Combination': combinations, 'Count': draw_results})\n",
    "\n",
    "    # Obtener el número máximo de conteo\n",
    "    # max_count = max(draw_results)\n",
    "\n",
    "    # if max_count == 0:\n",
    "    #     print('FUCK!')\n",
    "    # elif max_count == 1:\n",
    "    #     print('Too bad')\n",
    "    # elif max_count == 2:\n",
    "    #     print('meh')\n",
    "    # elif max_count == 3:\n",
    "    #     print('now we are talking')\n",
    "    # elif max_count == 4:\n",
    "    #     print('holy shit!')\n",
    "    # elif max_count == 5:\n",
    "    #     print('HELL YEAH')\n",
    "\n",
    "    sys.stdout.write(f\"\\ri = {draw}\")\n",
    "    sys.stdout.flush()\n",
    "    \n",
    "c = Counter(success)\n",
    "x = Counter(failure)\n",
    "\n",
    "# Print quantity of hits per draw, with recommended numbers, and random numbers aside\n",
    "for i in range(0,6):\n",
    "    hits = (success.count(i)/len(success))*100\n",
    "    print(f\"{i} hits: {c[i]}\\n{round(hits,2)}%\")"
   ]
  },
  {
   "cell_type": "code",
   "execution_count": null,
   "metadata": {},
   "outputs": [],
   "source": [
    "euromillions.scrap"
   ]
  },
  {
   "cell_type": "code",
   "execution_count": null,
   "metadata": {},
   "outputs": [],
   "source": [
    "random_succes = []\n",
    "random_failure = []\n",
    "for draw in draw_generator(size):\n",
    "    db_resultados = db_slice.head(draw)\n",
    "    row = euromillions.scrap.loc[draw,['nro1','nro2','nro3','nro4','nro5']]\n",
    "    random_numbers = np.random.choice(range(1,51),size=25,replace=False)\n",
    "    result = np.isin(row, random_numbers).sum()\n",
    "    random_succes.append(result)\n",
    "    random_failure.append(5-result)\n",
    "    sys.stdout.write(f\"\\ri = {draw}\")\n",
    "    sys.stdout.flush()\n",
    "\n",
    "y = Counter(random_succes)\n",
    "z = Counter(random_failure)\n",
    "\n",
    "# Print quantity of hits per draw, with recommended numbers, and random numbers aside\n",
    "for e in range(0,6):\n",
    "    nohits = (random_succes.count(e)/len(random_succes))*100\n",
    "    print(f\"{e} random hits: {y[e]}\\n{round(nohits,2)}%\")"
   ]
  }
 ],
 "metadata": {
  "kernelspec": {
   "display_name": "Python 3 (ipykernel)",
   "language": "python",
   "name": "python3"
  },
  "language_info": {
   "codemirror_mode": {
    "name": "ipython",
    "version": 3
   },
   "file_extension": ".py",
   "mimetype": "text/x-python",
   "name": "python",
   "nbconvert_exporter": "python",
   "pygments_lexer": "ipython3",
   "version": "3.11.0"
  }
 },
 "nbformat": 4,
 "nbformat_minor": 2
}
