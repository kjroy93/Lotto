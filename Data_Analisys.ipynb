{
 "cells": [
  {
   "cell_type": "code",
   "execution_count": null,
   "id": "22d24a42",
   "metadata": {},
   "outputs": [],
   "source": [
    "import time\n",
    "from datetime import datetime, timedelta\n",
    "import pandas as pd\n",
    "import numpy as np\n",
    "from time import sleep"
   ]
  },
  {
   "cell_type": "code",
   "execution_count": null,
   "id": "a0c53878",
   "metadata": {},
   "outputs": [],
   "source": [
    "db = pd.read_csv('base_de_datos.csv', dtype={'Sorteos': \"string\"}, parse_dates=['Dates'])"
   ]
  },
  {
   "cell_type": "code",
   "execution_count": null,
   "id": "d7d6b251",
   "metadata": {},
   "outputs": [],
   "source": [
    "winners = db.iloc[:, 2:7]"
   ]
  },
  {
   "cell_type": "code",
   "execution_count": null,
   "id": "a850f235",
   "metadata": {},
   "outputs": [],
   "source": [
    "for e in range(1,6):\n",
    "    for i in range(1,51):\n",
    "        winners.loc[winners[f\"Nro{e}\"] == i, f\"{i}\"] = True"
   ]
  },
  {
   "cell_type": "code",
   "execution_count": null,
   "id": "c2cace2c",
   "metadata": {},
   "outputs": [],
   "source": [
    "winners.drop(columns = [\"Nro1\",\"Nro2\",\"Nro3\",\"Nro4\",\"Nro5\"], inplace = True)"
   ]
  },
  {
   "cell_type": "code",
   "execution_count": null,
   "id": "8afc0275",
   "metadata": {},
   "outputs": [],
   "source": [
    "# for columns in winners:\n",
    "#     if winners.loc[winners['1']:-1] == True:\n",
    "#         winners.isna().sum()"
   ]
  },
  {
   "cell_type": "code",
   "execution_count": null,
   "id": "f62fd7cd",
   "metadata": {},
   "outputs": [],
   "source": [
    "contador = 0\n",
    "ultimo_sorteo = {}\n",
    "for columns in winners:\n",
    "    for i in reversed(winners[columns]):\n",
    "        if i is not True:\n",
    "            contador += 1\n",
    "        else:\n",
    "            ultimo_sorteo.update({columns:contador})\n",
    "            contador = 0\n",
    "            break"
   ]
  },
  {
   "cell_type": "code",
   "execution_count": null,
   "id": "d195cb28",
   "metadata": {},
   "outputs": [],
   "source": [
    "# values = list(set(val for dic in [ultimo_sorteo] for val in dic.values()))"
   ]
  },
  {
   "cell_type": "code",
   "execution_count": null,
   "id": "bd552920",
   "metadata": {},
   "outputs": [],
   "source": [
    "ultimo_sorteo"
   ]
  },
  {
   "cell_type": "code",
   "execution_count": null,
   "id": "ec9397b2",
   "metadata": {},
   "outputs": [],
   "source": [
    "draws = []\n",
    "for i in range(1, 13):\n",
    "    if i != 13:\n",
    "        rows = len(winners) - i\n",
    "        draws.append(rows)\n",
    "\n",
    "c = [str(i) for i in range(1, 51)]\n",
    "dicts = {draw: {key:[] for key in c} for draw in draws}"
   ]
  },
  {
   "cell_type": "code",
   "execution_count": null,
   "id": "2e9d58e6",
   "metadata": {},
   "outputs": [],
   "source": [
    "contador = 0\n",
    "e = 0\n",
    "while e != 12:\n",
    "    for columns in winners:\n",
    "        winners = winners.loc[:draws[e]]\n",
    "        for i in reversed(winners[columns]):\n",
    "            if i is not True:\n",
    "                contador += 1\n",
    "            else:\n",
    "                dicts[draws[e]].update({columns:contador})\n",
    "                contador = 0\n",
    "                break\n",
    "    e += 1"
   ]
  },
  {
   "cell_type": "code",
   "execution_count": null,
   "id": "c7db3f85",
   "metadata": {},
   "outputs": [],
   "source": [
    "dicts"
   ]
  }
 ],
 "metadata": {
  "kernelspec": {
   "display_name": "Python 3 (ipykernel)",
   "language": "python",
   "name": "python3"
  },
  "language_info": {
   "codemirror_mode": {
    "name": "ipython",
    "version": 3
   },
   "file_extension": ".py",
   "mimetype": "text/x-python",
   "name": "python",
   "nbconvert_exporter": "python",
   "pygments_lexer": "ipython3",
   "version": "3.10.7"
  }
 },
 "nbformat": 4,
 "nbformat_minor": 5
}
