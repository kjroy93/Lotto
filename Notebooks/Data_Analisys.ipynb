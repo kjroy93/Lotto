{
 "cells": [
  {
   "cell_type": "code",
   "execution_count": 1,
   "id": "262565d5",
   "metadata": {},
   "outputs": [],
   "source": [
    "# Libraries\n",
    "import sys\n",
    "sys.path.append('C:\\Proyectos\\Loteria\\DataBase\\Scrapping')\n",
    "from scrapping import get_data\n",
    "import pandas as pd\n",
    "import numpy as np\n",
    "from collections import Counter"
   ]
  },
  {
   "cell_type": "code",
   "execution_count": 2,
   "id": "458f01b4",
   "metadata": {},
   "outputs": [],
   "source": [
    "# Functions\n",
    "def count_skips(df, list_numbers):\n",
    "    counts = {key: 0 for key in list_numbers}\n",
    "    for columns in df:\n",
    "        contador = 0\n",
    "        for i in reversed(df[columns]):\n",
    "            if not i:\n",
    "                contador += 1\n",
    "            else:\n",
    "                counts[columns] = contador\n",
    "                break\n",
    "    return counts\n",
    "\n",
    "def max_output(df):\n",
    "    df = df.T\n",
    "    max_numbers = df.sort_values(by = df.columns[0], ascending = False)\n",
    "    return max_numbers\n",
    "\n",
    "def year_hits(database, numbers, numbers_quantity):\n",
    "    db_year = database['Dates'].dt.year\n",
    "    year_history = pd.DataFrame(columns = ['Year', 'Number', 'Count'])\n",
    "    for year in range(db_year.min(), db_year.max() + 1):\n",
    "        for number in range(1, numbers_quantity + 1):\n",
    "            filtered = numbers[(db_year == year) & (numbers == number).any(axis = 1)]\n",
    "            count = filtered.eq(number).sum().sum()\n",
    "            year_history = pd.concat([year_history, pd.DataFrame({'Year': year, 'Number': number, 'Count': count}, index = [0])], ignore_index = True)\n",
    "    return year_history"
   ]
  },
  {
   "cell_type": "code",
   "execution_count": 3,
   "id": "1890f9a1",
   "metadata": {},
   "outputs": [],
   "source": [
    "# Load the data base and obtain the first DataFrame\n",
    "db = pd.read_parquet('C:\\Proyectos\\Loteria\\DataBase\\db.parquet')\n",
    "winning_numbers = db.iloc[:, 2:7]\n",
    "winning_stars = db.iloc[:, 7:9]\n",
    "\n",
    "# Create a template DataFrame with all values set to False\n",
    "skip_winners_bool = pd.DataFrame(False, columns = [str(i) for i in range(1, 51)], index = range(len(winning_numbers)))\n",
    "\n",
    "# Fill in the True values\n",
    "for e in range(1, 6):\n",
    "    for i in range(1, 51):\n",
    "        skip_winners_bool[f\"{i}\"] |= (winning_numbers[f\"Nro{e}\"] == i)\n",
    "\n",
    "# Add an extra row, in order to compare the number that did not appear for the first time in the game history\n",
    "d_0 = pd.DataFrame(columns = [str(i) for i in range(1, 51)], index = [0]).fillna(True)\n",
    "\n",
    "# Create the final DataFrame\n",
    "skip_winners = pd.concat([d_0, skip_winners_bool]).reset_index(drop = True)\n",
    "del d_0\n",
    "del skip_winners_bool\n",
    "\n",
    "# Hits of numbers\n",
    "numbers_hits = year_hits(db, winning_numbers, 50).pivot_table(index = 'Year', columns = 'Number', values = 'Count', fill_value = 0).sum().reset_index()\n",
    "numbers_hits = numbers_hits.rename(columns = {'Number': 'Numbers', 'Count': 'Hits'}).set_index('Numbers').T\n",
    "numbers_hits = numbers_hits.iloc[0].rename('Hits').to_frame()\n",
    "numbers_hits.index.name = None\n",
    "numbers_hits = numbers_hits.T\n",
    "\n",
    "# Hits of stars since draw 940, this is because of the change of rules. The star 12 was added in September 24th 2016\n",
    "stars_filtered = db[(db['Sorteos'] > 940)].iloc[:, [0, 7, 8]]\n",
    "stars_filtered_hits = year_hits(stars_filtered, stars_filtered, 12).pivot_table(index = 'Year', columns = 'Number', values = 'Count', fill_value=0).sum().reset_index()\n",
    "stars_filtered_hits = stars_filtered_hits.rename(columns = {'Stars': 'Number', 'Count': 'Hits'}).set_index('Number').T\n",
    "stars_filtered_hits = stars_filtered_hits.iloc[0].rename('Hits').to_frame()\n",
    "stars_filtered_hits.index.name = None\n",
    "stars_filtered_hits = stars_filtered_hits.T\n",
    "\n",
    "# Year History for numbers and stars\n",
    "numbers_year_history = year_hits(db, winning_numbers, 50)\n",
    "stars_year_history = year_hits(db, winning_stars, 12)\n",
    "numbers_year_history = numbers_year_history.pivot_table(index = 'Year', columns = 'Number', values = 'Count', fill_value = 0)\n",
    "stars_year_history = stars_year_history.pivot_table(index = 'Year', columns = 'Number', values = 'Count', fill_value = 0)\n",
    "\n",
    "# Average of number\n",
    "numbers_average = numbers_hits.apply(lambda hits: hits/len(db)/5)\n",
    "numbers_average = numbers_average.iloc[0].rename('Average').to_frame()\n",
    "numbers_average.index.name = None\n",
    "average_numbers = numbers_average['Average'].sum() / 50 + 0.001\n",
    "\n",
    "# Average of stars, since draw 940, because of the change of the rules with the inclusion of star number 12\n",
    "stars_average = stars_filtered_hits.apply(lambda hits: hits/len(stars_filtered)/2)\n",
    "stars_average = stars_average.iloc[0].rename('Average').to_frame()\n",
    "stars_average.index.name = None\n",
    "average_stars = stars_average['Average'].sum() / 12 + 0.001"
   ]
  },
  {
   "cell_type": "code",
   "execution_count": null,
   "id": "b9773872",
   "metadata": {},
   "outputs": [],
   "source": [
    "# It creates the list of draws, numbers and the dictionary to obtain the amount of skips per number if wins and looses.\n",
    "draws = list(np.arange(1, len(skip_winners_bool)))\n",
    "numbers = [str(i) for i in range(1, 51)]\n",
    "dicts = {draw: {key:[] for key in numbers} for draw in draws}\n",
    "\n",
    "for e in draws:\n",
    "    df = skip_winners.loc[:e]\n",
    "    counts = count_skips(df, numbers)\n",
    "    dicts[e].update(counts)\n",
    "\n",
    "skip_numbers = pd.DataFrame(dicts).T"
   ]
  },
  {
   "cell_type": "code",
   "execution_count": null,
   "id": "7a4fef1f",
   "metadata": {},
   "outputs": [],
   "source": [
    "# Order the last draw for skips:\n",
    "last_draw = sorted(dicts[len(skip_numbers)].items(), key = lambda x: x[1])\n",
    "last_draw = pd.DataFrame({'Numero': [x[0] for x in last_draw], 'Skips': [int(x[1]) for x in last_draw]})\n",
    "\n",
    "# Select the last 12 draws\n",
    "last_12_draws = np.arange(len(skip_numbers) - 12, len(skip_numbers) + 1)\n",
    "sk_12 = skip_numbers.loc[last_12_draws]\n",
    "\n",
    "# This establish the skips of the last 12 draws\n",
    "skips = np.arange(0, 19)\n",
    "aus_12 = [sk_12.loc[i - 1, str(column)] for i in last_12_draws[1:13] for column in sk_12 if sk_12.loc[i, str(column)] == 0]\n",
    "counter_7 = Counter(aus_12[25:60])\n",
    "counter_12 = Counter(aus_12)\n",
    "last_7 = [counter_7.get(i, 0) for i in skips]\n",
    "last_12 = [counter_12.get(i, 0) for i in skips]\n",
    "skips_7_12 = pd.DataFrame({'7': last_7, '12': last_12})"
   ]
  },
  {
   "cell_type": "code",
   "execution_count": null,
   "id": "30385301",
   "metadata": {},
   "outputs": [],
   "source": [
    "groups = [list(range(i, i + 10)) for i in range(1, 51, 10)]\n",
    "group_names = [tuple(range(i, i + 10)) for i in range(1, 51, 10)]\n",
    "groups_of_winners = db.iloc[:, 2:7]\n",
    "results = {i: {group_name: sum([1 for num in row if num in group]) for group_name, group in zip(group_names, groups)} for i, row in groups_of_winners.iterrows()}\n",
    "results_df = pd.DataFrame.from_dict(results, orient = 'index')\n",
    "results_df.columns = ['{}_to_{}'.format(i, i + 9) for i in range(1, 51, 10)]\n",
    "sg_10 = results_df.iloc[-10:]\n",
    "sg_5 = results_df.iloc[-5:]\n",
    "groups_df = pd.DataFrame({'10_games': (sg_10 > 0).sum(), '5_games': (sg_5 > 0).sum()}).T"
   ]
  },
  {
   "cell_type": "code",
   "execution_count": null,
   "id": "91e28aca",
   "metadata": {},
   "outputs": [],
   "source": []
  },
  {
   "cell_type": "code",
   "execution_count": null,
   "id": "a72de5c9",
   "metadata": {},
   "outputs": [],
   "source": []
  },
  {
   "cell_type": "code",
   "execution_count": null,
   "id": "1016be00",
   "metadata": {},
   "outputs": [],
   "source": [
    "db[db['Sorteos'] == 940]"
   ]
  },
  {
   "cell_type": "code",
   "execution_count": null,
   "id": "da30468b",
   "metadata": {},
   "outputs": [],
   "source": [
    "last_draw"
   ]
  },
  {
   "cell_type": "code",
   "execution_count": null,
   "id": "2dcb7d65",
   "metadata": {},
   "outputs": [],
   "source": [
    "skips_7_12"
   ]
  },
  {
   "cell_type": "code",
   "execution_count": null,
   "id": "6ddca4a6",
   "metadata": {},
   "outputs": [],
   "source": [
    "results_df"
   ]
  },
  {
   "cell_type": "code",
   "execution_count": null,
   "id": "0b833e32",
   "metadata": {},
   "outputs": [],
   "source": [
    "groups_df"
   ]
  },
  {
   "cell_type": "code",
   "execution_count": null,
   "id": "f7326bc0",
   "metadata": {},
   "outputs": [],
   "source": [
    "numbers_year_history"
   ]
  },
  {
   "cell_type": "code",
   "execution_count": null,
   "id": "6feca0ae",
   "metadata": {},
   "outputs": [],
   "source": [
    "stars_year_history"
   ]
  }
 ],
 "metadata": {
  "kernelspec": {
   "display_name": "Python 3 (ipykernel)",
   "language": "python",
   "name": "python3"
  },
  "language_info": {
   "codemirror_mode": {
    "name": "ipython",
    "version": 3
   },
   "file_extension": ".py",
   "mimetype": "text/x-python",
   "name": "python",
   "nbconvert_exporter": "python",
   "pygments_lexer": "ipython3",
   "version": "3.10.7"
  }
 },
 "nbformat": 4,
 "nbformat_minor": 5
}
