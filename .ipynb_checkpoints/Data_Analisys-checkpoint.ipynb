{
 "cells": [
  {
   "cell_type": "code",
   "execution_count": 1,
   "id": "22d24a42",
   "metadata": {},
   "outputs": [],
   "source": [
    "import time\n",
    "from datetime import datetime, timedelta\n",
    "import pandas as pd\n",
    "import numpy as np"
   ]
  },
  {
   "cell_type": "code",
   "execution_count": 2,
   "id": "a0c53878",
   "metadata": {},
   "outputs": [],
   "source": [
    "db = pd.read_csv('base_de_datos.csv', dtype={'Sorteos': \"string\"}, parse_dates=['Dates'])"
   ]
  },
  {
   "cell_type": "code",
   "execution_count": 3,
   "id": "c1582449",
   "metadata": {},
   "outputs": [
    {
     "data": {
      "text/html": [
       "<div>\n",
       "<style scoped>\n",
       "    .dataframe tbody tr th:only-of-type {\n",
       "        vertical-align: middle;\n",
       "    }\n",
       "\n",
       "    .dataframe tbody tr th {\n",
       "        vertical-align: top;\n",
       "    }\n",
       "\n",
       "    .dataframe thead th {\n",
       "        text-align: right;\n",
       "    }\n",
       "</style>\n",
       "<table border=\"1\" class=\"dataframe\">\n",
       "  <thead>\n",
       "    <tr style=\"text-align: right;\">\n",
       "      <th></th>\n",
       "      <th>Nro1</th>\n",
       "      <th>Nro2</th>\n",
       "      <th>Nro3</th>\n",
       "      <th>Nro4</th>\n",
       "      <th>Nro5</th>\n",
       "      <th>Star_1</th>\n",
       "      <th>Star_2</th>\n",
       "    </tr>\n",
       "  </thead>\n",
       "  <tbody>\n",
       "    <tr>\n",
       "      <th>count</th>\n",
       "      <td>1598.000000</td>\n",
       "      <td>1598.000000</td>\n",
       "      <td>1598.000000</td>\n",
       "      <td>1598.000000</td>\n",
       "      <td>1598.000000</td>\n",
       "      <td>1598.000000</td>\n",
       "      <td>1598.000000</td>\n",
       "    </tr>\n",
       "    <tr>\n",
       "      <th>mean</th>\n",
       "      <td>8.403004</td>\n",
       "      <td>16.843554</td>\n",
       "      <td>25.256571</td>\n",
       "      <td>34.003129</td>\n",
       "      <td>42.518773</td>\n",
       "      <td>3.934293</td>\n",
       "      <td>8.003755</td>\n",
       "    </tr>\n",
       "    <tr>\n",
       "      <th>std</th>\n",
       "      <td>6.616069</td>\n",
       "      <td>8.190090</td>\n",
       "      <td>8.667258</td>\n",
       "      <td>8.420723</td>\n",
       "      <td>6.751838</td>\n",
       "      <td>2.486797</td>\n",
       "      <td>2.547480</td>\n",
       "    </tr>\n",
       "    <tr>\n",
       "      <th>min</th>\n",
       "      <td>1.000000</td>\n",
       "      <td>2.000000</td>\n",
       "      <td>5.000000</td>\n",
       "      <td>9.000000</td>\n",
       "      <td>10.000000</td>\n",
       "      <td>1.000000</td>\n",
       "      <td>2.000000</td>\n",
       "    </tr>\n",
       "    <tr>\n",
       "      <th>25%</th>\n",
       "      <td>3.000000</td>\n",
       "      <td>10.000000</td>\n",
       "      <td>19.000000</td>\n",
       "      <td>28.000000</td>\n",
       "      <td>39.000000</td>\n",
       "      <td>2.000000</td>\n",
       "      <td>6.000000</td>\n",
       "    </tr>\n",
       "    <tr>\n",
       "      <th>50%</th>\n",
       "      <td>7.000000</td>\n",
       "      <td>16.000000</td>\n",
       "      <td>25.000000</td>\n",
       "      <td>35.000000</td>\n",
       "      <td>44.000000</td>\n",
       "      <td>3.000000</td>\n",
       "      <td>8.000000</td>\n",
       "    </tr>\n",
       "    <tr>\n",
       "      <th>75%</th>\n",
       "      <td>12.000000</td>\n",
       "      <td>23.000000</td>\n",
       "      <td>32.000000</td>\n",
       "      <td>40.000000</td>\n",
       "      <td>48.000000</td>\n",
       "      <td>6.000000</td>\n",
       "      <td>10.000000</td>\n",
       "    </tr>\n",
       "    <tr>\n",
       "      <th>max</th>\n",
       "      <td>38.000000</td>\n",
       "      <td>44.000000</td>\n",
       "      <td>47.000000</td>\n",
       "      <td>49.000000</td>\n",
       "      <td>50.000000</td>\n",
       "      <td>11.000000</td>\n",
       "      <td>12.000000</td>\n",
       "    </tr>\n",
       "  </tbody>\n",
       "</table>\n",
       "</div>"
      ],
      "text/plain": [
       "              Nro1         Nro2         Nro3         Nro4         Nro5  \\\n",
       "count  1598.000000  1598.000000  1598.000000  1598.000000  1598.000000   \n",
       "mean      8.403004    16.843554    25.256571    34.003129    42.518773   \n",
       "std       6.616069     8.190090     8.667258     8.420723     6.751838   \n",
       "min       1.000000     2.000000     5.000000     9.000000    10.000000   \n",
       "25%       3.000000    10.000000    19.000000    28.000000    39.000000   \n",
       "50%       7.000000    16.000000    25.000000    35.000000    44.000000   \n",
       "75%      12.000000    23.000000    32.000000    40.000000    48.000000   \n",
       "max      38.000000    44.000000    47.000000    49.000000    50.000000   \n",
       "\n",
       "            Star_1       Star_2  \n",
       "count  1598.000000  1598.000000  \n",
       "mean      3.934293     8.003755  \n",
       "std       2.486797     2.547480  \n",
       "min       1.000000     2.000000  \n",
       "25%       2.000000     6.000000  \n",
       "50%       3.000000     8.000000  \n",
       "75%       6.000000    10.000000  \n",
       "max      11.000000    12.000000  "
      ]
     },
     "execution_count": 3,
     "metadata": {},
     "output_type": "execute_result"
    }
   ],
   "source": [
    "numbers = pd.DataFrame(columns=[number for number in range(51)]).astype(\"int64\")\n",
    "numbers = numbers.rename(columns={0: 'Sorteos'})\n",
    "df_clean = {'Sorteos': \"string\"}\n",
    "numbers = numbers.astype(df_clean)"
   ]
  },
  {
   "cell_type": "code",
   "execution_count": 64,
   "id": "67622cfb",
   "metadata": {},
   "outputs": [
    {
     "data": {
      "text/html": [
       "<div>\n",
       "<style scoped>\n",
       "    .dataframe tbody tr th:only-of-type {\n",
       "        vertical-align: middle;\n",
       "    }\n",
       "\n",
       "    .dataframe tbody tr th {\n",
       "        vertical-align: top;\n",
       "    }\n",
       "\n",
       "    .dataframe thead th {\n",
       "        text-align: right;\n",
       "    }\n",
       "</style>\n",
       "<table border=\"1\" class=\"dataframe\">\n",
       "  <thead>\n",
       "    <tr style=\"text-align: right;\">\n",
       "      <th></th>\n",
       "      <th>Sorteos</th>\n",
       "      <th>1</th>\n",
       "      <th>2</th>\n",
       "      <th>3</th>\n",
       "      <th>4</th>\n",
       "      <th>5</th>\n",
       "      <th>6</th>\n",
       "      <th>7</th>\n",
       "      <th>8</th>\n",
       "      <th>9</th>\n",
       "      <th>...</th>\n",
       "      <th>41</th>\n",
       "      <th>42</th>\n",
       "      <th>43</th>\n",
       "      <th>44</th>\n",
       "      <th>45</th>\n",
       "      <th>46</th>\n",
       "      <th>47</th>\n",
       "      <th>48</th>\n",
       "      <th>49</th>\n",
       "      <th>50</th>\n",
       "    </tr>\n",
       "  </thead>\n",
       "  <tbody>\n",
       "  </tbody>\n",
       "</table>\n",
       "<p>0 rows × 51 columns</p>\n",
       "</div>"
      ],
      "text/plain": [
       "Empty DataFrame\n",
       "Columns: [Sorteos, 1, 2, 3, 4, 5, 6, 7, 8, 9, 10, 11, 12, 13, 14, 15, 16, 17, 18, 19, 20, 21, 22, 23, 24, 25, 26, 27, 28, 29, 30, 31, 32, 33, 34, 35, 36, 37, 38, 39, 40, 41, 42, 43, 44, 45, 46, 47, 48, 49, 50]\n",
       "Index: []\n",
       "\n",
       "[0 rows x 51 columns]"
      ]
     },
     "execution_count": 64,
     "metadata": {},
     "output_type": "execute_result"
    }
   ],
   "source": [
    "numbers"
   ]
  },
  {
   "cell_type": "code",
   "execution_count": 69,
   "id": "a17d320c",
   "metadata": {},
   "outputs": [
    {
     "name": "stdout",
     "output_type": "stream",
     "text": [
      "[1, 2, 3, 4, 5, 6, 7, 8, 9, 10, 11, 12, 13, 14, 15, 16, 17, 18, 19, 20, 21, 22, 23, 24, 25, 26, 27, 28, 29, 30, 31, 32, 33, 34, 35, 36, 37, 38, 39, 40, 41, 42, 43, 44, 45, 46, 47, 48, 49, 50]\n",
      "[1, 2, 3, 4, 5, 6, 7, 8, 9, 10, 11, 12]\n"
     ]
    }
   ],
   "source": [
    "list_of_numbers = [] # index of numbers\n",
    "list_of_stars = [] # index of stars\n",
    "for i in range(1, 51):\n",
    "    list_of_numbers.append(i)\n",
    "print(list_of_numbers)\n",
    "for i in range(1, 13):\n",
    "    list_of_stars.append(i)\n",
    "print(list_of_stars)"
   ]
  },
  {
   "cell_type": "code",
   "execution_count": 142,
   "id": "d7d6b251",
   "metadata": {},
   "outputs": [],
   "source": [
    "winners = db.iloc[:, 2:7]"
   ]
  },
  {
   "cell_type": "code",
   "execution_count": 111,
   "id": "a547dd59",
   "metadata": {},
   "outputs": [
    {
     "name": "stdout",
     "output_type": "stream",
     "text": [
      "                   Dates Sorteos  Nro1  Nro2  Nro3  Nro4  Nro5  Star_1  Star_2\n",
      "8    2004-04-09 01:00:00       9     1     4    10    19    23       2       8\n",
      "13   2004-05-14 01:00:00      14     1     3    21    32    39       2       6\n",
      "28   2004-08-27 01:00:00      29     1    11    22    28    44       1       9\n",
      "34   2004-10-08 01:00:00      35     1    10    12    16    48       2       6\n",
      "36   2004-10-22 01:00:00      37     1     9    23    25    40       3       9\n",
      "...                  ...     ...   ...   ...   ...   ...   ...     ...     ...\n",
      "1511 2022-03-18 00:00:00    1512     1     9    14    17    43       6      12\n",
      "1516 2022-04-05 01:00:00    1517     1    11    13    24    49       5       6\n",
      "1517 2022-04-08 01:00:00    1518     1    15    16    38    45       4      11\n",
      "1567 2022-09-30 01:00:00    1568     1     2    11    16    26       3      12\n",
      "1590 2022-12-20 00:00:00    1591     1    11    17    20    27       4       5\n",
      "\n",
      "[162 rows x 9 columns]\n"
     ]
    }
   ],
   "source": [
    "rows = db[db['Nro1'] == 1]\n",
    "print(rows)"
   ]
  },
  {
   "cell_type": "code",
   "execution_count": 136,
   "id": "cb14339a",
   "metadata": {},
   "outputs": [
    {
     "ename": "TypeError",
     "evalue": "'method' object is not iterable",
     "output_type": "error",
     "traceback": [
      "\u001b[1;31m---------------------------------------------------------------------------\u001b[0m",
      "\u001b[1;31mTypeError\u001b[0m                                 Traceback (most recent call last)",
      "Cell \u001b[1;32mIn [136], line 1\u001b[0m\n\u001b[1;32m----> 1\u001b[0m \u001b[38;5;28;01mfor\u001b[39;00m index, row \u001b[38;5;129;01min\u001b[39;00m winners\u001b[38;5;241m.\u001b[39miterrows:\n\u001b[0;32m      2\u001b[0m     \u001b[38;5;28mprint\u001b[39m()\n",
      "\u001b[1;31mTypeError\u001b[0m: 'method' object is not iterable"
     ]
    }
   ],
   "source": [
    "for number in winners:\n",
    "    if number == i"
   ]
  },
  {
   "cell_type": "code",
   "execution_count": 144,
   "id": "d504b78a",
   "metadata": {},
   "outputs": [],
   "source": [
    "winners = winners[0:1]"
   ]
  },
  {
   "cell_type": "code",
   "execution_count": 137,
   "id": "b45d040b",
   "metadata": {},
   "outputs": [],
   "source": [
    "draws = draws.iloc[:, 0]"
   ]
  },
  {
   "cell_type": "code",
   "execution_count": 145,
   "id": "e40a8b6b",
   "metadata": {},
   "outputs": [
    {
     "data": {
      "text/html": [
       "<div>\n",
       "<style scoped>\n",
       "    .dataframe tbody tr th:only-of-type {\n",
       "        vertical-align: middle;\n",
       "    }\n",
       "\n",
       "    .dataframe tbody tr th {\n",
       "        vertical-align: top;\n",
       "    }\n",
       "\n",
       "    .dataframe thead th {\n",
       "        text-align: right;\n",
       "    }\n",
       "</style>\n",
       "<table border=\"1\" class=\"dataframe\">\n",
       "  <thead>\n",
       "    <tr style=\"text-align: right;\">\n",
       "      <th></th>\n",
       "      <th>Nro1</th>\n",
       "      <th>Nro2</th>\n",
       "      <th>Nro3</th>\n",
       "      <th>Nro4</th>\n",
       "      <th>Nro5</th>\n",
       "    </tr>\n",
       "  </thead>\n",
       "  <tbody>\n",
       "    <tr>\n",
       "      <th>0</th>\n",
       "      <td>16</td>\n",
       "      <td>29</td>\n",
       "      <td>32</td>\n",
       "      <td>36</td>\n",
       "      <td>41</td>\n",
       "    </tr>\n",
       "  </tbody>\n",
       "</table>\n",
       "</div>"
      ],
      "text/plain": [
       "   Nro1  Nro2  Nro3  Nro4  Nro5\n",
       "0    16    29    32    36    41"
      ]
     },
     "execution_count": 145,
     "metadata": {},
     "output_type": "execute_result"
    }
   ],
   "source": [
    "winners"
   ]
  },
  {
   "cell_type": "code",
   "execution_count": null,
   "id": "f4a1af61",
   "metadata": {},
   "outputs": [],
   "source": []
  }
 ],
 "metadata": {
  "kernelspec": {
   "display_name": "Python 3 (ipykernel)",
   "language": "python",
   "name": "python3"
  },
  "language_info": {
   "codemirror_mode": {
    "name": "ipython",
    "version": 3
   },
   "file_extension": ".py",
   "mimetype": "text/x-python",
   "name": "python",
   "nbconvert_exporter": "python",
   "pygments_lexer": "ipython3",
   "version": "3.10.7"
  }
 },
 "nbformat": 4,
 "nbformat_minor": 5
}
