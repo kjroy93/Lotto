{
 "cells": [
  {
   "cell_type": "code",
   "execution_count": 1,
   "id": "f3bda654",
   "metadata": {},
   "outputs": [],
   "source": [
    "# Libraries\n",
    "import sys\n",
    "sys.path.append('C:\\Proyectos\\Loteria\\DataBase')\n",
    "sys.path.append('C:\\Proyectos\\Loteria\\DataAnalysis')\n",
    "import pandas as pd\n",
    "import numpy as np\n",
    "import time\n",
    "from data_functions import draw_generator\n",
    "from scrapping import euro_scraping\n",
    "from numbers_analisys import analisys\n",
    "from clean_database import structure"
   ]
  },
  {
   "cell_type": "code",
   "execution_count": 2,
   "id": "506a0079",
   "metadata": {},
   "outputs": [],
   "source": [
    "db = euro_scraping()\n",
    "db = structure(db)\n",
    "db_slice = db\n",
    "lenght = len(db)"
   ]
  },
  {
   "cell_type": "code",
   "execution_count": 3,
   "id": "70aa8fce",
   "metadata": {},
   "outputs": [
    {
     "name": "stdout",
     "output_type": "stream",
     "text": [
      "i = 1380"
     ]
    },
    {
     "ename": "KeyboardInterrupt",
     "evalue": "",
     "output_type": "error",
     "traceback": [
      "\u001b[1;31m---------------------------------------------------------------------------\u001b[0m",
      "\u001b[1;31mKeyboardInterrupt\u001b[0m                         Traceback (most recent call last)",
      "Cell \u001b[1;32mIn[3], line 7\u001b[0m\n\u001b[0;32m      5\u001b[0m \u001b[38;5;28;01mfor\u001b[39;00m draw \u001b[38;5;129;01min\u001b[39;00m draw_generator(lenght):\n\u001b[0;32m      6\u001b[0m     db_resultados \u001b[38;5;241m=\u001b[39m db_slice\u001b[38;5;241m.\u001b[39mhead(draw)\n\u001b[1;32m----> 7\u001b[0m     recommended_numbers, not_recommended_numbers \u001b[38;5;241m=\u001b[39m analisys(db_resultados)\n\u001b[0;32m      8\u001b[0m     row \u001b[38;5;241m=\u001b[39m db\u001b[38;5;241m.\u001b[39mloc[draw,[\u001b[38;5;124m'\u001b[39m\u001b[38;5;124mNro1\u001b[39m\u001b[38;5;124m'\u001b[39m,\u001b[38;5;124m'\u001b[39m\u001b[38;5;124mNro2\u001b[39m\u001b[38;5;124m'\u001b[39m,\u001b[38;5;124m'\u001b[39m\u001b[38;5;124mNro3\u001b[39m\u001b[38;5;124m'\u001b[39m,\u001b[38;5;124m'\u001b[39m\u001b[38;5;124mNro4\u001b[39m\u001b[38;5;124m'\u001b[39m,\u001b[38;5;124m'\u001b[39m\u001b[38;5;124mNro5\u001b[39m\u001b[38;5;124m'\u001b[39m]]\n\u001b[0;32m      9\u001b[0m     column \u001b[38;5;241m=\u001b[39m recommended_numbers\u001b[38;5;241m.\u001b[39mloc[:, \u001b[38;5;124m'\u001b[39m\u001b[38;5;124mNumbers\u001b[39m\u001b[38;5;124m'\u001b[39m]\n",
      "File \u001b[1;32mC:\\Proyectos\\Loteria\\DataAnalysis\\numbers_analisys.py:36\u001b[0m, in \u001b[0;36manalisys\u001b[1;34m(db)\u001b[0m\n\u001b[0;32m     33\u001b[0m skip_winners \u001b[38;5;241m=\u001b[39m pd\u001b[38;5;241m.\u001b[39mconcat([d_0, skip_winners_bool])\u001b[38;5;241m.\u001b[39mreset_index(drop\u001b[38;5;241m=\u001b[39m\u001b[38;5;28;01mTrue\u001b[39;00m)\n\u001b[0;32m     35\u001b[0m \u001b[38;5;66;03m# Hits of numbers\u001b[39;00m\n\u001b[1;32m---> 36\u001b[0m numbers_hits \u001b[38;5;241m=\u001b[39m data_functions\u001b[38;5;241m.\u001b[39mget_hits(db, winning_numbers, total_numbers)\n\u001b[0;32m     38\u001b[0m \u001b[38;5;66;03m# Year History for numbers and stars\u001b[39;00m\n\u001b[0;32m     39\u001b[0m numbers_year_history \u001b[38;5;241m=\u001b[39m data_functions\u001b[38;5;241m.\u001b[39myear_hits(db, winning_numbers, total_numbers)\n",
      "File \u001b[1;32mC:\\Proyectos\\Loteria\\DataAnalysis\\data_functions.py:53\u001b[0m, in \u001b[0;36mget_hits\u001b[1;34m(database, df_with_numbers, numbers_quantity)\u001b[0m\n\u001b[0;32m     52\u001b[0m \u001b[38;5;28;01mdef\u001b[39;00m \u001b[38;5;21mget_hits\u001b[39m(database, df_with_numbers, numbers_quantity):\n\u001b[1;32m---> 53\u001b[0m     hits \u001b[38;5;241m=\u001b[39m year_hits(database, df_with_numbers, numbers_quantity)\u001b[38;5;241m.\u001b[39msum()\u001b[38;5;241m.\u001b[39mreset_index()\n\u001b[0;32m     54\u001b[0m     hits \u001b[38;5;241m=\u001b[39m hits\u001b[38;5;241m.\u001b[39mrename(columns \u001b[38;5;241m=\u001b[39m {\u001b[38;5;124m'\u001b[39m\u001b[38;5;124mNumber\u001b[39m\u001b[38;5;124m'\u001b[39m: \u001b[38;5;124m'\u001b[39m\u001b[38;5;124mNumbers\u001b[39m\u001b[38;5;124m'\u001b[39m, \u001b[38;5;124m'\u001b[39m\u001b[38;5;124mCount\u001b[39m\u001b[38;5;124m'\u001b[39m: \u001b[38;5;124m'\u001b[39m\u001b[38;5;124mHits\u001b[39m\u001b[38;5;124m'\u001b[39m})\u001b[38;5;241m.\u001b[39mset_index(\u001b[38;5;124m'\u001b[39m\u001b[38;5;124mNumbers\u001b[39m\u001b[38;5;124m'\u001b[39m)\u001b[38;5;241m.\u001b[39mT\n\u001b[0;32m     55\u001b[0m     hits \u001b[38;5;241m=\u001b[39m hits\u001b[38;5;241m.\u001b[39miloc[\u001b[38;5;241m0\u001b[39m]\u001b[38;5;241m.\u001b[39mrename(\u001b[38;5;124m'\u001b[39m\u001b[38;5;124mHits\u001b[39m\u001b[38;5;124m'\u001b[39m)\u001b[38;5;241m.\u001b[39mto_frame()\n",
      "File \u001b[1;32mC:\\Proyectos\\Loteria\\DataAnalysis\\data_functions.py:48\u001b[0m, in \u001b[0;36myear_hits\u001b[1;34m(database, df_with_numbers, numbers_quantity)\u001b[0m\n\u001b[0;32m     46\u001b[0m year_numbers \u001b[38;5;241m=\u001b[39m [(y, n) \u001b[38;5;28;01mfor\u001b[39;00m y \u001b[38;5;129;01min\u001b[39;00m \u001b[38;5;28mrange\u001b[39m(db_year\u001b[38;5;241m.\u001b[39mmin(), db_year\u001b[38;5;241m.\u001b[39mmax()\u001b[38;5;241m+\u001b[39m\u001b[38;5;241m1\u001b[39m) \u001b[38;5;28;01mfor\u001b[39;00m n \u001b[38;5;129;01min\u001b[39;00m numbers_quantity]\n\u001b[0;32m     47\u001b[0m year_history \u001b[38;5;241m=\u001b[39m pd\u001b[38;5;241m.\u001b[39mDataFrame(year_numbers, columns\u001b[38;5;241m=\u001b[39m[\u001b[38;5;124m'\u001b[39m\u001b[38;5;124mYear\u001b[39m\u001b[38;5;124m'\u001b[39m, \u001b[38;5;124m'\u001b[39m\u001b[38;5;124mNumber\u001b[39m\u001b[38;5;124m'\u001b[39m])\n\u001b[1;32m---> 48\u001b[0m year_history \u001b[38;5;241m=\u001b[39m year_history\u001b[38;5;241m.\u001b[39mapply(count_hits, axis\u001b[38;5;241m=\u001b[39m\u001b[38;5;241m1\u001b[39m)\n\u001b[0;32m     49\u001b[0m year_history \u001b[38;5;241m=\u001b[39m year_history\u001b[38;5;241m.\u001b[39mpivot_table(index\u001b[38;5;241m=\u001b[39m\u001b[38;5;124m'\u001b[39m\u001b[38;5;124mYear\u001b[39m\u001b[38;5;124m'\u001b[39m, columns\u001b[38;5;241m=\u001b[39m\u001b[38;5;124m'\u001b[39m\u001b[38;5;124mNumber\u001b[39m\u001b[38;5;124m'\u001b[39m, values\u001b[38;5;241m=\u001b[39m\u001b[38;5;124m'\u001b[39m\u001b[38;5;124mCount\u001b[39m\u001b[38;5;124m'\u001b[39m, fill_value\u001b[38;5;241m=\u001b[39m\u001b[38;5;241m0\u001b[39m)\n\u001b[0;32m     50\u001b[0m \u001b[38;5;28;01mreturn\u001b[39;00m year_history\n",
      "File \u001b[1;32m~\\miniconda3\\envs\\python_main\\Lib\\site-packages\\pandas\\core\\frame.py:9428\u001b[0m, in \u001b[0;36mDataFrame.apply\u001b[1;34m(self, func, axis, raw, result_type, args, **kwargs)\u001b[0m\n\u001b[0;32m   9417\u001b[0m \u001b[38;5;28;01mfrom\u001b[39;00m \u001b[38;5;21;01mpandas\u001b[39;00m\u001b[38;5;21;01m.\u001b[39;00m\u001b[38;5;21;01mcore\u001b[39;00m\u001b[38;5;21;01m.\u001b[39;00m\u001b[38;5;21;01mapply\u001b[39;00m \u001b[38;5;28;01mimport\u001b[39;00m frame_apply\n\u001b[0;32m   9419\u001b[0m op \u001b[38;5;241m=\u001b[39m frame_apply(\n\u001b[0;32m   9420\u001b[0m     \u001b[38;5;28mself\u001b[39m,\n\u001b[0;32m   9421\u001b[0m     func\u001b[38;5;241m=\u001b[39mfunc,\n\u001b[1;32m   (...)\u001b[0m\n\u001b[0;32m   9426\u001b[0m     kwargs\u001b[38;5;241m=\u001b[39mkwargs,\n\u001b[0;32m   9427\u001b[0m )\n\u001b[1;32m-> 9428\u001b[0m \u001b[38;5;28;01mreturn\u001b[39;00m op\u001b[38;5;241m.\u001b[39mapply()\u001b[38;5;241m.\u001b[39m__finalize__(\u001b[38;5;28mself\u001b[39m, method\u001b[38;5;241m=\u001b[39m\u001b[38;5;124m\"\u001b[39m\u001b[38;5;124mapply\u001b[39m\u001b[38;5;124m\"\u001b[39m)\n",
      "File \u001b[1;32m~\\miniconda3\\envs\\python_main\\Lib\\site-packages\\pandas\\core\\apply.py:678\u001b[0m, in \u001b[0;36mFrameApply.apply\u001b[1;34m(self)\u001b[0m\n\u001b[0;32m    675\u001b[0m \u001b[38;5;28;01melif\u001b[39;00m \u001b[38;5;28mself\u001b[39m\u001b[38;5;241m.\u001b[39mraw:\n\u001b[0;32m    676\u001b[0m     \u001b[38;5;28;01mreturn\u001b[39;00m \u001b[38;5;28mself\u001b[39m\u001b[38;5;241m.\u001b[39mapply_raw()\n\u001b[1;32m--> 678\u001b[0m \u001b[38;5;28;01mreturn\u001b[39;00m \u001b[38;5;28mself\u001b[39m\u001b[38;5;241m.\u001b[39mapply_standard()\n",
      "File \u001b[1;32m~\\miniconda3\\envs\\python_main\\Lib\\site-packages\\pandas\\core\\apply.py:798\u001b[0m, in \u001b[0;36mFrameApply.apply_standard\u001b[1;34m(self)\u001b[0m\n\u001b[0;32m    797\u001b[0m \u001b[38;5;28;01mdef\u001b[39;00m \u001b[38;5;21mapply_standard\u001b[39m(\u001b[38;5;28mself\u001b[39m):\n\u001b[1;32m--> 798\u001b[0m     results, res_index \u001b[38;5;241m=\u001b[39m \u001b[38;5;28mself\u001b[39m\u001b[38;5;241m.\u001b[39mapply_series_generator()\n\u001b[0;32m    800\u001b[0m     \u001b[38;5;66;03m# wrap results\u001b[39;00m\n\u001b[0;32m    801\u001b[0m     \u001b[38;5;28;01mreturn\u001b[39;00m \u001b[38;5;28mself\u001b[39m\u001b[38;5;241m.\u001b[39mwrap_results(results, res_index)\n",
      "File \u001b[1;32m~\\miniconda3\\envs\\python_main\\Lib\\site-packages\\pandas\\core\\apply.py:814\u001b[0m, in \u001b[0;36mFrameApply.apply_series_generator\u001b[1;34m(self)\u001b[0m\n\u001b[0;32m    811\u001b[0m \u001b[38;5;28;01mwith\u001b[39;00m option_context(\u001b[38;5;124m\"\u001b[39m\u001b[38;5;124mmode.chained_assignment\u001b[39m\u001b[38;5;124m\"\u001b[39m, \u001b[38;5;28;01mNone\u001b[39;00m):\n\u001b[0;32m    812\u001b[0m     \u001b[38;5;28;01mfor\u001b[39;00m i, v \u001b[38;5;129;01min\u001b[39;00m \u001b[38;5;28menumerate\u001b[39m(series_gen):\n\u001b[0;32m    813\u001b[0m         \u001b[38;5;66;03m# ignore SettingWithCopy here in case the user mutates\u001b[39;00m\n\u001b[1;32m--> 814\u001b[0m         results[i] \u001b[38;5;241m=\u001b[39m \u001b[38;5;28mself\u001b[39m\u001b[38;5;241m.\u001b[39mf(v)\n\u001b[0;32m    815\u001b[0m         \u001b[38;5;28;01mif\u001b[39;00m \u001b[38;5;28misinstance\u001b[39m(results[i], ABCSeries):\n\u001b[0;32m    816\u001b[0m             \u001b[38;5;66;03m# If we have a view on v, we need to make a copy because\u001b[39;00m\n\u001b[0;32m    817\u001b[0m             \u001b[38;5;66;03m#  series_generator will swap out the underlying data\u001b[39;00m\n\u001b[0;32m    818\u001b[0m             results[i] \u001b[38;5;241m=\u001b[39m results[i]\u001b[38;5;241m.\u001b[39mcopy(deep\u001b[38;5;241m=\u001b[39m\u001b[38;5;28;01mFalse\u001b[39;00m)\n",
      "File \u001b[1;32mC:\\Proyectos\\Loteria\\DataAnalysis\\data_functions.py:42\u001b[0m, in \u001b[0;36myear_hits.<locals>.count_hits\u001b[1;34m(year_number)\u001b[0m\n\u001b[0;32m     40\u001b[0m \u001b[38;5;28;01mdef\u001b[39;00m \u001b[38;5;21mcount_hits\u001b[39m(year_number):\n\u001b[0;32m     41\u001b[0m     year, number \u001b[38;5;241m=\u001b[39m year_number\n\u001b[1;32m---> 42\u001b[0m     filtered \u001b[38;5;241m=\u001b[39m df_with_numbers\u001b[38;5;241m.\u001b[39mloc[(db_year \u001b[38;5;241m==\u001b[39m year) \u001b[38;5;241m&\u001b[39m (df_with_numbers \u001b[38;5;241m==\u001b[39m number)\u001b[38;5;241m.\u001b[39many(axis\u001b[38;5;241m=\u001b[39m\u001b[38;5;241m1\u001b[39m), :]\n\u001b[0;32m     43\u001b[0m     count \u001b[38;5;241m=\u001b[39m filtered\u001b[38;5;241m.\u001b[39meq(number)\u001b[38;5;241m.\u001b[39msum()\u001b[38;5;241m.\u001b[39msum()\n\u001b[0;32m     44\u001b[0m     \u001b[38;5;28;01mreturn\u001b[39;00m pd\u001b[38;5;241m.\u001b[39mSeries({\u001b[38;5;124m'\u001b[39m\u001b[38;5;124mYear\u001b[39m\u001b[38;5;124m'\u001b[39m: year, \u001b[38;5;124m'\u001b[39m\u001b[38;5;124mNumber\u001b[39m\u001b[38;5;124m'\u001b[39m: number, \u001b[38;5;124m'\u001b[39m\u001b[38;5;124mCount\u001b[39m\u001b[38;5;124m'\u001b[39m: \u001b[38;5;28mint\u001b[39m(count)})\n",
      "File \u001b[1;32m~\\miniconda3\\envs\\python_main\\Lib\\site-packages\\pandas\\core\\generic.py:11336\u001b[0m, in \u001b[0;36mNDFrame._add_numeric_operations.<locals>.any\u001b[1;34m(self, axis, bool_only, skipna, **kwargs)\u001b[0m\n\u001b[0;32m  11318\u001b[0m \u001b[38;5;129m@doc\u001b[39m(\n\u001b[0;32m  11319\u001b[0m     _bool_doc,\n\u001b[0;32m  11320\u001b[0m     desc\u001b[38;5;241m=\u001b[39m_any_desc,\n\u001b[1;32m   (...)\u001b[0m\n\u001b[0;32m  11334\u001b[0m     \u001b[38;5;241m*\u001b[39m\u001b[38;5;241m*\u001b[39mkwargs,\n\u001b[0;32m  11335\u001b[0m ):\n\u001b[1;32m> 11336\u001b[0m     \u001b[38;5;28;01mreturn\u001b[39;00m NDFrame\u001b[38;5;241m.\u001b[39many(\n\u001b[0;32m  11337\u001b[0m         \u001b[38;5;28mself\u001b[39m,\n\u001b[0;32m  11338\u001b[0m         axis\u001b[38;5;241m=\u001b[39maxis,\n\u001b[0;32m  11339\u001b[0m         bool_only\u001b[38;5;241m=\u001b[39mbool_only,\n\u001b[0;32m  11340\u001b[0m         skipna\u001b[38;5;241m=\u001b[39mskipna,\n\u001b[0;32m  11341\u001b[0m         \u001b[38;5;241m*\u001b[39m\u001b[38;5;241m*\u001b[39mkwargs,\n\u001b[0;32m  11342\u001b[0m     )\n",
      "File \u001b[1;32m~\\miniconda3\\envs\\python_main\\Lib\\site-packages\\pandas\\core\\generic.py:11024\u001b[0m, in \u001b[0;36mNDFrame.any\u001b[1;34m(self, axis, bool_only, skipna, **kwargs)\u001b[0m\n\u001b[0;32m  11017\u001b[0m \u001b[38;5;28;01mdef\u001b[39;00m \u001b[38;5;21many\u001b[39m(\n\u001b[0;32m  11018\u001b[0m     \u001b[38;5;28mself\u001b[39m,\n\u001b[0;32m  11019\u001b[0m     axis: Axis \u001b[38;5;241m=\u001b[39m \u001b[38;5;241m0\u001b[39m,\n\u001b[1;32m   (...)\u001b[0m\n\u001b[0;32m  11022\u001b[0m     \u001b[38;5;241m*\u001b[39m\u001b[38;5;241m*\u001b[39mkwargs,\n\u001b[0;32m  11023\u001b[0m ) \u001b[38;5;241m-\u001b[39m\u001b[38;5;241m>\u001b[39m DataFrame \u001b[38;5;241m|\u001b[39m Series \u001b[38;5;241m|\u001b[39m bool_t:\n\u001b[1;32m> 11024\u001b[0m     \u001b[38;5;28;01mreturn\u001b[39;00m \u001b[38;5;28mself\u001b[39m\u001b[38;5;241m.\u001b[39m_logical_func(\n\u001b[0;32m  11025\u001b[0m         \u001b[38;5;124m\"\u001b[39m\u001b[38;5;124many\u001b[39m\u001b[38;5;124m\"\u001b[39m, nanops\u001b[38;5;241m.\u001b[39mnanany, axis, bool_only, skipna, \u001b[38;5;241m*\u001b[39m\u001b[38;5;241m*\u001b[39mkwargs\n\u001b[0;32m  11026\u001b[0m     )\n",
      "File \u001b[1;32m~\\miniconda3\\envs\\python_main\\Lib\\site-packages\\pandas\\core\\generic.py:11006\u001b[0m, in \u001b[0;36mNDFrame._logical_func\u001b[1;34m(self, name, func, axis, bool_only, skipna, **kwargs)\u001b[0m\n\u001b[0;32m  11004\u001b[0m     \u001b[38;5;28;01mif\u001b[39;00m bool_only:\n\u001b[0;32m  11005\u001b[0m         obj \u001b[38;5;241m=\u001b[39m \u001b[38;5;28mself\u001b[39m\u001b[38;5;241m.\u001b[39m_get_bool_data()\n\u001b[1;32m> 11006\u001b[0m     \u001b[38;5;28;01mreturn\u001b[39;00m obj\u001b[38;5;241m.\u001b[39m_reduce_axis1(name, func, skipna\u001b[38;5;241m=\u001b[39mskipna)\n\u001b[0;32m  11008\u001b[0m \u001b[38;5;28;01mreturn\u001b[39;00m \u001b[38;5;28mself\u001b[39m\u001b[38;5;241m.\u001b[39m_reduce(\n\u001b[0;32m  11009\u001b[0m     func,\n\u001b[0;32m  11010\u001b[0m     name\u001b[38;5;241m=\u001b[39mname,\n\u001b[1;32m   (...)\u001b[0m\n\u001b[0;32m  11014\u001b[0m     filter_type\u001b[38;5;241m=\u001b[39m\u001b[38;5;124m\"\u001b[39m\u001b[38;5;124mbool\u001b[39m\u001b[38;5;124m\"\u001b[39m,\n\u001b[0;32m  11015\u001b[0m )\n",
      "File \u001b[1;32m~\\miniconda3\\envs\\python_main\\Lib\\site-packages\\pandas\\core\\frame.py:10555\u001b[0m, in \u001b[0;36mDataFrame._reduce_axis1\u001b[1;34m(self, name, func, skipna)\u001b[0m\n\u001b[0;32m  10553\u001b[0m \u001b[38;5;28;01mfor\u001b[39;00m arr \u001b[38;5;129;01min\u001b[39;00m \u001b[38;5;28mself\u001b[39m\u001b[38;5;241m.\u001b[39m_mgr\u001b[38;5;241m.\u001b[39marrays:\n\u001b[0;32m  10554\u001b[0m     middle \u001b[38;5;241m=\u001b[39m func(arr, axis\u001b[38;5;241m=\u001b[39m\u001b[38;5;241m0\u001b[39m, skipna\u001b[38;5;241m=\u001b[39mskipna)\n\u001b[1;32m> 10555\u001b[0m     result \u001b[38;5;241m=\u001b[39m ufunc(result, middle)\n\u001b[0;32m  10557\u001b[0m res_ser \u001b[38;5;241m=\u001b[39m \u001b[38;5;28mself\u001b[39m\u001b[38;5;241m.\u001b[39m_constructor_sliced(result, index\u001b[38;5;241m=\u001b[39m\u001b[38;5;28mself\u001b[39m\u001b[38;5;241m.\u001b[39mindex, copy\u001b[38;5;241m=\u001b[39m\u001b[38;5;28;01mFalse\u001b[39;00m)\n\u001b[0;32m  10558\u001b[0m \u001b[38;5;28;01mreturn\u001b[39;00m res_ser\n",
      "\u001b[1;31mKeyboardInterrupt\u001b[0m: "
     ]
    }
   ],
   "source": [
    "start_time = time.time()\n",
    "\n",
    "succes = []\n",
    "failure = []\n",
    "for draw in draw_generator(lenght):\n",
    "    db_resultados = db_slice.head(draw)\n",
    "    recommended_numbers, not_recommended_numbers = analisys(db_resultados)\n",
    "    row = db.loc[draw,['Nro1','Nro2','Nro3','Nro4','Nro5']]\n",
    "    column = recommended_numbers.loc[:, 'Numbers']\n",
    "    result = column.isin(row).sum()\n",
    "    succes.append(result)\n",
    "    failure.append(5-result)\n",
    "    sys.stdout.write(f\"\\ri = {draw}\")\n",
    "    sys.stdout.flush()\n",
    "    \n",
    "end_time = time.time()\n",
    "print(f\"Tiempo de ejecución: {end_time - start_time:.2f} segundos\")"
   ]
  },
  {
   "cell_type": "code",
   "execution_count": 8,
   "id": "cd606917",
   "metadata": {},
   "outputs": [
    {
     "data": {
      "text/plain": [
       "39"
      ]
     },
     "execution_count": 8,
     "metadata": {},
     "output_type": "execute_result"
    }
   ],
   "source": [
    "succes.count(0)"
   ]
  },
  {
   "cell_type": "code",
   "execution_count": 5,
   "id": "488b362f",
   "metadata": {},
   "outputs": [
    {
     "data": {
      "text/plain": [
       "217"
      ]
     },
     "execution_count": 5,
     "metadata": {},
     "output_type": "execute_result"
    }
   ],
   "source": [
    "failure.count(1)"
   ]
  }
 ],
 "metadata": {
  "kernelspec": {
   "display_name": "Python 3 (ipykernel)",
   "language": "python",
   "name": "python3"
  },
  "language_info": {
   "codemirror_mode": {
    "name": "ipython",
    "version": 3
   },
   "file_extension": ".py",
   "mimetype": "text/x-python",
   "name": "python",
   "nbconvert_exporter": "python",
   "pygments_lexer": "ipython3",
   "version": "3.11.0"
  }
 },
 "nbformat": 4,
 "nbformat_minor": 5
}
