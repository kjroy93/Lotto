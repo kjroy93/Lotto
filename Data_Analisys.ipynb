{
 "cells": [
  {
   "cell_type": "code",
   "execution_count": null,
   "id": "262565d5",
   "metadata": {},
   "outputs": [],
   "source": [
    "from scrapping import get_data\n",
    "from datetime import datetime, timedelta\n",
    "import pandas as pd\n",
    "import numpy as np\n",
    "from time import sleep"
   ]
  },
  {
   "cell_type": "code",
   "execution_count": null,
   "id": "1890f9a1",
   "metadata": {},
   "outputs": [],
   "source": [
    "db = pd.read_parquet('db.parquet')\n",
    "winners = db.iloc[:, 1:7].set_index(['Sorteos'])\n",
    "df_0 = pd.DataFrame(columns = [str(i) for i in range(1, 51)], index = [0]).fillna(True)\n",
    "winners = pd.concat([df_0, winners], ignore_index = True).reset_index(drop = True)\n",
    "\n",
    "for e in range(1, 6):\n",
    "    for i in range(1, 51):\n",
    "        winners.loc[winners[f\"Nro{e}\"] == i, f\"{i}\"] = True\n",
    "\n",
    "winners.drop(columns = [\"Nro1\",\"Nro2\",\"Nro3\",\"Nro4\",\"Nro5\"], inplace = True)\n",
    "winners.drop(columns = winners.iloc[:, 50:100], inplace = True)"
   ]
  },
  {
   "cell_type": "code",
   "execution_count": null,
   "id": "b9773872",
   "metadata": {},
   "outputs": [],
   "source": [
    "draws = list(np.arange(1, len(winners)))\n",
    "c = [str(i) for i in range(1, 51)]\n",
    "dicts = {draw: {key:[] for key in c} for draw in draws}\n",
    "contador = 0\n",
    "e = 0\n",
    "\n",
    "while e != len(winners) - 1:\n",
    "    for columns in winners:\n",
    "        df = winners.loc[:draws[e]]\n",
    "        for i in reversed(df[columns]):\n",
    "            if i is not True:\n",
    "                contador += 1\n",
    "            else:\n",
    "                dicts[draws[e]].update({columns:contador})\n",
    "                contador = 0\n",
    "                break\n",
    "    e += 1\n",
    "\n",
    "skip_numbers = pd.DataFrame.from_dict(dicts, orient = 'index')"
   ]
  },
  {
   "cell_type": "code",
   "execution_count": null,
   "id": "7a4fef1f",
   "metadata": {},
   "outputs": [],
   "source": [
    "last_draw = [t[::-1] for t in sorted(dicts[len(skip_numbers)].items(), key = lambda x: x[1])]\n",
    "last_draw = [(a, int(b)) for a, b in last_draw]\n",
    "ld_skips = pd.DataFrame(last_draw).groupby(0)[1].apply(list).reset_index().rename({0: 'Skip', 1: 'Numbers'}, axis = 1)\n",
    "x_12 = np.arange(len(skip_numbers) - 12, len(skip_numbers) + 1)\n",
    "sk_12 = skip_numbers.loc[x_12]\n",
    "skips = np.arange(0, 19)\n",
    "aus = []\n",
    "last_7 = []\n",
    "last_12 = []\n",
    "\n",
    "for i in x_12[1:13]:\n",
    "    columns = range(1, 51)\n",
    "    for column in columns:\n",
    "        if sk_12.loc[i, str(column)] == 0:\n",
    "            aus.append(sk_12.loc[i - 1, str(column)])\n",
    "\n",
    "for number in skips:\n",
    "    last_12.append(aus.count(number))\n",
    "    last_7.append(aus[25:60].count(number))\n",
    "    \n",
    "skips_7_12 = pd.DataFrame(np.column_stack([last_7, last_12]), columns = [7, 12])"
   ]
  },
  {
   "cell_type": "code",
   "execution_count": null,
   "id": "91805755",
   "metadata": {},
   "outputs": [],
   "source": []
  },
  {
   "cell_type": "code",
   "execution_count": null,
   "id": "30385301",
   "metadata": {},
   "outputs": [],
   "source": [
    "print(aus)"
   ]
  },
  {
   "cell_type": "code",
   "execution_count": null,
   "id": "62360e7a",
   "metadata": {},
   "outputs": [],
   "source": [
    "aus[25:60]"
   ]
  },
  {
   "cell_type": "code",
   "execution_count": null,
   "id": "dc2f37ce",
   "metadata": {},
   "outputs": [],
   "source": []
  },
  {
   "cell_type": "code",
   "execution_count": null,
   "id": "b009900c",
   "metadata": {},
   "outputs": [],
   "source": []
  },
  {
   "cell_type": "code",
   "execution_count": null,
   "id": "9057d4a9",
   "metadata": {},
   "outputs": [],
   "source": [
    "ld_skips.loc[2, 'Numbers'][0]"
   ]
  },
  {
   "cell_type": "code",
   "execution_count": null,
   "id": "b724418c",
   "metadata": {},
   "outputs": [],
   "source": [
    "# values = list(set(val for dic in [ultimo_sorteo] for val in dic.values()))"
   ]
  }
 ],
 "metadata": {
  "kernelspec": {
   "display_name": "Python 3 (ipykernel)",
   "language": "python",
   "name": "python3"
  },
  "language_info": {
   "codemirror_mode": {
    "name": "ipython",
    "version": 3
   },
   "file_extension": ".py",
   "mimetype": "text/x-python",
   "name": "python",
   "nbconvert_exporter": "python",
   "pygments_lexer": "ipython3",
   "version": "3.10.7"
  }
 },
 "nbformat": 4,
 "nbformat_minor": 5
}
