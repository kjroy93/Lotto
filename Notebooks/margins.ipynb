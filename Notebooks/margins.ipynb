{
 "cells": [
  {
   "cell_type": "code",
   "execution_count": null,
   "id": "f3bda654",
   "metadata": {},
   "outputs": [],
   "source": [
    "# Libraries\n",
    "import sys\n",
    "sys.path.append('C:\\Proyectos\\Loteria\\DataBase\\Scrapping')\n",
    "sys.path.append('C:\\Proyectos\\Loteria\\DataAnalysis')\n",
    "import datetime\n",
    "import data_functions\n",
    "import pandas as pd\n",
    "import numpy as np\n",
    "from scrapping import get_data\n",
    "from data_analisys import data_analisys\n",
    "from collections import Counter\n",
    "from decimal import Decimal, ROUND_HALF_UP, getcontext\n",
    "from itertools import combinations\n",
    "getcontext().prec = 5\n",
    "np.set_printoptions(precision=5)"
   ]
  },
  {
   "cell_type": "code",
   "execution_count": null,
   "id": "0e757415",
   "metadata": {},
   "outputs": [],
   "source": [
    "db = pd.read_parquet('C:\\Proyectos\\Loteria\\DataBase\\db.parquet')\n",
    "db_resultados = pd.read_parquet('C:\\Proyectos\\Loteria\\DataBase\\db.parquet')\n",
    "db_resultados = db_resultados.head(12)"
   ]
  },
  {
   "cell_type": "code",
   "execution_count": null,
   "id": "70aa8fce",
   "metadata": {},
   "outputs": [],
   "source": [
    "new_draw = range(12, len(db)-1)\n",
    "comprobations = []\n",
    "recommended_numbers, not_recommended_numbers = data_analisys(db_resultados)\n",
    "# db_resultados = pd.concat([db_resultados, db.loc[draw].to_frame().T], axis=0)"
   ]
  },
  {
   "cell_type": "code",
   "execution_count": null,
   "id": "1fa81a96",
   "metadata": {},
   "outputs": [],
   "source": [
    "total_numbers = np.arange(1,13)"
   ]
  },
  {
   "cell_type": "code",
   "execution_count": null,
   "id": "c2690932",
   "metadata": {},
   "outputs": [],
   "source": [
    "db_year = db_resultados['Dates'].dt.year"
   ]
  },
  {
   "cell_type": "code",
   "execution_count": null,
   "id": "a73717b7",
   "metadata": {},
   "outputs": [],
   "source": [
    "stars_filtered = db_resultados[(db_resultados['Sorteos'] > 940)].iloc[:, [0,7,8]]"
   ]
  },
  {
   "cell_type": "code",
   "execution_count": null,
   "id": "30e1e9a6",
   "metadata": {},
   "outputs": [],
   "source": [
    "stars_filtered"
   ]
  },
  {
   "cell_type": "code",
   "execution_count": null,
   "id": "61a567c6",
   "metadata": {},
   "outputs": [],
   "source": [
    "year_numbers = [(y, n) for y in range(db_year.min(), db_year.max()+1) for n in total_numbers]"
   ]
  },
  {
   "cell_type": "code",
   "execution_count": null,
   "id": "26f836fa",
   "metadata": {},
   "outputs": [],
   "source": [
    "year_numbers"
   ]
  },
  {
   "cell_type": "code",
   "execution_count": null,
   "id": "cad22527",
   "metadata": {},
   "outputs": [],
   "source": [
    "def year_hits(database, df_with_numbers, numbers_quantity):\n",
    "    db_year = database['Dates'].dt.year\n",
    "    \n",
    "    def count_hits(year_number):\n",
    "        year, number = year_number\n",
    "        filtered = df_with_numbers.loc[(db_year == year) & (df_with_numbers == number).any(axis=1), :]\n",
    "        count = filtered.eq(number).sum().sum()\n",
    "        return pd.Series({'Year': year, 'Number': number, 'Count': int(count)})\n",
    "    \n",
    "    year_numbers = [(y, n) for y in range(db_year.min(), db_year.max()+1) for n in numbers_quantity]\n",
    "    year_history = pd.DataFrame(year_numbers, columns=['Year', 'Number'])\n",
    "    year_history = year_history.apply(count_hits, axis=1)\n",
    "    year_history = year_history.pivot_table(index='Year', columns='Number', values='Count', fill_value=0)\n",
    "    return year_history"
   ]
  },
  {
   "cell_type": "code",
   "execution_count": null,
   "id": "35f7c5c1",
   "metadata": {},
   "outputs": [],
   "source": [
    "year_hits(stars_filtered, stars_filtered, total_numbers)"
   ]
  },
  {
   "cell_type": "code",
   "execution_count": null,
   "id": "e068a0a9",
   "metadata": {},
   "outputs": [],
   "source": [
    "db_resultados.dtypes"
   ]
  }
 ],
 "metadata": {
  "kernelspec": {
   "display_name": "Python 3 (ipykernel)",
   "language": "python",
   "name": "python3"
  },
  "language_info": {
   "codemirror_mode": {
    "name": "ipython",
    "version": 3
   },
   "file_extension": ".py",
   "mimetype": "text/x-python",
   "name": "python",
   "nbconvert_exporter": "python",
   "pygments_lexer": "ipython3",
   "version": "3.11.0"
  }
 },
 "nbformat": 4,
 "nbformat_minor": 5
}
