{
 "cells": [
  {
   "cell_type": "code",
   "execution_count": null,
   "id": "262565d5",
   "metadata": {},
   "outputs": [],
   "source": [
    "# Libraries\n",
    "import sys\n",
    "sys.path.append('C:\\Proyectos\\Loteria\\DataBase\\Scrapping')\n",
    "from scrapping import get_data\n",
    "import pandas as pd\n",
    "import numpy as np\n",
    "from collections import Counter\n",
    "from decimal import Decimal, getcontext"
   ]
  },
  {
   "cell_type": "code",
   "execution_count": null,
   "id": "458f01b4",
   "metadata": {},
   "outputs": [],
   "source": [
    "# Functions\n",
    "def count_skips(df, list_numbers):\n",
    "    counts = {key: 0 for key in list_numbers}\n",
    "    \n",
    "    for columns in df:\n",
    "        counter = 0\n",
    "        for i in reversed(df[columns]):\n",
    "            if not i:\n",
    "                counter += 1\n",
    "            else:\n",
    "                counts[columns] = counter\n",
    "                break\n",
    "                \n",
    "    return counts\n",
    "\n",
    "def max_output(df):\n",
    "    df = df.T\n",
    "    max_numbers = df.sort_values(by=df.columns[0], ascending=False)\n",
    "    return max_numbers\n",
    "\n",
    "def year_hits(database, df_with_numbers, numbers_quantity):\n",
    "    db_year = database['Dates'].dt.year\n",
    "    year_history = pd.DataFrame(columns = ['Year', 'Number', 'Count'])\n",
    "    \n",
    "    for year in range(db_year.min(), db_year.max()+1):\n",
    "        for number in numbers_quantity:\n",
    "            filtered = df_with_numbers.loc[(db_year == year) & (df_with_numbers == number).any(axis=1), :]\n",
    "            count = filtered.eq(number).sum().sum()\n",
    "            year_history = pd.concat([year_history, pd.DataFrame({'Year': year, 'Number': number, 'Count': count}, index=[0])], ignore_index=True)\n",
    "            \n",
    "    return year_history\n",
    "\n",
    "def get_hits(database, df_with_numbers, numbers_quantity):\n",
    "    hits = year_hits(database, df_with_numbers, numbers_quantity).pivot_table(index='Year', columns='Number', values='Count', fill_value=0).sum().reset_index()\n",
    "    hits = hits.rename(columns = {'Number': 'Numbers', 'Count': 'Hits'}).set_index('Numbers').T\n",
    "    hits = hits.iloc[0].rename('Hits').to_frame()\n",
    "    hits.index.name = None\n",
    "    return hits.T\n",
    "\n",
    "def total_average_hits(database, hits, numbers, is_star=False, aprox=False):\n",
    "    divide = 2 if is_star else 5\n",
    "    average_hits = hits.apply(lambda hits: hits / len(database) / divide)\n",
    "    average_hits = average_hits.iloc[0].rename('Average').to_frame()\n",
    "    average_hits.index.name = None\n",
    "    getcontext().prec = 28\n",
    "    \n",
    "    if aprox:\n",
    "        return Decimal(average_hits['Average'].sum() / numbers.max() + 0.001).quantize(Decimal('0.000001'))\n",
    "    else:\n",
    "        return Decimal(average_hits['Average'].sum() / numbers.max()).quantize(Decimal('0.000001'))\n",
    "\n",
    "def minimal_hits(database, hits, numbers, average, is_star=False, aprox=False):\n",
    "    min_hits = total_average_hits(database, hits, numbers, is_star, aprox)\n",
    "    return float(min_hits) * hits.iloc[0, 0] / average.iloc[0, 0]\n",
    "\n",
    "def average_hits(database, hits_data, numbers, is_star = False):\n",
    "    divide = 2 if is_star else 5\n",
    "    hits_by_num = hits_data.apply(lambda hits: hits / len(database) / divide)\n",
    "    hits_by_num = hits_by_num.iloc[0].rename('Average').to_frame()\n",
    "    hits_by_num.index.name = None\n",
    "    averages = []\n",
    "    \n",
    "    for num in numbers:\n",
    "        avg = hits_by_num.loc[num]['Average'].sum()\n",
    "        averages.append(round(avg, 8))\n",
    "        \n",
    "    result = pd.DataFrame({'Numbers/Stars': numbers, 'Average_Hits': averages})\n",
    "    result = result.T\n",
    "    result.columns = result.iloc[0].astype(int)\n",
    "    result = result[1:]\n",
    "    return result\n",
    "\n",
    "def natural_rotation(database, hits, numbers, data_average, index_start, index_end, is_star=False, aprox=False):\n",
    "    average = total_average_hits(database, hits, numbers, is_star, aprox)\n",
    "    m_hits = minimal_hits(database, hits, numbers, data_average, is_star, aprox)\n",
    "    rotation = pd.DataFrame({'Hits': hits.iloc[0], 'Average_Numbers': data_average.iloc[0], 'Average': average, 'Hits_Needed': m_hits}, index = range(index_start, index_end + 1))\n",
    "    rotation['Difference'] = rotation['Hits'] - rotation['Hits_Needed']\n",
    "    return rotation\n",
    "\n",
    "def get_rotations(database, hits, numbers, data_average, is_star=False):\n",
    "    approx_rotations = []\n",
    "    exact_rotations = []\n",
    "    index_ranges = [(1, 25, '_low'), (26, 50, '_high')]\n",
    "    \n",
    "    for start, end, suffix in index_ranges:\n",
    "        # exact rotations\n",
    "        exact_rotation = natural_rotation(database, hits, numbers, data_average, start, end, is_star=is_star, aprox=False)\n",
    "        exact_rotations.append(exact_rotation)\n",
    "        # approx rotations\n",
    "        approx_rotation = natural_rotation(database, hits, numbers, data_average, start, end, is_star=is_star, aprox=True)\n",
    "        approx_rotations.append(approx_rotation)\n",
    "        \n",
    "    return tuple(approx_rotations + exact_rotations)"
   ]
  },
  {
   "cell_type": "code",
   "execution_count": null,
   "id": "b65c0173",
   "metadata": {},
   "outputs": [],
   "source": [
    "# def year_hits(database, df_with_numbers, numbers_quantity):\n",
    "#     db_year = database['Dates'].dt.year\n",
    "    \n",
    "#     def count_hits(year_number):\n",
    "#         year, number = year_number\n",
    "#         filtered = df_with_numbers.loc[(db_year == year) & (df_with_numbers == number).any(axis=1), :]\n",
    "#         count = filtered.eq(number).sum().sum()\n",
    "#         return pd.Series({'Year': year, 'Number': number, 'Count': count})\n",
    "    \n",
    "#     year_numbers = [(y, n) for y in range(db_year.min(), db_year.max()+1) for n in numbers_quantity]\n",
    "#     year_history = pd.DataFrame(year_numbers, columns=['Year', 'Number'])\n",
    "#     year_history = year_history.apply(count_hits, axis=1)\n",
    "#     year_history = year_history.pivot_table(index='Year', columns='Number', values='Count', fill_value=0)\n",
    "#     return year_history\n",
    "# por probar"
   ]
  },
  {
   "cell_type": "code",
   "execution_count": null,
   "id": "1890f9a1",
   "metadata": {},
   "outputs": [],
   "source": [
    "# Load the data base and obtain the first DataFrame\n",
    "db = pd.read_parquet('C:\\Proyectos\\Loteria\\DataBase\\db.parquet')\n",
    "winning_numbers = db.iloc[:, 2:7]\n",
    "winning_stars = db.iloc[:, 7:9]\n",
    "total_numbers = np.arange(1, 51)\n",
    "total_stars = np.arange(1, 13)\n",
    "\n",
    "# Create a template DataFrame with all values set to False\n",
    "skip_winners_bool = pd.DataFrame(False, columns = [str(i) for i in range(1, 51)], index = range(len(winning_numbers)))\n",
    "\n",
    "# Fill in the True values\n",
    "for e in range(1, 6):\n",
    "    for i in range(1, 51):\n",
    "        skip_winners_bool[f\"{i}\"] |= (winning_numbers[f\"Nro{e}\"] == i)\n",
    "\n",
    "# Add an extra row, in order to compare the number that did not appear for the first time in the game history\n",
    "d_0 = pd.DataFrame(columns = [str(i) for i in range(1, 51)], index = [0]).fillna(True)\n",
    "\n",
    "# Create the final DataFrame\n",
    "skip_winners = pd.concat([d_0, skip_winners_bool]).reset_index(drop = True)\n",
    "del d_0\n",
    "del skip_winners_bool\n",
    "\n",
    "# Hits of numbers\n",
    "numbers_hits = get_hits(db, winning_numbers, total_numbers)\n",
    "\n",
    "# Hits of stars since draw 940, this is because of the change of rules. The star 12 was added in September 24th 2016\n",
    "stars_filtered = db[(db['Sorteos'] > 940)].iloc[:, [0, 7, 8]]\n",
    "stars_filtered_hits = get_hits(stars_filtered, stars_filtered, total_stars)\n",
    "\n",
    "# Year History for numbers and stars\n",
    "numbers_year_history = year_hits(db, winning_numbers, total_numbers)\n",
    "stars_year_history = year_hits(db, stars_filtered, total_stars)\n",
    "numbers_year_history = numbers_year_history.pivot_table(index = 'Year', columns = 'Number', values = 'Count', fill_value = 0)\n",
    "stars_year_history = stars_year_history.pivot_table(index = 'Year', columns = 'Number', values = 'Count', fill_value = 0)\n",
    "ny_mean = pd.DataFrame(numbers_year_history.mean(), columns=['Average']).T.rename(index={'0': 'Average'})\n",
    "ny_median = pd.DataFrame(numbers_year_history.median(), columns=['Median']).T.rename(index={'0': 'Median'})\n",
    "numbers_year_history = pd.concat([ny_median, ny_mean, numbers_year_history])\n",
    "\n",
    "# Average of hits per numbers\n",
    "numbers_average = average_hits(db, numbers_hits, total_numbers)\n",
    "\n",
    "# Average of hits per star\n",
    "stars_average = average_hits(stars_filtered, stars_filtered_hits, total_stars, is_star = True)\n",
    "\n",
    "# Natural rotation of the numbers, using exact and aproximation values\n",
    "aprox_rotation_BN_low, aprox_rotation_BN_high, exact_rotation_BN_low, exact_rotation_BN_high = get_rotations(db, numbers_hits, total_numbers, numbers_average, is_star=False)"
   ]
  },
  {
   "cell_type": "code",
   "execution_count": null,
   "id": "b9773872",
   "metadata": {},
   "outputs": [],
   "source": [
    "# It creates the list of draws, numbers and the dictionary to obtain the amount of skips per number if wins and looses.\n",
    "draws = list(np.arange(1, len(skip_winners)))\n",
    "numbers = [str(i) for i in range(1, 51)]\n",
    "dicts = {draw: {key:[] for key in numbers} for draw in draws}\n",
    "\n",
    "for e in draws:\n",
    "    df = skip_winners.loc[:e]\n",
    "    counts = count_skips(df, numbers)\n",
    "    dicts[e].update(counts)\n",
    "\n",
    "skip_numbers = pd.DataFrame(dicts).T\n",
    "del draws\n",
    "del numbers"
   ]
  },
  {
   "cell_type": "code",
   "execution_count": null,
   "id": "7a4fef1f",
   "metadata": {},
   "outputs": [],
   "source": [
    "# Order the last draw for skips:\n",
    "last_draw = sorted(dicts[len(skip_numbers)].items(), key = lambda x: x[1])\n",
    "last_draw = pd.DataFrame({'Numero': [x[0] for x in last_draw], 'Skips': [int(x[1]) for x in last_draw]})\n",
    "del dicts\n",
    "\n",
    "# Select the last 12 draws\n",
    "last_12_draws = np.arange(len(skip_numbers) - 12, len(skip_numbers) + 1)\n",
    "sk_12 = skip_numbers.loc[last_12_draws]\n",
    "\n",
    "# This establish the skips of the last 12 draws\n",
    "skips = np.arange(0, 19)\n",
    "aus_12 = [sk_12.loc[i - 1, str(column)] for i in last_12_draws[1:13] for column in sk_12 if sk_12.loc[i, str(column)] == 0]\n",
    "counter_7 = Counter(aus_12[25:60])\n",
    "counter_12 = Counter(aus_12)\n",
    "last_7 = [counter_7.get(i, 0) for i in skips]\n",
    "last_12 = [counter_12.get(i, 0) for i in skips]\n",
    "skips_7_12 = pd.DataFrame({'7': last_7, '12': last_12})\n",
    "del skips\n",
    "del aus_12"
   ]
  },
  {
   "cell_type": "code",
   "execution_count": null,
   "id": "30385301",
   "metadata": {},
   "outputs": [],
   "source": [
    "groups = [list(range(i, i + 10)) for i in range(1, 51, 10)]\n",
    "group_names = [tuple(range(i, i + 10)) for i in range(1, 51, 10)]\n",
    "results = {i: {group_name: sum([1 for num in row if num in group]) for group_name, group in zip(group_names, groups)} for i, row in winning_numbers.iterrows()}\n",
    "results_df = pd.DataFrame.from_dict(results, orient = 'index')\n",
    "results_df.columns = ['{}_to_{}'.format(i, i + 9) for i in range(1, 51, 10)]\n",
    "sg_10 = results_df.iloc[-10:]\n",
    "sg_5 = results_df.iloc[-5:]\n",
    "groups_df = pd.DataFrame({'10_games': (sg_10 > 0).sum(), '5_games': (sg_5 > 0).sum()}).T"
   ]
  },
  {
   "cell_type": "code",
   "execution_count": null,
   "id": "abc337bd",
   "metadata": {},
   "outputs": [],
   "source": []
  },
  {
   "cell_type": "code",
   "execution_count": null,
   "id": "b3d2ae81",
   "metadata": {},
   "outputs": [],
   "source": []
  },
  {
   "cell_type": "code",
   "execution_count": null,
   "id": "c842a06f",
   "metadata": {},
   "outputs": [],
   "source": []
  },
  {
   "cell_type": "code",
   "execution_count": null,
   "id": "1a5aef2a",
   "metadata": {},
   "outputs": [],
   "source": []
  },
  {
   "cell_type": "code",
   "execution_count": null,
   "id": "1016be00",
   "metadata": {},
   "outputs": [],
   "source": [
    "db"
   ]
  },
  {
   "cell_type": "code",
   "execution_count": null,
   "id": "da30468b",
   "metadata": {},
   "outputs": [],
   "source": [
    "last_draw"
   ]
  },
  {
   "cell_type": "code",
   "execution_count": null,
   "id": "2dcb7d65",
   "metadata": {},
   "outputs": [],
   "source": [
    "skips_7_12"
   ]
  },
  {
   "cell_type": "code",
   "execution_count": null,
   "id": "6ddca4a6",
   "metadata": {},
   "outputs": [],
   "source": [
    "results_df"
   ]
  },
  {
   "cell_type": "code",
   "execution_count": null,
   "id": "0b833e32",
   "metadata": {},
   "outputs": [],
   "source": [
    "groups_df"
   ]
  },
  {
   "cell_type": "code",
   "execution_count": null,
   "id": "5b6e38df",
   "metadata": {},
   "outputs": [],
   "source": [
    "numbers_hits"
   ]
  },
  {
   "cell_type": "code",
   "execution_count": null,
   "id": "edb40299",
   "metadata": {},
   "outputs": [],
   "source": [
    "numbers_year_history"
   ]
  },
  {
   "cell_type": "code",
   "execution_count": null,
   "id": "f0dc95e0",
   "metadata": {},
   "outputs": [],
   "source": [
    "aprox_rotation_BN_low"
   ]
  },
  {
   "cell_type": "code",
   "execution_count": null,
   "id": "01a7174b",
   "metadata": {},
   "outputs": [],
   "source": [
    "aprox_rotation_BN_high"
   ]
  },
  {
   "cell_type": "code",
   "execution_count": null,
   "id": "452962fa",
   "metadata": {},
   "outputs": [],
   "source": [
    "exact_rotation_BN_low"
   ]
  },
  {
   "cell_type": "code",
   "execution_count": null,
   "id": "66e96943",
   "metadata": {},
   "outputs": [],
   "source": [
    "exact_rotation_BN_high"
   ]
  },
  {
   "cell_type": "code",
   "execution_count": null,
   "id": "0850c940",
   "metadata": {},
   "outputs": [],
   "source": [
    "stars_filtered_hits"
   ]
  },
  {
   "cell_type": "code",
   "execution_count": null,
   "id": "d5cbadc9",
   "metadata": {},
   "outputs": [],
   "source": [
    "stars_year_history"
   ]
  }
 ],
 "metadata": {
  "kernelspec": {
   "display_name": "Python 3 (ipykernel)",
   "language": "python",
   "name": "python3"
  },
  "language_info": {
   "codemirror_mode": {
    "name": "ipython",
    "version": 3
   },
   "file_extension": ".py",
   "mimetype": "text/x-python",
   "name": "python",
   "nbconvert_exporter": "python",
   "pygments_lexer": "ipython3",
   "version": "3.10.7"
  }
 },
 "nbformat": 4,
 "nbformat_minor": 5
}
