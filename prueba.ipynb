{
 "cells": [
  {
   "cell_type": "code",
   "execution_count": null,
   "metadata": {},
   "outputs": [],
   "source": [
    "# Standard Libraries of Python\n",
    "from decimal import Decimal, ROUND_HALF_UP, getcontext\n",
    "getcontext().prec = 5\n",
    "\n",
    "# Dependencies\n",
    "import pandas as pd\n",
    "import numpy as np\n",
    "np.set_printoptions(precision=5)\n",
    "\n",
    "# Libraries made for this Proyect\n",
    "from database.clean_database import database\n",
    "from data_analisys import data_functions"
   ]
  },
  {
   "cell_type": "code",
   "execution_count": null,
   "metadata": {},
   "outputs": [],
   "source": [
    "class Analisis:\n",
    "    def __init__(self):\n",
    "        self.df = pd.read_parquet('database/db.parquet')\n",
    "        self.lottery = self.df.copy()\n",
    "        self.lottery['Dates'] = self.lottery['Dates'].dt.year\n",
    "        self.lottery = self.lottery.drop(columns=['Sorteo','Star_1','Star_2'])\n",
    "    \n",
    "    def __transformation_into_columns(self,row):\n",
    "        for draw in range(1,6):\n",
    "            if not np.isnan(self.new_lottery.loc[row.Dates,row[f'Nro{draw}']]):\n",
    "                self.new_lottery.loc[row.Dates,row[f'Nro{draw}']] += 1\n",
    "            else:\n",
    "                self.new_lottery.loc[row.Dates,row[f'Nro{draw}']] = 1\n",
    "\n",
    "    def __total_average_hits(self,is_star=False,aprox=False):\n",
    "        divide = 2 if is_star else 5\n",
    "        self.average = self.hits.apply(lambda hits: hits / len(self.df) / divide).iloc[0].to_frame()\n",
    "        if aprox:\n",
    "            return Decimal(self.average.sum().iloc[0]) / Decimal(int(50)) + Decimal(0.001)\n",
    "        else:\n",
    "            return Decimal(self.average.sum().iloc[0]) / Decimal(int(50))\n",
    "\n",
    "    def __natural_rotation(self,index_start,index_end,is_star=False,aprox=False):\n",
    "        rotation = pd.DataFrame({'hits': self.hits.iloc[0],\n",
    "            'average_numbers': self.numbers_average.iloc[0],\n",
    "            'average': self.__total_average_hits(is_star=is_star,aprox=aprox),\n",
    "            'hits_needed': self.m_hits(is_star=is_star,aprox=aprox)},\n",
    "            index=range(index_start,index_end+1))\n",
    "        rotation['difference'] = rotation['hits'] - rotation['hits_needed']\n",
    "        return rotation\n",
    "        \n",
    "    def apply_transformation(self):\n",
    "        self.new_lottery = pd.DataFrame(columns=[i for i in range(1,51)],\n",
    "            index=np.arange(self.lottery['Dates'].iloc[0],self.lottery['Dates'].iloc[-1]+1))\n",
    "        self.lottery.apply(self.__transformation_into_columns,axis=1)\n",
    "        self.new_lottery.fillna(0,inplace=True)\n",
    "\n",
    "        self.hits = self.new_lottery.sum().to_frame().rename(columns={0: 'hits'}).T.astype('int32')\n",
    "        self.mean = self.new_lottery.mean().to_frame().rename(columns={0: 'mean'}).T.astype('float32')\n",
    "        self.median = self.new_lottery.median().to_frame().rename(columns={0: 'median'}).T.astype('int32')\n",
    "\n",
    "    def average_hits(self,is_star=False):\n",
    "        divide = 5 if not is_star else 2\n",
    "        average = round(self.hits.iloc[0][self.new_lottery.columns] / len(self.lottery) / divide, 6)\n",
    "        self.numbers_average = pd.DataFrame(columns = self.new_lottery.columns, \n",
    "            data = [average], \n",
    "            index = ['numbers/stars'])\n",
    "\n",
    "    def m_hits(self,is_star=False,aprox=False):\n",
    "        min_hits = self.__total_average_hits(is_star=is_star,aprox=aprox)\n",
    "        return min_hits * Decimal(int(self.hits.iloc[0,0])) / Decimal(float(self.numbers_average.iloc[0,0]))\n",
    "\n",
    "    def get_natural_rotations(self,is_star=False):\n",
    "        self.exact_rotation = self.__natural_rotation(1,50,is_star=is_star,aprox=False)\n",
    "        self.aprox_rotation = self.__natural_rotation(1,50,is_star=is_star,aprox=True)"
   ]
  },
  {
   "cell_type": "code",
   "execution_count": null,
   "metadata": {},
   "outputs": [],
   "source": [
    "euromillones = Analisis()\n",
    "euromillones.apply_transformation()\n",
    "euromillones.average_hits()\n",
    "euromillones.get_natural_rotations()"
   ]
  },
  {
   "cell_type": "code",
   "execution_count": null,
   "metadata": {},
   "outputs": [],
   "source": []
  }
 ],
 "metadata": {
  "kernelspec": {
   "display_name": "python_main",
   "language": "python",
   "name": "python3"
  },
  "language_info": {
   "codemirror_mode": {
    "name": "ipython",
    "version": 3
   },
   "file_extension": ".py",
   "mimetype": "text/x-python",
   "name": "python",
   "nbconvert_exporter": "python",
   "pygments_lexer": "ipython3",
   "version": "3.11.0"
  },
  "orig_nbformat": 4
 },
 "nbformat": 4,
 "nbformat_minor": 2
}
