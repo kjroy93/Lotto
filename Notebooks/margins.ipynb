{
 "cells": [
  {
   "cell_type": "code",
   "execution_count": 13,
   "id": "f3bda654",
   "metadata": {},
   "outputs": [],
   "source": [
    "# Libraries\n",
    "import sys\n",
    "sys.path.append('C:\\Proyectos\\Loteria\\DataBase')\n",
    "sys.path.append('C:\\Proyectos\\Loteria\\DataAnalysis')\n",
    "import pandas as pd\n",
    "import numpy as np\n",
    "import time\n",
    "from data_functions import draw_generator\n",
    "from scrapping import euro_scraping\n",
    "from numbers_analisys import analisys\n",
    "from clean_database import structure\n",
    "from collections import Counter"
   ]
  },
  {
   "cell_type": "code",
   "execution_count": 2,
   "id": "ac077e4d",
   "metadata": {},
   "outputs": [],
   "source": [
    "import os"
   ]
  },
  {
   "cell_type": "code",
   "execution_count": 5,
   "id": "91267d99",
   "metadata": {},
   "outputs": [
    {
     "data": {
      "text/plain": [
       "['clean_database.py', 'db.parquet', 'scrapping.py', '__pycache__']"
      ]
     },
     "execution_count": 5,
     "metadata": {},
     "output_type": "execute_result"
    }
   ],
   "source": []
  },
  {
   "cell_type": "code",
   "execution_count": 2,
   "id": "506a0079",
   "metadata": {},
   "outputs": [],
   "source": [
    "db = euro_scraping()\n",
    "db = structure(db)\n",
    "db_slice = db\n",
    "lenght = len(db)"
   ]
  },
  {
   "cell_type": "code",
   "execution_count": 7,
   "id": "70aa8fce",
   "metadata": {},
   "outputs": [
    {
     "name": "stdout",
     "output_type": "stream",
     "text": [
      "i = 1625Tiempo de ejecución: 4181.51 segundos\n"
     ]
    }
   ],
   "source": [
    "start_time = time.time()\n",
    "\n",
    "succes = []\n",
    "failure = []\n",
    "for draw in draw_generator(lenght):\n",
    "    db_resultados = db_slice.head(draw)\n",
    "    recommended_numbers, not_recommended_numbers = analisys(db_resultados)\n",
    "    row = db.loc[draw,['Nro1','Nro2','Nro3','Nro4','Nro5']]\n",
    "    column = recommended_numbers.loc[:, 'Numbers']\n",
    "    result = column.isin(row).sum()\n",
    "    succes.append(result)\n",
    "    failure.append(5-result)\n",
    "    sys.stdout.write(f\"\\ri = {draw}\")\n",
    "    sys.stdout.flush()\n",
    "    \n",
    "end_time = time.time()\n",
    "print(f\"Tiempo de ejecución: {end_time - start_time:.2f} segundos\")"
   ]
  },
  {
   "cell_type": "code",
   "execution_count": 17,
   "id": "3c4ea65f",
   "metadata": {},
   "outputs": [
    {
     "data": {
      "text/plain": [
       "1614"
      ]
     },
     "execution_count": 17,
     "metadata": {},
     "output_type": "execute_result"
    }
   ],
   "source": [
    "len(succes)"
   ]
  },
  {
   "cell_type": "code",
   "execution_count": 27,
   "id": "36b14038",
   "metadata": {},
   "outputs": [
    {
     "name": "stdout",
     "output_type": "stream",
     "text": [
      "0 aciertos: 35\n",
      "2.17%\n",
      "1 aciertos: 227\n",
      "14.06%\n",
      "2 aciertos: 507\n",
      "31.41%\n",
      "3 aciertos: 536\n",
      "33.21%\n",
      "4 aciertos: 264\n",
      "16.36%\n",
      "5 aciertos: 45\n",
      "2.79%\n"
     ]
    }
   ],
   "source": [
    "c = Counter(succes)\n",
    "x = Counter(failure)\n",
    "\n",
    "# Imprimir la cantidad de aciertos para cada número de aciertos posibles\n",
    "for i in range(6):\n",
    "    hits = (succes.count(i)/len(succes))*100\n",
    "    print(f\"{i} aciertos: {c[i]}\\n{round(hits,2)}%\")\n",
    "    \n",
    "# for i in range(6):\n",
    "#     print(f\"{i} faltantes: {x[i]}\\n\")"
   ]
  },
  {
   "cell_type": "code",
   "execution_count": 6,
   "id": "50afe4f9",
   "metadata": {},
   "outputs": [
    {
     "name": "stderr",
     "output_type": "stream",
     "text": [
      "100%|██████████| 10000000/10000000 [00:02<00:00, 4800218.27it/s]\n",
      "100%|██████████| 10000000/10000000 [00:02<00:00, 4814605.22it/s]\n",
      "100%|██████████| 10000000/10000000 [00:02<00:00, 4113328.60it/s]\n",
      "100%|██████████| 10000000/10000000 [00:02<00:00, 4468449.17it/s]\n",
      "100%|██████████| 10000000/10000000 [00:02<00:00, 3933780.35it/s]\n",
      "100%|██████████| 10000000/10000000 [00:02<00:00, 3851590.98it/s]\n",
      "100%|██████████| 10000000/10000000 [00:02<00:00, 4302087.20it/s]\n",
      "100%|██████████| 10000000/10000000 [00:02<00:00, 4071408.14it/s]\n",
      "100%|██████████| 10000000/10000000 [00:02<00:00, 4195204.29it/s]\n",
      "100%|██████████| 10000000/10000000 [00:02<00:00, 4130399.29it/s]\n",
      "100%|██████████| 10000000/10000000 [00:02<00:00, 4334712.27it/s]\n",
      "100%|██████████| 10000000/10000000 [00:02<00:00, 4056175.02it/s]\n",
      "100%|██████████| 10000000/10000000 [00:02<00:00, 4244260.65it/s]\n",
      "100%|██████████| 10000000/10000000 [00:02<00:00, 4259411.23it/s]\n",
      "100%|██████████| 10000000/10000000 [00:02<00:00, 4005327.44it/s]\n",
      "100%|██████████| 10000000/10000000 [00:02<00:00, 4098151.13it/s]\n",
      "100%|██████████| 10000000/10000000 [00:02<00:00, 3800275.13it/s]\n",
      "100%|██████████| 10000000/10000000 [00:02<00:00, 3867030.27it/s]\n",
      "100%|██████████| 10000000/10000000 [00:02<00:00, 3819170.21it/s]\n",
      "100%|██████████| 10000000/10000000 [00:02<00:00, 3789880.54it/s]\n",
      "100%|██████████| 10000000/10000000 [00:03<00:00, 3152360.80it/s]\n",
      " 60%|██████    | 6036557/10000000 [00:02<00:01, 2027064.39it/s]\n"
     ]
    },
    {
     "ename": "KeyboardInterrupt",
     "evalue": "",
     "output_type": "error",
     "traceback": [
      "\u001b[1;31m---------------------------------------------------------------------------\u001b[0m",
      "\u001b[1;31mKeyboardInterrupt\u001b[0m                         Traceback (most recent call last)",
      "\u001b[1;32mc:\\Users\\ojeda\\Jesus\\Lotto\\Notebooks\\margins.ipynb Cell 8\u001b[0m in \u001b[0;36m<cell line: 1>\u001b[1;34m()\u001b[0m\n\u001b[1;32m----> <a href='vscode-notebook-cell:/c%3A/Users/ojeda/Jesus/Lotto/Notebooks/margins.ipynb#X10sZmlsZQ%3D%3D?line=0'>1</a>\u001b[0m get_ipython()\u001b[39m.\u001b[39;49mrun_cell_magic(\u001b[39m'\u001b[39;49m\u001b[39mtimeit\u001b[39;49m\u001b[39m'\u001b[39;49m, \u001b[39m'\u001b[39;49m\u001b[39m-n 7\u001b[39;49m\u001b[39m'\u001b[39;49m, \u001b[39m'\u001b[39;49m\u001b[39mfrom tqdm import tqdm\u001b[39;49m\u001b[39m\\n\u001b[39;49;00m\u001b[39mi = 0\u001b[39;49m\u001b[39m\\n\u001b[39;49;00m\u001b[39mfor i in tqdm(range(10000000)):\u001b[39;49m\u001b[39m\\n\u001b[39;49;00m\u001b[39m    i+=1\u001b[39;49m\u001b[39m\\n\u001b[39;49;00m\u001b[39m'\u001b[39;49m)\n",
      "File \u001b[1;32mc:\\Users\\ojeda\\anaconda3\\envs\\core\\lib\\site-packages\\IPython\\core\\interactiveshell.py:2358\u001b[0m, in \u001b[0;36mInteractiveShell.run_cell_magic\u001b[1;34m(self, magic_name, line, cell)\u001b[0m\n\u001b[0;32m   2356\u001b[0m \u001b[39mwith\u001b[39;00m \u001b[39mself\u001b[39m\u001b[39m.\u001b[39mbuiltin_trap:\n\u001b[0;32m   2357\u001b[0m     args \u001b[39m=\u001b[39m (magic_arg_s, cell)\n\u001b[1;32m-> 2358\u001b[0m     result \u001b[39m=\u001b[39m fn(\u001b[39m*\u001b[39margs, \u001b[39m*\u001b[39m\u001b[39m*\u001b[39mkwargs)\n\u001b[0;32m   2359\u001b[0m \u001b[39mreturn\u001b[39;00m result\n",
      "File \u001b[1;32mc:\\Users\\ojeda\\anaconda3\\envs\\core\\lib\\site-packages\\IPython\\core\\magics\\execution.py:1166\u001b[0m, in \u001b[0;36mExecutionMagics.timeit\u001b[1;34m(self, line, cell, local_ns)\u001b[0m\n\u001b[0;32m   1163\u001b[0m         \u001b[39mif\u001b[39;00m time_number \u001b[39m>\u001b[39m\u001b[39m=\u001b[39m \u001b[39m0.2\u001b[39m:\n\u001b[0;32m   1164\u001b[0m             \u001b[39mbreak\u001b[39;00m\n\u001b[1;32m-> 1166\u001b[0m all_runs \u001b[39m=\u001b[39m timer\u001b[39m.\u001b[39;49mrepeat(repeat, number)\n\u001b[0;32m   1167\u001b[0m best \u001b[39m=\u001b[39m \u001b[39mmin\u001b[39m(all_runs) \u001b[39m/\u001b[39m number\n\u001b[0;32m   1168\u001b[0m worst \u001b[39m=\u001b[39m \u001b[39mmax\u001b[39m(all_runs) \u001b[39m/\u001b[39m number\n",
      "File \u001b[1;32mc:\\Users\\ojeda\\anaconda3\\envs\\core\\lib\\timeit.py:205\u001b[0m, in \u001b[0;36mTimer.repeat\u001b[1;34m(self, repeat, number)\u001b[0m\n\u001b[0;32m    203\u001b[0m r \u001b[39m=\u001b[39m []\n\u001b[0;32m    204\u001b[0m \u001b[39mfor\u001b[39;00m i \u001b[39min\u001b[39;00m \u001b[39mrange\u001b[39m(repeat):\n\u001b[1;32m--> 205\u001b[0m     t \u001b[39m=\u001b[39m \u001b[39mself\u001b[39;49m\u001b[39m.\u001b[39;49mtimeit(number)\n\u001b[0;32m    206\u001b[0m     r\u001b[39m.\u001b[39mappend(t)\n\u001b[0;32m    207\u001b[0m \u001b[39mreturn\u001b[39;00m r\n",
      "File \u001b[1;32mc:\\Users\\ojeda\\anaconda3\\envs\\core\\lib\\site-packages\\IPython\\core\\magics\\execution.py:156\u001b[0m, in \u001b[0;36mTimer.timeit\u001b[1;34m(self, number)\u001b[0m\n\u001b[0;32m    154\u001b[0m gc\u001b[39m.\u001b[39mdisable()\n\u001b[0;32m    155\u001b[0m \u001b[39mtry\u001b[39;00m:\n\u001b[1;32m--> 156\u001b[0m     timing \u001b[39m=\u001b[39m \u001b[39mself\u001b[39;49m\u001b[39m.\u001b[39;49minner(it, \u001b[39mself\u001b[39;49m\u001b[39m.\u001b[39;49mtimer)\n\u001b[0;32m    157\u001b[0m \u001b[39mfinally\u001b[39;00m:\n\u001b[0;32m    158\u001b[0m     \u001b[39mif\u001b[39;00m gcold:\n",
      "File \u001b[1;32m<magic-timeit>:4\u001b[0m, in \u001b[0;36minner\u001b[1;34m(_it, _timer)\u001b[0m\n",
      "\u001b[1;31mKeyboardInterrupt\u001b[0m: "
     ]
    }
   ],
   "source": [
    "%%timeit -n 2\n",
    "from tqdm import tqdm\n",
    "i = 0\n",
    "for i in tqdm(range(10000000)):\n",
    "    i+=1  mm"
   ]
  }
 ],
 "metadata": {
  "kernelspec": {
   "display_name": "Python 3 (ipykernel)",
   "language": "python",
   "name": "python3"
  },
  "language_info": {
   "codemirror_mode": {
    "name": "ipython",
    "version": 3
   },
   "file_extension": ".py",
   "mimetype": "text/x-python",
   "name": "python",
   "nbconvert_exporter": "python",
   "pygments_lexer": "ipython3",
   "version": "3.9.7"
  }
 },
 "nbformat": 4,
 "nbformat_minor": 5
}
