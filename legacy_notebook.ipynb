{
 "cells": [
  {
   "cell_type": "code",
   "execution_count": 1,
   "id": "f3bda654",
   "metadata": {},
   "outputs": [
    {
     "ename": "ModuleNotFoundError",
     "evalue": "No module named 'legacy_data_functions'",
     "output_type": "error",
     "traceback": [
      "\u001b[1;31m---------------------------------------------------------------------------\u001b[0m",
      "\u001b[1;31mModuleNotFoundError\u001b[0m                       Traceback (most recent call last)",
      "Cell \u001b[1;32mIn[1], line 13\u001b[0m\n\u001b[0;32m     11\u001b[0m \u001b[39mfrom\u001b[39;00m \u001b[39mdatabase\u001b[39;00m\u001b[39m.\u001b[39;00m\u001b[39mclean_database\u001b[39;00m \u001b[39mimport\u001b[39;00m database\n\u001b[0;32m     12\u001b[0m \u001b[39mfrom\u001b[39;00m \u001b[39mdata_analisys\u001b[39;00m\u001b[39m.\u001b[39;00m\u001b[39mlegacy_data_functions\u001b[39;00m \u001b[39mimport\u001b[39;00m draw_generator, numbers_boolean, first_df_bool\n\u001b[1;32m---> 13\u001b[0m \u001b[39mfrom\u001b[39;00m \u001b[39mdata_analisys\u001b[39;00m\u001b[39m.\u001b[39;00m\u001b[39mnumbers_analisys\u001b[39;00m \u001b[39mimport\u001b[39;00m analisys\n",
      "File \u001b[1;32mc:\\Proyectos\\Loteria\\data_analisys\\numbers_analisys.py:7\u001b[0m\n\u001b[0;32m      4\u001b[0m \u001b[39mfrom\u001b[39;00m \u001b[39mcollections\u001b[39;00m \u001b[39mimport\u001b[39;00m Counter\n\u001b[0;32m      5\u001b[0m \u001b[39mfrom\u001b[39;00m \u001b[39mdecimal\u001b[39;00m \u001b[39mimport\u001b[39;00m Decimal, ROUND_HALF_UP, getcontext\n\u001b[1;32m----> 7\u001b[0m \u001b[39mimport\u001b[39;00m \u001b[39mlegacy_data_functions\u001b[39;00m\n\u001b[0;32m      8\u001b[0m getcontext()\u001b[39m.\u001b[39mprec \u001b[39m=\u001b[39m \u001b[39m5\u001b[39m\n\u001b[0;32m     10\u001b[0m \u001b[39m# Dependencies\u001b[39;00m\n",
      "\u001b[1;31mModuleNotFoundError\u001b[0m: No module named 'legacy_data_functions'"
     ]
    }
   ],
   "source": [
    "# Standard Libraries of Python\n",
    "import sys\n",
    "import time\n",
    "from collections import Counter\n",
    "\n",
    "# Dependencies\n",
    "import pandas as pd\n",
    "import numpy as np\n",
    "\n",
    "# Libraries proper of this Proyect\n",
    "from database.clean_database import database\n",
    "from data_analisys.legacy_data_functions import draw_generator, numbers_boolean, first_df_bool\n",
    "from data_analisys.numbers_analisys import analisys"
   ]
  },
  {
   "cell_type": "code",
   "execution_count": null,
   "id": "5d4f7b74",
   "metadata": {},
   "outputs": [],
   "source": [
    "\"\"\"Constants of the main code for numbers analisys\"\"\"\n",
    "# Main Database to calculate the first DataFrame main_df_counts\n",
    "db = pd.read_parquet('database/db.parquet')\n",
    "db_slice = db\n",
    "lenght = len(db)\n",
    "\n",
    "# Array of numbers\n",
    "total_numbers = np.arange(1,51)\n",
    "\n",
    "# Create a template DataFrame with all values set to False\n",
    "skip_winners_bool = pd.DataFrame(False, columns=[str(i) for i in range(1, 51)], index=range(len(db)))\n",
    "    \n",
    "# Fill in the True values\n",
    "main_boolean_df = numbers_boolean(db, skip_winners_bool, total_numbers)\n",
    "\n",
    "# Main DataFrame to be updated with new draws in function analisys\n",
    "main_df_counts = first_df_bool(db, total_numbers)"
   ]
  },
  {
   "cell_type": "code",
   "execution_count": null,
   "id": "70aa8fce",
   "metadata": {},
   "outputs": [],
   "source": [
    "start_time = time.time()\n",
    "\n",
    "succes = []\n",
    "failure = []\n",
    "for draw in draw_generator(lenght):\n",
    "    db_resultados = db_slice.head(draw)\n",
    "    recommended_numbers, not_recommended_numbers, main_counts = analisys(db_resultados, main_boolean_df, main_df_counts)\n",
    "    main_df_counts = main_counts\n",
    "    row = db.loc[draw,['nro1','nro2','nro3','nro4','nro5']]\n",
    "    column = recommended_numbers.loc[:, 'Numbers']\n",
    "    result = column.isin(row).sum()\n",
    "    succes.append(result)\n",
    "    failure.append(5-result)\n",
    "    sys.stdout.write(f\"\\ri = {draw}\")\n",
    "    sys.stdout.flush()\n",
    "    \n",
    "end_time = time.time()\n",
    "print(f\"Execution time: {end_time - start_time:.2f} seconds\")"
   ]
  },
  {
   "cell_type": "code",
   "execution_count": null,
   "id": "273bd529",
   "metadata": {},
   "outputs": [],
   "source": [
    "start_time = time.time()\n",
    "\n",
    "random_succes = []\n",
    "random_failure = []\n",
    "for draw in draw_generator(lenght):\n",
    "    db_resultados = db_slice.head(draw)\n",
    "    row = db.loc[draw,['nro1','nro2','nro3','nro4','nro5']]\n",
    "    random_numbers = np.random.choice(range(1,51), size=14, replace=False)\n",
    "    result = np.isin(row, random_numbers).sum()\n",
    "    random_succes.append(result)\n",
    "    random_failure.append(5-result)\n",
    "    sys.stdout.write(f\"\\ri = {draw}\")\n",
    "    sys.stdout.flush()\n",
    "\n",
    "end_time = time.time()\n",
    "print(f\"Execution time: {end_time - start_time:.2f} seconds\")"
   ]
  },
  {
   "cell_type": "code",
   "execution_count": null,
   "id": "36b14038",
   "metadata": {},
   "outputs": [],
   "source": [
    "c = Counter(succes)\n",
    "x = Counter(failure)\n",
    "y = Counter(random_succes)\n",
    "z = Counter(random_failure)\n",
    "\n",
    "# Imprimir la cantidad de aciertos para cada número de aciertos posibles\n",
    "for i in range(6):\n",
    "    hits = (succes.count(i)/len(succes))*100\n",
    "    print(f\"{i} hits: {c[i]}\\n{round(hits,2)}%\")\n",
    "\n",
    "for e in range(6):\n",
    "    nohits = (random_succes.count(e)/len(random_succes))*100\n",
    "    print(f\"{e} hits: {y[e]}\\n{round(nohits,2)}%\")"
   ]
  }
 ],
 "metadata": {
  "kernelspec": {
   "display_name": "Python 3 (ipykernel)",
   "language": "python",
   "name": "python3"
  },
  "language_info": {
   "codemirror_mode": {
    "name": "ipython",
    "version": 3
   },
   "file_extension": ".py",
   "mimetype": "text/x-python",
   "name": "python",
   "nbconvert_exporter": "python",
   "pygments_lexer": "ipython3",
   "version": "3.11.0"
  }
 },
 "nbformat": 4,
 "nbformat_minor": 5
}
