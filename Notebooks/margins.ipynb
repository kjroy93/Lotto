{
 "cells": [
  {
   "cell_type": "code",
   "execution_count": null,
   "id": "f3bda654",
   "metadata": {},
   "outputs": [],
   "source": [
    "# Libraries\n",
    "import sys\n",
    "sys.path.append('C:\\Proyectos\\Loteria\\DataBase')\n",
    "sys.path.append('C:\\Proyectos\\Loteria\\DataAnalysis')\n",
    "import datetime\n",
    "import pandas as pd\n",
    "import numpy as np\n",
    "from scrapping import euro_scraping\n",
    "from numbers_analisys import analisys\n",
    "from clean_database import structure\n",
    "# from collections import Counter\n",
    "# from decimal import Decimal, ROUND_HALF_UP, getcontext\n",
    "from itertools import combinations\n",
    "# getcontext().prec = 5\n",
    "# np.set_printoptions(precision=5)"
   ]
  },
  {
   "cell_type": "code",
   "execution_count": null,
   "id": "506a0079",
   "metadata": {},
   "outputs": [],
   "source": [
    "db = pd.read_parquet('C:\\Proyectos\\Loteria\\DataBase\\db.parquet')\n",
    "db_resultados = pd.read_parquet('C:\\Proyectos\\Loteria\\DataBase\\db.parquet')"
   ]
  },
  {
   "cell_type": "code",
   "execution_count": null,
   "id": "4b4a87bd",
   "metadata": {},
   "outputs": [],
   "source": [
    "db_resultados = db_resultados.rename(columns={'Sorteos': 'Sorteo'})"
   ]
  },
  {
   "cell_type": "code",
   "execution_count": null,
   "id": "0b925635",
   "metadata": {},
   "outputs": [],
   "source": [
    "db_resultados"
   ]
  },
  {
   "cell_type": "code",
   "execution_count": null,
   "id": "70aa8fce",
   "metadata": {},
   "outputs": [],
   "source": [
    "new_draw = range(14,25)\n",
    "comprobations = []\n",
    "\n",
    "for draw in new_draw:\n",
    "    \n",
    "\n",
    "# db_resultados = pd.concat([db_resultados, db.loc[draw].to_frame().T], axis=0)"
   ]
  },
  {
   "cell_type": "code",
   "execution_count": null,
   "id": "419417a7",
   "metadata": {},
   "outputs": [],
   "source": [
    "recommended_numbers, not_recommended_numbers = analisys(db_resultados)"
   ]
  },
  {
   "cell_type": "code",
   "execution_count": null,
   "id": "62873907",
   "metadata": {},
   "outputs": [],
   "source": [
    "recommended_numbers"
   ]
  },
  {
   "cell_type": "code",
   "execution_count": null,
   "id": "abb1c614",
   "metadata": {},
   "outputs": [],
   "source": [
    "not_recommended_numbers"
   ]
  }
 ],
 "metadata": {
  "kernelspec": {
   "display_name": "Python 3 (ipykernel)",
   "language": "python",
   "name": "python3"
  },
  "language_info": {
   "codemirror_mode": {
    "name": "ipython",
    "version": 3
   },
   "file_extension": ".py",
   "mimetype": "text/x-python",
   "name": "python",
   "nbconvert_exporter": "python",
   "pygments_lexer": "ipython3",
   "version": "3.11.0"
  }
 },
 "nbformat": 4,
 "nbformat_minor": 5
}
