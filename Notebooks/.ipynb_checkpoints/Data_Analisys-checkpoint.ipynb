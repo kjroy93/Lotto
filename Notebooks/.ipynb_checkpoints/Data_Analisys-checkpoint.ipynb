{
 "cells": [
  {
   "cell_type": "code",
   "execution_count": null,
   "id": "262565d5",
   "metadata": {},
   "outputs": [],
   "source": [
    "# Libraries\n",
    "from data_functions import *\n",
    "from collections import Counter\n",
    "from decimal import Decimal, ROUND_HALF_UP, getcontext\n",
    "getcontext().prec = 5\n",
    "np.set_printoptions(precision=5)"
   ]
  },
  {
   "cell_type": "code",
   "execution_count": null,
   "id": "34d6aebf",
   "metadata": {},
   "outputs": [],
   "source": [
    "import sys\n",
    "print(sys.path)"
   ]
  },
  {
   "cell_type": "code",
   "execution_count": null,
   "id": "1890f9a1",
   "metadata": {
    "scrolled": false
   },
   "outputs": [],
   "source": [
    "# Load the data base and obtain the first DataFrame\n",
    "db = pd.read_parquet('C:\\Proyectos\\Loteria\\DataBase\\db.parquet')\n",
    "winning_numbers = db.iloc[:, 2:7]\n",
    "winning_stars = db.iloc[:, 7:9]\n",
    "total_numbers = np.arange(1,51)\n",
    "total_stars = np.arange(1,13)\n",
    "\n",
    "# Create a template DataFrame with all values set to False\n",
    "skip_winners_bool = pd.DataFrame(False, columns=[str(i) for i in range(1,51)], index=range(len(winning_numbers)))\n",
    "\n",
    "# Fill in the True values\n",
    "for e in range(1, 6):\n",
    "    col_name = f\"Nro{e}\"\n",
    "    skip_winners_bool = skip_winners_bool | (winning_numbers[col_name].to_numpy()[:, None] == total_numbers)\n",
    "\n",
    "# Add an extra row, in order to compare the number that did not appear for the first time in the game history\n",
    "d_0 = pd.DataFrame(columns = [str(i) for i in range(1,51)], index=[0]).fillna(True)\n",
    "\n",
    "# Create the final DataFrame\n",
    "skip_winners = pd.concat([d_0, skip_winners_bool]).reset_index(drop=True)\n",
    "\n",
    "# Year History for numbers and stars\n",
    "numbers_year_history, total_hits = data_functions.year_hits(db, winning_numbers, total_numbers)\n",
    "ny_mean = pd.DataFrame(numbers_year_history.mean(), columns=['Average']).T.rename(index={'0': 'Average'})\n",
    "ny_median = pd.DataFrame(numbers_year_history.median(), columns=['Median']).T.rename(index={'0': 'Median'}).applymap(lambda x:(int(x+0.5)))\n",
    "numbers_year_history = pd.concat([ny_median, ny_mean, numbers_year_history])\n",
    "\n",
    "# Average of hits per numbers\n",
    "numbers_average = data_functions.average_hits(db, total_hits, total_numbers)\n",
    "\n",
    "aprox_rotation_BN_low, aprox_rotation_BN_high, exact_rotation_BN_low, exact_rotation_BN_high = data_functions.get_rotations(db, total_hits, total_numbers, numbers_average, is_star=False)"
   ]
  },
  {
   "cell_type": "code",
   "execution_count": null,
   "id": "b9773872",
   "metadata": {},
   "outputs": [],
   "source": [
    "# It creates the list of draws, numbers and the dictionary to obtain the amount of skips per number if wins and looses.\n",
    "draws = np.arange(1, len(skip_winners))\n",
    "numbers = [str(num) for num in range(1, 51)]\n",
    "dicts = {e: data_functions.count_skips(skip_winners.iloc[:e], numbers) for e in draws}\n",
    "\n",
    "skip_numbers = pd.DataFrame.from_dict(dicts, orient='index')"
   ]
  },
  {
   "cell_type": "code",
   "execution_count": null,
   "id": "7a4fef1f",
   "metadata": {},
   "outputs": [],
   "source": [
    "# Order the last draw for skips:\n",
    "last_draw = sorted(dicts[len(skip_numbers)].items(), key=lambda x: x[1])\n",
    "last_draw = pd.DataFrame({'Numero': [x[0] for x in last_draw], 'Skips': [int(x[1]) for x in last_draw]})\n",
    "\n",
    "# Select the last 12 draws\n",
    "last_12_draws = np.arange(len(skip_numbers) - 12, len(skip_numbers) + 1)\n",
    "sk_12 = skip_numbers.loc[last_12_draws]\n",
    "\n",
    "# This establish the skips of the last 12 draws\n",
    "skips = np.arange(0,19)\n",
    "aus_12 = [sk_12.loc[i - 1, str(column)] for i in last_12_draws[1:13] for column in sk_12 if sk_12.loc[i, str(column)] == 0]\n",
    "counter_7 = Counter(aus_12[25:60])\n",
    "counter_12 = Counter(aus_12)\n",
    "last_7 = [counter_7.get(i,0) for i in skips]\n",
    "last_12 = [counter_12.get(i,0) for i in skips]\n",
    "skips_7_12 = pd.DataFrame({'7': last_7, '12': last_12})"
   ]
  },
  {
   "cell_type": "code",
   "execution_count": null,
   "id": "30385301",
   "metadata": {},
   "outputs": [],
   "source": [
    "groups = np.arange(1, 51, 10)\n",
    "group_names = [tuple(range(i, i + 10)) for i in groups]\n",
    "results_list = [np.sum(np.isin(row, group_names), axis=0) for row in winning_numbers.values]\n",
    "results_df = pd.DataFrame(results_list, columns=[f'{i}_to_{i+9}' for i in groups])\n",
    "future_sg_10 = (results_df.iloc[-9:] > 0).sum()\n",
    "future_sg_5 = (results_df.iloc[-4:] > 0).sum()\n",
    "future_groups_df = pd.DataFrame({'10_games': future_sg_10, '5_games': future_sg_5}).T"
   ]
  },
  {
   "cell_type": "code",
   "execution_count": null,
   "id": "abc337bd",
   "metadata": {},
   "outputs": [],
   "source": [
    "years = db['Dates'].dt.year.to_frame()\n",
    "years = years.rename(columns={'Dates': 'Years'})\n",
    "months = db['Dates'].dt.month.to_frame()\n",
    "months = months.rename(columns={'Dates': 'Month'})\n",
    "year_month = pd.concat([years, months, winning_numbers], axis=1)\n",
    "series_dates = year_month.melt(id_vars=['Years', 'Month'], var_name='Data', value_vars=['Nro1', 'Nro2', 'Nro3', 'Nro4', 'Nro5'])\n",
    "df_dates = series_dates.groupby(['Years', 'Month', 'Data'])['value'].value_counts().unstack(fill_value=0)\n",
    "cols = ['Nro1', 'Nro2', 'Nro3', 'Nro4', 'Nro5']\n",
    "month_history = df_dates[df_dates.index.get_level_values('Data').isin(cols)].groupby(level=['Years', 'Month']).sum()"
   ]
  },
  {
   "cell_type": "code",
   "execution_count": null,
   "id": "b3d2ae81",
   "metadata": {},
   "outputs": [],
   "source": [
    "COMBINATIONS = [(3,2), (2,3), (1,4), (4,1), (0,5), (5,0)]\n",
    "low_high, odd_even = data_functions.combination_count(db, total_numbers, winning_numbers)\n",
    "low_high_df, odd_even_df = data_functions.combination_df(db, low_high, odd_even)\n",
    "low_high = pd.DataFrame(low_high)\n",
    "odd_even = pd.DataFrame(odd_even)\n",
    "LHOE = pd.concat([low_high, odd_even], axis=1)\n",
    "LHOE.columns = ['L', 'H', 'O', 'E']\n",
    "low_high = LHOE.iloc[:, 0:2]\n",
    "odd_even = LHOE.iloc[:, 2:4]"
   ]
  },
  {
   "cell_type": "code",
   "execution_count": null,
   "id": "0a017ebb",
   "metadata": {},
   "outputs": [],
   "source": [
    "last_year = db['Dates'].iloc[-1]\n",
    "current_year = last_year.year\n",
    "year_info = numbers_year_history.loc[['Median', 'Average', current_year], :50]\n",
    "year_criteria = {key: [] for key in total_numbers}\n",
    "df_median = year_info.loc['Median']\n",
    "df_average = year_info.loc['Average']\n",
    "\n",
    "for number in total_numbers:\n",
    "    x = year_info.at[current_year, number]\n",
    "    median_half = df_median[number] / 2\n",
    "\n",
    "    if x == 0 or x <= median_half:\n",
    "        y = round((1 - ((df_median[number] * 100) / df_average[number]) / 100), 2)\n",
    "    else:\n",
    "        x_percentage = round((x * 100 / df_average[number]) / 100, 2)\n",
    "        y = round((1 - x_percentage if x_percentage > 1 else 1 - x_percentage), 2)\n",
    "\n",
    "    if np.isnan(y):\n",
    "        y = 0\n",
    "\n",
    "    year_criteria[number] = float(y)\n",
    "    \n",
    "year_criteria = pd.DataFrame.from_dict(year_criteria, orient='index', columns=['year_criteria'])"
   ]
  },
  {
   "cell_type": "code",
   "execution_count": null,
   "id": "811f6dc9",
   "metadata": {},
   "outputs": [],
   "source": [
    "df_aprox = pd.concat([aprox_rotation_BN_low, aprox_rotation_BN_high])\n",
    "df_exact = pd.concat([exact_rotation_BN_low, exact_rotation_BN_high])\n",
    "best_numbers = df_aprox[df_aprox['Hits'] > df_aprox['Hits_Needed']].index.tolist()\n",
    "normal_numbers = df_exact[(df_exact['Hits'] > df_exact['Hits_Needed']) & ~(df_exact.index.isin(best_numbers))].index.tolist()\n",
    "missing_numbers = sorted(list(set(range(1,51)) - set(best_numbers) - set(normal_numbers)))\n",
    "\n",
    "rotation_info = {}\n",
    "for number in total_numbers:\n",
    "    if number in best_numbers:\n",
    "        rotation_info[number] = 2\n",
    "    elif number in normal_numbers:\n",
    "        rotation_info[number] = 1\n",
    "    elif number in missing_numbers:\n",
    "        rotation_info[number] = 0\n",
    "\n",
    "current_hits_needed = data_functions.minimal_hits(db, numbers_hits, total_numbers, numbers_average, aprox=True)\n",
    "\n",
    "for draw in range(len(db['Sorteos'])+1, len(db['Sorteos'])+12):\n",
    "    draw_until_rotation = draw * data_functions.minimal_hits(db, numbers_hits, total_numbers, numbers_average, aprox=True) / len(db)\n",
    "    if draw_until_rotation > int(current_hits_needed) + 1:\n",
    "        rotation_hit = draw\n",
    "        break\n",
    "\n",
    "rotation_criteria = {key:[] for key in total_numbers}\n",
    "for i in total_numbers:\n",
    "    category = rotation_info[i]\n",
    "    if category == 1 and df_exact.at[i, 'Difference'] > 0.50:\n",
    "        rotation_criteria[i] = 0.50\n",
    "    elif category == 1 and df_exact.at[i, 'Difference'] > -1 and df_exact.at[i, 'Difference'] <= 0.40:\n",
    "        x = (abs(df_exact.at[i, 'Difference']) + (Decimal('0.5') * Decimal('100')) / Decimal('0.50')) / Decimal('100') + Decimal('0.50')\n",
    "        rotation_criteria[i] = float(x.quantize(Decimal('0.01'), rounding=ROUND_HALF_UP))\n",
    "    elif category == 2 and df_aprox.at[i, 'Hits'] > current_hits_needed:\n",
    "        rotation_criteria[i] = 1\n",
    "    elif category == 2 and df_aprox.at[i, 'Difference'] > -1 and rotation_hit - len(db) < 4 and len(best_numbers) < 17:\n",
    "        x = (abs(df_exact.at[i, 'Difference']) * Decimal('100')) / Decimal('1.00') / Decimal('100') + Decimal('1')\n",
    "        rotation_criteria[i] = float(x.quantize(Decimal('0.01'), rounding=ROUND_HALF_UP))\n",
    "    else:\n",
    "        rotation_criteria[i] = 0.25\n",
    "\n",
    "rotation_criteria = pd.DataFrame.from_dict(rotation_criteria, orient='index', columns=['rotation_criteria'])"
   ]
  },
  {
   "cell_type": "code",
   "execution_count": null,
   "id": "a357627e",
   "metadata": {},
   "outputs": [],
   "source": [
    "future_groups_df.columns = [1,2,3,4,5]\n",
    "\n",
    "gp10 = {}\n",
    "for column, gp in future_groups_df.loc['10_games'].items():\n",
    "    if gp >= 2 and gp <= 4:\n",
    "        gp10[tuple(range(1 + 10*(column-1), 11 + 10*(column-1)))] = 1\n",
    "    elif gp == 5:\n",
    "        gp10[tuple(range(1 + 10*(column-1), 11 + 10*(column-1)))] = 0.70\n",
    "    elif gp == 6:\n",
    "        gp10[tuple(range(1 + 10*(column-1), 11 + 10*(column-1)))] = 0.675\n",
    "    elif gp == 7:\n",
    "        gp10[tuple(range(1 + 10*(column-1), 11 + 10*(column-1)))] = 0.650\n",
    "    elif gp == 8:\n",
    "        gp10[tuple(range(1 + 10*(column-1), 11 + 10*(column-1)))] = 0.625\n",
    "    elif gp == 9:\n",
    "        gp10[tuple(range(1 + 10*(column-1), 11 + 10*(column-1)))] = 0.6\n",
    "    elif gp == 10:\n",
    "        gp10[tuple(range(1 + 10*(column-1), 11 + 10*(column-1)))] = 0.5\n",
    "\n",
    "gp10_df = pd.DataFrame.from_dict(gp10, orient='index').T\n",
    "gp10_df.columns = ['{}_to_{}'.format(i,i+9) for i in range(1,51,10)]\n",
    "gp10_df = gp10_df.rename(index={0: 'Criteria'})\n",
    "\n",
    "numbers = [0] * 50\n",
    "for i, group in enumerate(groups):\n",
    "    gn = group\n",
    "    for number in total_numbers:\n",
    "        if number in gn:\n",
    "            numbers[number-1] = gp10_df.iloc[0, i]\n",
    "\n",
    "index_labels = range(1,51)\n",
    "group_criteria_dict = dict(zip(index_labels, numbers))\n",
    "group_criteria = pd.DataFrame.from_dict(group_criteria_dict, orient='index', columns=['group_criteria'])"
   ]
  },
  {
   "cell_type": "code",
   "execution_count": null,
   "id": "b230a1e4",
   "metadata": {},
   "outputs": [],
   "source": [
    "skips_7_12['values_7'] = skips_7_12['7'].apply(data_functions.games_7)\n",
    "skips_7_12['values_12'] = skips_7_12['12'].apply(data_functions.games_12)\n",
    "position_criteria = {key: [] for key in total_numbers}\n",
    "\n",
    "game0 = 0.5\n",
    "if skips_7_12.iloc[0,0] <= 5:\n",
    "    skips_7_12.iloc[0,2] = game0\n",
    "    \n",
    "for i, key in zip(last_draw.iloc[:,1], last_draw.iloc[:,0]):\n",
    "    value_added = False\n",
    "    for e, value in enumerate(skips_7_12.iloc[:,2]):\n",
    "        if skips_7_12.iloc[e,0] <= 7 and e == i:\n",
    "            position_criteria[int(key)] = value\n",
    "            value_added = True\n",
    "        elif skips_7_12.iloc[e,0] >= 8 and e == i:\n",
    "            value = skips_7_12.iloc[e,3]\n",
    "            position_criteria[int(key)] = value\n",
    "            value_added = True\n",
    "    if not value_added:\n",
    "        if len(last_draw.loc[last_draw['Skips'] <= 12]) <= 38:\n",
    "            position_criteria[int(key)] = 1\n",
    "        else:\n",
    "            position_criteria[int(key)] = 0.25\n",
    "\n",
    "position_criteria = pd.DataFrame.from_dict(position_criteria, orient='index', columns=['position_criteria'])"
   ]
  },
  {
   "cell_type": "code",
   "execution_count": null,
   "id": "749ce3a7",
   "metadata": {},
   "outputs": [],
   "source": [
    "skips_7_12"
   ]
  },
  {
   "cell_type": "code",
   "execution_count": null,
   "id": "48e14f67",
   "metadata": {},
   "outputs": [],
   "source": [
    "position_criteria"
   ]
  },
  {
   "cell_type": "code",
   "execution_count": null,
   "id": "1cc9eb2f",
   "metadata": {},
   "outputs": [],
   "source": [
    "df_numbers = pd.concat([year_criteria, rotation_criteria, group_criteria, position_criteria], axis=1)\n",
    "df_numbers['evaluation'] = df_numbers.apply(lambda row: row['year_criteria'] + row['rotation_criteria'] + row['group_criteria'] + row['position_criteria'], axis=1)\n",
    "tomorrow_numbers = df_numbers[['evaluation']]\n",
    "tomorrow_numbers = tomorrow_numbers.sort_values(by='evaluation', ascending=False)\n",
    "criterion = tomorrow_numbers['evaluation'].median()\n",
    "recommended_numbers = tomorrow_numbers.loc[tomorrow_numbers['evaluation'] >= criterion]\n",
    "not_recommended_numbers = tomorrow_numbers.loc[tomorrow_numbers['evaluation'] < criterion]"
   ]
  },
  {
   "cell_type": "code",
   "execution_count": null,
   "id": "d73bfa9f",
   "metadata": {},
   "outputs": [],
   "source": [
    "recommended_numbers"
   ]
  },
  {
   "cell_type": "code",
   "execution_count": null,
   "id": "c8fee24d",
   "metadata": {},
   "outputs": [],
   "source": [
    "not_recommended_numbers"
   ]
  },
  {
   "cell_type": "code",
   "execution_count": null,
   "id": "bff79046",
   "metadata": {},
   "outputs": [],
   "source": []
  }
 ],
 "metadata": {
  "kernelspec": {
   "display_name": "Python 3 (ipykernel)",
   "language": "python",
   "name": "python3"
  },
  "language_info": {
   "codemirror_mode": {
    "name": "ipython",
    "version": 3
   },
   "file_extension": ".py",
   "mimetype": "text/x-python",
   "name": "python",
   "nbconvert_exporter": "python",
   "pygments_lexer": "ipython3",
   "version": "3.11.0"
  }
 },
 "nbformat": 4,
 "nbformat_minor": 5
}
