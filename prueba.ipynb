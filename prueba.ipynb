{
 "cells": [
  {
   "cell_type": "code",
   "execution_count": null,
   "metadata": {},
   "outputs": [],
   "source": [
    "from DataBase.clean_database import database\n",
    "from data_analisys.data_functions import *\n",
    "import pandas as pd\n",
    "import numpy as np"
   ]
  },
  {
   "cell_type": "code",
   "execution_count": null,
   "metadata": {},
   "outputs": [],
   "source": [
    "class Analisis:\n",
    "    def __init__(self):\n",
    "        self.df = database()\n",
    "        self.loteria = self.df.copy()\n",
    "        self.loteria['year'] = self.loteria.Dates.apply(lambda x: x.year)\n",
    "        self.loteria = self.loteria.drop(columns=['Dates','Sorteo','Star_1','Star_2'])\n",
    "        self.new_loteria = pd.DataFrame(columns=[i for i in range(1,51)],\n",
    "                                        index=np.arange(self.loteria['year'].iloc[0],self.loteria['year'].iloc[-1]+1))\n",
    "    \n",
    "    def __transformacion_en_columnas(self,row):\n",
    "        for sorteo in range(1,6):\n",
    "            if not np.isnan(self.new_loteria.loc[row.year,row[f'Nro{sorteo}']]):\n",
    "                self.new_loteria.loc[row.year,row[f'Nro{sorteo}']] += 1\n",
    "            else:\n",
    "                self.new_loteria.loc[row.year,row[f'Nro{sorteo}']] = 1\n",
    "    \n",
    "    def apply_transformacion(self):\n",
    "        self.loteria.apply(self.__transformacion_en_columnas,axis=1)\n",
    "        self.new_loteria.fillna(0,inplace=True)\n",
    "\n",
    "        self.hits = self.new_loteria.sum().to_frame().rename(columns={0: 'hits'}).T.astype('int32')\n",
    "        self.mean = self.new_loteria.mean().to_frame().rename(columns={0: 'mean'}).T.astype('int32')\n",
    "        self.median = self.new_loteria.median().to_frame().rename(columns={0: 'median'}).T.astype('int32')\n",
    "\n",
    "    def calculate_average_hits(self,is_star=False):\n",
    "        divide = 5 if not is_star else 2\n",
    "        average = round(self.hits.iloc[0][self.new_loteria.columns] / len(self.loteria) / divide, 6)\n",
    "        self.average_hits = pd.DataFrame(columns = self.new_loteria.columns, \n",
    "                            data = [average], \n",
    "                            index = ['numbers/stars'])"
   ]
  },
  {
   "cell_type": "code",
   "execution_count": null,
   "metadata": {},
   "outputs": [],
   "source": [
    "euromillones = Analisis()\n",
    "euromillones.apply_transformacion()\n",
    "euromillones.calculate_average_hits()"
   ]
  }
 ],
 "metadata": {
  "language_info": {
   "name": "python"
  },
  "orig_nbformat": 4
 },
 "nbformat": 4,
 "nbformat_minor": 2
}
